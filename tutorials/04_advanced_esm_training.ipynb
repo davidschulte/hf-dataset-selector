{
 "cells": [
  {
   "cell_type": "markdown",
   "id": "9b02a23d",
   "metadata": {},
   "source": [
    "# Tutorial 4: Advanced ESM training with hyper-parameter optimization"
   ]
  },
  {
   "cell_type": "markdown",
   "id": "403705be",
   "metadata": {},
   "source": [
    "In this tutorial, we will include hyper-parameter optimization in the ESM training process. In order to this more efficiently, we first compute the EmbeddingDataset once and store it. This allows us to quickly train many ESM versions using cross-validation.\n",
    "\n",
    "We will use the Optuna framework for hyper-parameter optimization. But feel free to use any package / implementation that suits your needs."
   ]
  },
  {
   "cell_type": "code",
   "execution_count": 1,
   "id": "1534ccde",
   "metadata": {},
   "outputs": [
    {
     "name": "stdout",
     "output_type": "stream",
     "text": [
      "Requirement already satisfied: optuna in /Users/davidschulte/anaconda3/lib/python3.11/site-packages (4.2.0)\n",
      "Requirement already satisfied: alembic>=1.5.0 in /Users/davidschulte/anaconda3/lib/python3.11/site-packages (from optuna) (1.14.1)\n",
      "Requirement already satisfied: colorlog in /Users/davidschulte/anaconda3/lib/python3.11/site-packages (from optuna) (6.9.0)\n",
      "Requirement already satisfied: numpy in /Users/davidschulte/anaconda3/lib/python3.11/site-packages (from optuna) (1.26.4)\n",
      "Requirement already satisfied: packaging>=20.0 in /Users/davidschulte/anaconda3/lib/python3.11/site-packages (from optuna) (23.1)\n",
      "Requirement already satisfied: sqlalchemy>=1.4.2 in /Users/davidschulte/anaconda3/lib/python3.11/site-packages (from optuna) (1.4.39)\n",
      "Requirement already satisfied: tqdm in /Users/davidschulte/anaconda3/lib/python3.11/site-packages (from optuna) (4.67.1)\n",
      "Requirement already satisfied: PyYAML in /Users/davidschulte/anaconda3/lib/python3.11/site-packages (from optuna) (6.0)\n",
      "Requirement already satisfied: Mako in /Users/davidschulte/anaconda3/lib/python3.11/site-packages (from alembic>=1.5.0->optuna) (1.3.8)\n",
      "Requirement already satisfied: typing-extensions>=4 in /Users/davidschulte/anaconda3/lib/python3.11/site-packages (from alembic>=1.5.0->optuna) (4.12.2)\n",
      "Requirement already satisfied: MarkupSafe>=0.9.2 in /Users/davidschulte/anaconda3/lib/python3.11/site-packages (from Mako->alembic>=1.5.0->optuna) (2.1.1)\n",
      "Requirement already satisfied: scikit-learn in /Users/davidschulte/anaconda3/lib/python3.11/site-packages (1.3.0)\n",
      "Requirement already satisfied: numpy>=1.17.3 in /Users/davidschulte/anaconda3/lib/python3.11/site-packages (from scikit-learn) (1.26.4)\n",
      "Requirement already satisfied: scipy>=1.5.0 in /Users/davidschulte/anaconda3/lib/python3.11/site-packages (from scikit-learn) (1.15.0)\n",
      "Requirement already satisfied: joblib>=1.1.1 in /Users/davidschulte/anaconda3/lib/python3.11/site-packages (from scikit-learn) (1.2.0)\n",
      "Requirement already satisfied: threadpoolctl>=2.0.0 in /Users/davidschulte/anaconda3/lib/python3.11/site-packages (from scikit-learn) (2.2.0)\n"
     ]
    }
   ],
   "source": [
    "!pip install optuna\n",
    "!pip install scikit-learn"
   ]
  },
  {
   "cell_type": "code",
   "execution_count": 2,
   "id": "a5d5d3cf",
   "metadata": {},
   "outputs": [],
   "source": [
    "from hfselect import Dataset, create_embedding_dataset, ESMTrainer, EmbeddingDataset\n",
    "from transformers import BertModel, BertTokenizer\n",
    "from sklearn.model_selection import KFold\n",
    "from sklearn.metrics import mean_squared_error\n",
    "import torch\n",
    "from torch.utils.data import SequentialSampler, DataLoader\n",
    "import optuna"
   ]
  },
  {
   "cell_type": "code",
   "execution_count": 3,
   "id": "437ee7b4",
   "metadata": {},
   "outputs": [],
   "source": [
    "device_name = \"cpu\"\n",
    "\n",
    "base_model = BertModel.from_pretrained(\"google-bert/bert-base-uncased\")\n",
    "tuned_model = BertModel.from_pretrained(\"prithivMLmods/Spam-Bert-Uncased\")\n",
    "\n",
    "tokenizer = BertTokenizer.from_pretrained(\"google-bert/bert-base-uncased\")"
   ]
  },
  {
   "cell_type": "code",
   "execution_count": 4,
   "id": "b8fa57dc",
   "metadata": {},
   "outputs": [],
   "source": [
    "dataset = Dataset.from_hugging_face(\n",
    "    name=\"prithivMLmods/Spam-Text-Detect-Analysis\",\n",
    "    split=\"train\",\n",
    "    text_col=\"Message\",\n",
    "    label_col=\"Category\",\n",
    "    is_regression=False,\n",
    "    num_examples=1000\n",
    ")"
   ]
  },
  {
   "cell_type": "markdown",
   "id": "4abfc523",
   "metadata": {},
   "source": [
    "In the previous tutorial, the EmbeddingDataset was created internally and not saved. This time, we will create it explicitely in order to use it for many train iterations with different hyper-parameters."
   ]
  },
  {
   "cell_type": "code",
   "execution_count": 10,
   "id": "c7495b2b",
   "metadata": {},
   "outputs": [
    {
     "name": "stderr",
     "output_type": "stream",
     "text": [
      "Computing embedding dataset: 100%|██████████████████████████████████████████████████████████████████████████████████████████████████████████████████████████████████████████████| 8/8 [02:47<00:00, 20.99s/batch]\n"
     ]
    }
   ],
   "source": [
    "embedding_dataset = create_embedding_dataset(\n",
    "    dataset=dataset,\n",
    "    base_model=base_model,\n",
    "    tuned_model=tuned_model,\n",
    "    tokenizer=tokenizer,\n",
    "    device_name=device_name\n",
    ")"
   ]
  },
  {
   "cell_type": "code",
   "execution_count": 5,
   "id": "4a73ca6b",
   "metadata": {},
   "outputs": [],
   "source": [
    "embedding_dataset.save(\"./embedding_dataset_test.npz\")\n",
    "#embedding_dataset = EmbeddingDataset.from_disk(\"./embedding_dataset_test.npz\")"
   ]
  },
  {
   "cell_type": "markdown",
   "id": "97d294c2",
   "metadata": {},
   "source": [
    "We define the space of hyper-parameters, the train loop and the objective."
   ]
  },
  {
   "cell_type": "markdown",
   "id": "93d98e7d",
   "metadata": {},
   "source": [
    "# Hyper-parameter search"
   ]
  },
  {
   "cell_type": "code",
   "execution_count": 8,
   "id": "eda1dc6c",
   "metadata": {},
   "outputs": [],
   "source": [
    "def objective(trial, k_folds=5):\n",
    "    num_epochs = trial.suggest_int(\"num_epochs\", 3, 20)\n",
    "    learning_rate = trial.suggest_float('learning_rate', 1e-5, 1, log=True)\n",
    "    weight_decay = trial.suggest_float('weight_decay', 1e-5, 1, log=True)\n",
    "    batch_size = trial.suggest_int('batch_size', 8, 32)\n",
    "\n",
    "    trainer = ESMTrainer(weight_decay=weight_decay, learning_rate=learning_rate, device_name=device_name)\n",
    "\n",
    "    kfold = KFold(n_splits=k_folds, shuffle=True)\n",
    "    fold_results = []\n",
    "\n",
    "    # Start print\n",
    "    print('--------------------------------')\n",
    "\n",
    "    # K-fold Cross Validation model evaluation\n",
    "    for fold, (train_ids, test_ids) in enumerate(kfold.split(dataset)):\n",
    "        train_split = embedding_dataset[train_ids]\n",
    "        test_split = embedding_dataset[test_ids]\n",
    "        test_split_x, test_split_y = test_split.x, test_split\n",
    "\n",
    "        esm = trainer.train_with_embeddings(\n",
    "            embedding_dataset=train_split,\n",
    "            num_epochs=num_epochs,\n",
    "            batch_size=batch_size,\n",
    "            verbose=0\n",
    "        )\n",
    "\n",
    "        sampler = SequentialSampler(test_split)\n",
    "        test_loader = DataLoader(\n",
    "            test_split,\n",
    "            sampler=sampler,\n",
    "            batch_size=128\n",
    "        )\n",
    "\n",
    "        fold_mse = 0\n",
    "        for batch in test_loader:\n",
    "            batch_base_embeddings, batch_transformed_embeddings = batch\n",
    "            with torch.no_grad():\n",
    "                transformed_embeddings = esm(batch_base_embeddings).detach().numpy()\n",
    "            batch_mse = mean_squared_error(transformed_embeddings, batch_transformed_embeddings)\n",
    "            fold_mse += batch_mse * len(batch) / len(test_loader)\n",
    "\n",
    "        fold_results.append(fold_mse)\n",
    "\n",
    "    return sum(fold_results) / len(fold_results)\n"
   ]
  },
  {
   "cell_type": "markdown",
   "id": "68a8d5d0",
   "metadata": {},
   "source": [
    "In this example, we will use a Gaussian Process Sampler for selecting hyper-parameters."
   ]
  },
  {
   "cell_type": "code",
   "execution_count": 9,
   "id": "b43a5dc4",
   "metadata": {
    "scrolled": true
   },
   "outputs": [
    {
     "name": "stderr",
     "output_type": "stream",
     "text": [
      "/var/folders/sc/d3fzv_49779fy13nx6hw91lh0000gn/T/ipykernel_13807/521289487.py:2: ExperimentalWarning: GPSampler is experimental (supported from v3.6.0). The interface can change in the future.\n",
      "  study = optuna.create_study(direction=\"minimize\", sampler=optuna.samplers.GPSampler(seed=42))\n",
      "[I 2025-03-02 11:43:49,540] A new study created in memory with name: no-name-1e9ccd79-a1f0-4131-a1d2-f25734ee0858\n"
     ]
    }
   ],
   "source": [
    "#study = optuna.create_study(direction=\"minimize\", sampler=optuna.samplers.RandomSampler(seed=42))\n",
    "study = optuna.create_study(direction=\"minimize\", sampler=optuna.samplers.GPSampler(seed=42))"
   ]
  },
  {
   "cell_type": "markdown",
   "id": "15c2bdac",
   "metadata": {},
   "source": [
    "We start the training."
   ]
  },
  {
   "cell_type": "code",
   "execution_count": 10,
   "id": "ff5f9dbd",
   "metadata": {
    "scrolled": true
   },
   "outputs": [
    {
     "data": {
      "application/vnd.jupyter.widget-view+json": {
       "model_id": "7a68caa945e648e98f4a9b9cd2329d9e",
       "version_major": 2,
       "version_minor": 0
      },
      "text/plain": [
       "  0%|          | 0/100 [00:00<?, ?it/s]"
      ]
     },
     "metadata": {},
     "output_type": "display_data"
    },
    {
     "name": "stdout",
     "output_type": "stream",
     "text": [
      "--------------------------------\n",
      "[I 2025-03-02 11:43:58,557] Trial 0 finished with value: 0.21443050354719162 and parameters: {'num_epochs': 9, 'learning_rate': 0.566984951147885, 'weight_decay': 0.0457056309980145, 'batch_size': 22}. Best is trial 0 with value: 0.21443050354719162.\n",
      "--------------------------------\n",
      "[I 2025-03-02 11:44:01,017] Trial 1 finished with value: 0.29433411210775373 and parameters: {'num_epochs': 5, 'learning_rate': 6.025215736203858e-05, 'weight_decay': 1.951722464144947e-05, 'batch_size': 29}. Best is trial 0 with value: 0.21443050354719162.\n",
      "--------------------------------\n",
      "[I 2025-03-02 11:44:08,637] Trial 2 finished with value: 0.08357351049780845 and parameters: {'num_epochs': 13, 'learning_rate': 0.034702669886504146, 'weight_decay': 1.2674255898937214e-05, 'batch_size': 32}. Best is trial 2 with value: 0.08357351049780845.\n",
      "--------------------------------\n",
      "[I 2025-03-02 11:44:22,904] Trial 3 finished with value: 0.1585923619568348 and parameters: {'num_epochs': 17, 'learning_rate': 0.00011526449540315612, 'weight_decay': 8.111941985431919e-05, 'batch_size': 12}. Best is trial 2 with value: 0.08357351049780845.\n",
      "--------------------------------\n",
      "[I 2025-03-02 11:44:27,937] Trial 4 finished with value: 0.09208958595991135 and parameters: {'num_epochs': 8, 'learning_rate': 0.00420515645091387, 'weight_decay': 0.0014445251022763056, 'batch_size': 15}. Best is trial 2 with value: 0.08357351049780845.\n",
      "--------------------------------\n",
      "[I 2025-03-02 11:44:36,114] Trial 5 finished with value: 0.23093505650758744 and parameters: {'num_epochs': 14, 'learning_rate': 4.98275235707645e-05, 'weight_decay': 0.00028888383623653144, 'batch_size': 17}. Best is trial 2 with value: 0.08357351049780845.\n",
      "--------------------------------\n",
      "[I 2025-03-02 11:44:40,838] Trial 6 finished with value: 0.0895315632224083 and parameters: {'num_epochs': 11, 'learning_rate': 0.08431013932082466, 'weight_decay': 9.962513222055098e-05, 'batch_size': 20}. Best is trial 2 with value: 0.08357351049780845.\n",
      "--------------------------------\n",
      "[I 2025-03-02 11:44:53,780] Trial 7 finished with value: 0.27517361268401147 and parameters: {'num_epochs': 13, 'learning_rate': 1.7070728830306648e-05, 'weight_decay': 0.010907475835157693, 'batch_size': 12}. Best is trial 2 with value: 0.08357351049780845.\n",
      "--------------------------------\n",
      "[I 2025-03-02 11:44:55,830] Trial 8 finished with value: 0.35273203402757647 and parameters: {'num_epochs': 4, 'learning_rate': 0.5551721685244719, 'weight_decay': 0.6732248920775336, 'batch_size': 28}. Best is trial 2 with value: 0.08357351049780845.\n",
      "--------------------------------\n",
      "[I 2025-03-02 11:45:01,811] Trial 9 finished with value: 0.2849214643239975 and parameters: {'num_epochs': 8, 'learning_rate': 3.0786517836196185e-05, 'weight_decay': 0.026373339933815243, 'batch_size': 19}. Best is trial 2 with value: 0.08357351049780845.\n",
      "--------------------------------\n",
      "[I 2025-03-02 11:45:31,404] Trial 10 finished with value: 0.0762409970164299 and parameters: {'num_epochs': 16, 'learning_rate': 0.013392027055044694, 'weight_decay': 5.64516379364188e-05, 'batch_size': 8}. Best is trial 10 with value: 0.0762409970164299.\n",
      "--------------------------------\n",
      "[I 2025-03-02 11:45:45,420] Trial 11 finished with value: 0.07926800362765789 and parameters: {'num_epochs': 11, 'learning_rate': 0.011301477859424546, 'weight_decay': 1e-05, 'batch_size': 8}. Best is trial 10 with value: 0.0762409970164299.\n",
      "--------------------------------\n",
      "[I 2025-03-02 11:45:55,811] Trial 12 finished with value: 0.08034391328692436 and parameters: {'num_epochs': 14, 'learning_rate': 0.010648013931620355, 'weight_decay': 0.01120434075043897, 'batch_size': 17}. Best is trial 10 with value: 0.0762409970164299.\n",
      "--------------------------------\n",
      "[I 2025-03-02 11:46:07,652] Trial 13 finished with value: 0.3438532382249832 and parameters: {'num_epochs': 20, 'learning_rate': 0.4825285567167767, 'weight_decay': 1e-05, 'batch_size': 17}. Best is trial 10 with value: 0.0762409970164299.\n",
      "--------------------------------\n",
      "[I 2025-03-02 11:46:25,673] Trial 14 finished with value: 0.08200299590826035 and parameters: {'num_epochs': 16, 'learning_rate': 0.0031533177262184813, 'weight_decay': 1e-05, 'batch_size': 8}. Best is trial 10 with value: 0.0762409970164299.\n",
      "--------------------------------\n",
      "[I 2025-03-02 11:46:29,681] Trial 15 finished with value: 0.08837435692548752 and parameters: {'num_epochs': 11, 'learning_rate': 0.014186341072256326, 'weight_decay': 9.195318852786405e-05, 'batch_size': 26}. Best is trial 10 with value: 0.0762409970164299.\n",
      "--------------------------------\n",
      "[I 2025-03-02 11:46:52,861] Trial 16 finished with value: 0.11332080066204071 and parameters: {'num_epochs': 20, 'learning_rate': 0.001758107969385668, 'weight_decay': 1.0, 'batch_size': 8}. Best is trial 10 with value: 0.0762409970164299.\n",
      "--------------------------------\n",
      "[I 2025-03-02 11:47:11,480] Trial 17 finished with value: 0.0785882256925106 and parameters: {'num_epochs': 13, 'learning_rate': 0.02631768584777619, 'weight_decay': 1.5909031592698116e-05, 'batch_size': 8}. Best is trial 10 with value: 0.0762409970164299.\n",
      "--------------------------------\n",
      "[I 2025-03-02 11:47:22,251] Trial 18 finished with value: 0.1287364661693573 and parameters: {'num_epochs': 10, 'learning_rate': 0.009748628796346073, 'weight_decay': 1.0, 'batch_size': 8}. Best is trial 10 with value: 0.0762409970164299.\n",
      "--------------------------------\n",
      "[I 2025-03-02 11:47:27,758] Trial 19 finished with value: 0.09135561063885689 and parameters: {'num_epochs': 18, 'learning_rate': 0.0035991629744610894, 'weight_decay': 0.00016428336171699673, 'batch_size': 32}. Best is trial 10 with value: 0.0762409970164299.\n",
      "--------------------------------\n",
      "[I 2025-03-02 11:47:46,421] Trial 20 finished with value: 0.07804465666413307 and parameters: {'num_epochs': 15, 'learning_rate': 0.007451701987083012, 'weight_decay': 0.00034388479259615286, 'batch_size': 8}. Best is trial 10 with value: 0.0762409970164299.\n",
      "--------------------------------\n",
      "[I 2025-03-02 11:47:55,533] Trial 21 finished with value: 0.08892145827412605 and parameters: {'num_epochs': 6, 'learning_rate': 0.0071356857913574875, 'weight_decay': 1e-05, 'batch_size': 8}. Best is trial 10 with value: 0.0762409970164299.\n",
      "--------------------------------\n",
      "[I 2025-03-02 11:48:03,272] Trial 22 finished with value: 0.08097904920578003 and parameters: {'num_epochs': 15, 'learning_rate': 0.009843503327694443, 'weight_decay': 1e-05, 'batch_size': 20}. Best is trial 10 with value: 0.0762409970164299.\n",
      "--------------------------------\n",
      "[I 2025-03-02 11:48:08,433] Trial 23 finished with value: 0.11908312067389488 and parameters: {'num_epochs': 17, 'learning_rate': 0.012888810323988503, 'weight_decay': 1.0, 'batch_size': 32}. Best is trial 10 with value: 0.0762409970164299.\n",
      "--------------------------------\n",
      "[I 2025-03-02 11:49:28,900] Trial 24 finished with value: 0.08225952461361885 and parameters: {'num_epochs': 20, 'learning_rate': 0.0017434336458933128, 'weight_decay': 1e-05, 'batch_size': 8}. Best is trial 10 with value: 0.0762409970164299.\n",
      "--------------------------------\n",
      "[I 2025-03-02 11:49:39,599] Trial 25 finished with value: 0.08475029356777668 and parameters: {'num_epochs': 9, 'learning_rate': 0.0035989051793178383, 'weight_decay': 1e-05, 'batch_size': 8}. Best is trial 10 with value: 0.0762409970164299.\n",
      "--------------------------------\n",
      "[I 2025-03-02 11:49:48,071] Trial 26 finished with value: 0.07837462462484837 and parameters: {'num_epochs': 14, 'learning_rate': 0.020237138179491368, 'weight_decay': 0.0005138446442841786, 'batch_size': 15}. Best is trial 10 with value: 0.0762409970164299.\n",
      "--------------------------------\n",
      "[I 2025-03-02 11:50:06,272] Trial 27 finished with value: 0.07950513623654842 and parameters: {'num_epochs': 18, 'learning_rate': 0.004917839674320004, 'weight_decay': 1e-05, 'batch_size': 8}. Best is trial 10 with value: 0.0762409970164299.\n",
      "--------------------------------\n",
      "[I 2025-03-02 11:50:14,358] Trial 28 finished with value: 0.08258026801049709 and parameters: {'num_epochs': 9, 'learning_rate': 0.024241267807574785, 'weight_decay': 1e-05, 'batch_size': 8}. Best is trial 10 with value: 0.0762409970164299.\n"
     ]
    },
    {
     "name": "stdout",
     "output_type": "stream",
     "text": [
      "--------------------------------\n",
      "[I 2025-03-02 11:50:19,470] Trial 29 finished with value: 0.12005924135446548 and parameters: {'num_epochs': 20, 'learning_rate': 0.0005864417078183384, 'weight_decay': 1e-05, 'batch_size': 32}. Best is trial 10 with value: 0.0762409970164299.\n",
      "--------------------------------\n",
      "[I 2025-03-02 11:50:36,187] Trial 30 finished with value: 0.07924627214670181 and parameters: {'num_epochs': 17, 'learning_rate': 0.005490299934171491, 'weight_decay': 0.0005378956837723897, 'batch_size': 8}. Best is trial 10 with value: 0.0762409970164299.\n",
      "--------------------------------\n",
      "[I 2025-03-02 11:50:43,416] Trial 31 finished with value: 0.08049811348319054 and parameters: {'num_epochs': 15, 'learning_rate': 0.011772579500161395, 'weight_decay': 0.0002976994447658206, 'batch_size': 15}. Best is trial 10 with value: 0.0762409970164299.\n",
      "--------------------------------\n",
      "[I 2025-03-02 11:50:56,428] Trial 32 finished with value: 0.07405714839696884 and parameters: {'num_epochs': 15, 'learning_rate': 0.011076889363582386, 'weight_decay': 1e-05, 'batch_size': 8}. Best is trial 32 with value: 0.07405714839696884.\n",
      "--------------------------------\n",
      "[I 2025-03-02 11:51:07,856] Trial 33 finished with value: 0.08715742081403732 and parameters: {'num_epochs': 14, 'learning_rate': 0.0019208996772837798, 'weight_decay': 0.04090559769869345, 'batch_size': 8}. Best is trial 32 with value: 0.07405714839696884.\n",
      "--------------------------------\n",
      "[I 2025-03-02 11:51:24,972] Trial 34 finished with value: 0.08469488136470318 and parameters: {'num_epochs': 19, 'learning_rate': 0.0013257287029527062, 'weight_decay': 0.0007865001260912976, 'batch_size': 8}. Best is trial 32 with value: 0.07405714839696884.\n",
      "--------------------------------\n",
      "[I 2025-03-02 11:51:36,083] Trial 35 finished with value: 0.07955433987081051 and parameters: {'num_epochs': 12, 'learning_rate': 0.005404780669843671, 'weight_decay': 0.0013235940155637068, 'batch_size': 8}. Best is trial 32 with value: 0.07405714839696884.\n",
      "--------------------------------\n",
      "[I 2025-03-02 11:51:46,863] Trial 36 finished with value: 0.07795154340565205 and parameters: {'num_epochs': 12, 'learning_rate': 0.02289508819400748, 'weight_decay': 0.0008970677274904065, 'batch_size': 8}. Best is trial 32 with value: 0.07405714839696884.\n",
      "--------------------------------\n",
      "[I 2025-03-02 11:52:00,118] Trial 37 finished with value: 0.07706292979419231 and parameters: {'num_epochs': 15, 'learning_rate': 0.015357720878612724, 'weight_decay': 0.009417834771401611, 'batch_size': 8}. Best is trial 32 with value: 0.07405714839696884.\n",
      "--------------------------------\n",
      "[I 2025-03-02 11:52:02,615] Trial 38 finished with value: 0.08789623081684113 and parameters: {'num_epochs': 9, 'learning_rate': 0.05856166002730532, 'weight_decay': 1e-05, 'batch_size': 32}. Best is trial 32 with value: 0.07405714839696884.\n",
      "--------------------------------\n",
      "[I 2025-03-02 11:52:15,686] Trial 39 finished with value: 0.0747527789324522 and parameters: {'num_epochs': 15, 'learning_rate': 0.013675427694447632, 'weight_decay': 1e-05, 'batch_size': 8}. Best is trial 32 with value: 0.07405714839696884.\n",
      "--------------------------------\n",
      "[I 2025-03-02 11:52:30,502] Trial 40 finished with value: 0.0774317279458046 and parameters: {'num_epochs': 16, 'learning_rate': 0.00935237663363113, 'weight_decay': 1e-05, 'batch_size': 8}. Best is trial 32 with value: 0.07405714839696884.\n",
      "--------------------------------\n",
      "[I 2025-03-02 11:52:47,773] Trial 41 finished with value: 0.0733940176665783 and parameters: {'num_epochs': 20, 'learning_rate': 0.004034241775912632, 'weight_decay': 0.00032132993719432787, 'batch_size': 8}. Best is trial 41 with value: 0.0733940176665783.\n",
      "--------------------------------\n",
      "[I 2025-03-02 11:53:04,642] Trial 42 finished with value: 0.07909372337162494 and parameters: {'num_epochs': 20, 'learning_rate': 0.0033566278479214002, 'weight_decay': 0.00012476017016896718, 'batch_size': 8}. Best is trial 41 with value: 0.0733940176665783.\n",
      "--------------------------------\n",
      "[I 2025-03-02 11:53:24,553] Trial 43 finished with value: 0.0773922424763441 and parameters: {'num_epochs': 20, 'learning_rate': 0.005644121522614916, 'weight_decay': 0.00447455424005808, 'batch_size': 8}. Best is trial 41 with value: 0.0733940176665783.\n",
      "--------------------------------\n",
      "[I 2025-03-02 11:53:47,652] Trial 44 finished with value: 0.07697259783744811 and parameters: {'num_epochs': 20, 'learning_rate': 0.007707197217609839, 'weight_decay': 0.00034528935398704544, 'batch_size': 8}. Best is trial 41 with value: 0.0733940176665783.\n",
      "--------------------------------\n",
      "[I 2025-03-02 11:53:48,855] Trial 45 finished with value: 0.14054585248231888 and parameters: {'num_epochs': 3, 'learning_rate': 0.004919589680167446, 'weight_decay': 1e-05, 'batch_size': 32}. Best is trial 41 with value: 0.0733940176665783.\n",
      "--------------------------------\n",
      "[I 2025-03-02 11:53:56,653] Trial 46 finished with value: 0.18748915791511536 and parameters: {'num_epochs': 7, 'learning_rate': 0.17354535552124847, 'weight_decay': 1e-05, 'batch_size': 8}. Best is trial 41 with value: 0.0733940176665783.\n",
      "--------------------------------\n",
      "[I 2025-03-02 11:54:02,983] Trial 47 finished with value: 0.08429685123264789 and parameters: {'num_epochs': 12, 'learning_rate': 0.04967498389148957, 'weight_decay': 0.0020563970162250185, 'batch_size': 32}. Best is trial 41 with value: 0.0733940176665783.\n",
      "--------------------------------\n",
      "[I 2025-03-02 11:54:09,463] Trial 48 finished with value: 0.08468027971684933 and parameters: {'num_epochs': 20, 'learning_rate': 0.007695375008167859, 'weight_decay': 1e-05, 'batch_size': 32}. Best is trial 41 with value: 0.0733940176665783.\n",
      "--------------------------------\n",
      "[I 2025-03-02 11:54:13,338] Trial 49 finished with value: 0.14796990603208543 and parameters: {'num_epochs': 3, 'learning_rate': 0.0008938573665495067, 'weight_decay': 1.0, 'batch_size': 8}. Best is trial 41 with value: 0.0733940176665783.\n",
      "--------------------------------\n",
      "[I 2025-03-02 11:54:26,574] Trial 50 finished with value: 0.08990498036146163 and parameters: {'num_epochs': 11, 'learning_rate': 0.0015135405670900135, 'weight_decay': 0.0010668058160168308, 'batch_size': 8}. Best is trial 41 with value: 0.0733940176665783.\n",
      "--------------------------------\n",
      "[I 2025-03-02 11:54:36,488] Trial 51 finished with value: 0.0801982343196869 and parameters: {'num_epochs': 20, 'learning_rate': 0.005561382558511245, 'weight_decay': 0.0006319593304693629, 'batch_size': 19}. Best is trial 41 with value: 0.0733940176665783.\n",
      "--------------------------------\n",
      "[I 2025-03-02 11:54:54,726] Trial 52 finished with value: 0.07335403822362423 and parameters: {'num_epochs': 20, 'learning_rate': 0.006653216012204833, 'weight_decay': 1e-05, 'batch_size': 8}. Best is trial 52 with value: 0.07335403822362423.\n",
      "--------------------------------\n",
      "[I 2025-03-02 11:55:12,531] Trial 53 finished with value: 0.07442718297243119 and parameters: {'num_epochs': 20, 'learning_rate': 0.005978052323875027, 'weight_decay': 1e-05, 'batch_size': 8}. Best is trial 52 with value: 0.07335403822362423.\n",
      "--------------------------------\n",
      "[I 2025-03-02 11:55:32,435] Trial 54 finished with value: 0.07512830421328545 and parameters: {'num_epochs': 20, 'learning_rate': 0.008807653169721022, 'weight_decay': 1e-05, 'batch_size': 8}. Best is trial 52 with value: 0.07335403822362423.\n",
      "--------------------------------\n",
      "[I 2025-03-02 11:55:50,992] Trial 55 finished with value: 0.07465498372912407 and parameters: {'num_epochs': 20, 'learning_rate': 0.005969366329038561, 'weight_decay': 1e-05, 'batch_size': 8}. Best is trial 52 with value: 0.07335403822362423.\n",
      "--------------------------------\n",
      "[I 2025-03-02 11:56:04,133] Trial 56 finished with value: 0.07528278492391109 and parameters: {'num_epochs': 14, 'learning_rate': 0.013402777041368956, 'weight_decay': 0.0013816769994806728, 'batch_size': 8}. Best is trial 52 with value: 0.07335403822362423.\n",
      "--------------------------------\n",
      "[I 2025-03-02 11:56:17,041] Trial 57 finished with value: 0.07767384387552738 and parameters: {'num_epochs': 14, 'learning_rate': 0.03503866380496468, 'weight_decay': 0.004876383352174057, 'batch_size': 8}. Best is trial 52 with value: 0.07335403822362423.\n"
     ]
    },
    {
     "name": "stdout",
     "output_type": "stream",
     "text": [
      "--------------------------------\n",
      "[I 2025-03-02 11:56:36,299] Trial 58 finished with value: 0.08203751742839813 and parameters: {'num_epochs': 15, 'learning_rate': 0.002256811499992727, 'weight_decay': 0.0009334603570344453, 'batch_size': 8}. Best is trial 52 with value: 0.07335403822362423.\n",
      "--------------------------------\n",
      "[I 2025-03-02 11:56:55,408] Trial 59 finished with value: 0.26669165939092637 and parameters: {'num_epochs': 20, 'learning_rate': 1e-05, 'weight_decay': 1e-05, 'batch_size': 8}. Best is trial 52 with value: 0.07335403822362423.\n",
      "--------------------------------\n",
      "[I 2025-03-02 11:56:59,255] Trial 60 finished with value: 0.08196538127958775 and parameters: {'num_epochs': 11, 'learning_rate': 0.035514293168716675, 'weight_decay': 1e-05, 'batch_size': 23}. Best is trial 52 with value: 0.07335403822362423.\n",
      "--------------------------------\n",
      "[I 2025-03-02 11:57:12,131] Trial 61 finished with value: 0.07829885967075825 and parameters: {'num_epochs': 13, 'learning_rate': 0.005934746094176737, 'weight_decay': 1e-05, 'batch_size': 8}. Best is trial 52 with value: 0.07335403822362423.\n",
      "--------------------------------\n",
      "[I 2025-03-02 11:57:26,786] Trial 62 finished with value: 0.07337309196591377 and parameters: {'num_epochs': 14, 'learning_rate': 0.024375928384748675, 'weight_decay': 0.0006113701750806873, 'batch_size': 8}. Best is trial 52 with value: 0.07335403822362423.\n",
      "--------------------------------\n",
      "[I 2025-03-02 11:57:42,212] Trial 63 finished with value: 0.07535913549363613 and parameters: {'num_epochs': 14, 'learning_rate': 0.022696276136644055, 'weight_decay': 0.0008170918201723736, 'batch_size': 8}. Best is trial 52 with value: 0.07335403822362423.\n",
      "--------------------------------\n",
      "[I 2025-03-02 11:57:55,874] Trial 64 finished with value: 0.07548421286046506 and parameters: {'num_epochs': 16, 'learning_rate': 0.01853252839559867, 'weight_decay': 1e-05, 'batch_size': 8}. Best is trial 52 with value: 0.07335403822362423.\n",
      "--------------------------------\n",
      "[I 2025-03-02 11:58:13,952] Trial 65 finished with value: 0.1454940401017666 and parameters: {'num_epochs': 20, 'learning_rate': 0.00012739549773388854, 'weight_decay': 1.0, 'batch_size': 8}. Best is trial 52 with value: 0.07335403822362423.\n",
      "--------------------------------\n",
      "[I 2025-03-02 11:58:28,259] Trial 66 finished with value: 0.08041612580418586 and parameters: {'num_epochs': 15, 'learning_rate': 0.006169878083641603, 'weight_decay': 0.013400272946156198, 'batch_size': 8}. Best is trial 52 with value: 0.07335403822362423.\n",
      "--------------------------------\n",
      "[I 2025-03-02 11:58:45,516] Trial 67 finished with value: 0.07657604813575744 and parameters: {'num_epochs': 20, 'learning_rate': 0.005993783659225074, 'weight_decay': 8.122606191693902e-05, 'batch_size': 8}. Best is trial 52 with value: 0.07335403822362423.\n",
      "--------------------------------\n",
      "[I 2025-03-02 11:58:58,894] Trial 68 finished with value: 0.07590967826545239 and parameters: {'num_epochs': 15, 'learning_rate': 0.02334325358743984, 'weight_decay': 0.000689978022905511, 'batch_size': 8}. Best is trial 52 with value: 0.07335403822362423.\n",
      "--------------------------------\n",
      "[I 2025-03-02 11:59:16,427] Trial 69 finished with value: 0.0751570500433445 and parameters: {'num_epochs': 19, 'learning_rate': 0.009737431090536972, 'weight_decay': 1e-05, 'batch_size': 8}. Best is trial 52 with value: 0.07335403822362423.\n",
      "--------------------------------\n",
      "[I 2025-03-02 11:59:33,333] Trial 70 finished with value: 0.07791821882128716 and parameters: {'num_epochs': 13, 'learning_rate': 0.037062834936078225, 'weight_decay': 0.0005059495575389271, 'batch_size': 8}. Best is trial 52 with value: 0.07335403822362423.\n",
      "--------------------------------\n",
      "[I 2025-03-02 11:59:37,527] Trial 71 finished with value: 0.10626933127641677 and parameters: {'num_epochs': 12, 'learning_rate': 0.002100814162400362, 'weight_decay': 0.019268063999661897, 'batch_size': 32}. Best is trial 52 with value: 0.07335403822362423.\n",
      "--------------------------------\n",
      "[I 2025-03-02 11:59:50,934] Trial 72 finished with value: 0.07618685849010945 and parameters: {'num_epochs': 14, 'learning_rate': 0.014497653769456526, 'weight_decay': 1e-05, 'batch_size': 8}. Best is trial 52 with value: 0.07335403822362423.\n",
      "--------------------------------\n",
      "[I 2025-03-02 12:00:06,647] Trial 73 finished with value: 0.07840010039508342 and parameters: {'num_epochs': 20, 'learning_rate': 0.003599405304915896, 'weight_decay': 0.001817833247557078, 'batch_size': 8}. Best is trial 52 with value: 0.07335403822362423.\n",
      "--------------------------------\n",
      "[I 2025-03-02 12:00:19,620] Trial 74 finished with value: 0.07516024336218834 and parameters: {'num_epochs': 20, 'learning_rate': 0.0075803998744892005, 'weight_decay': 1e-05, 'batch_size': 8}. Best is trial 52 with value: 0.07335403822362423.\n",
      "--------------------------------\n",
      "[I 2025-03-02 12:00:27,065] Trial 75 finished with value: 0.08179977983236313 and parameters: {'num_epochs': 9, 'learning_rate': 0.008814652837416732, 'weight_decay': 7.083826965265469e-05, 'batch_size': 8}. Best is trial 52 with value: 0.07335403822362423.\n",
      "--------------------------------\n",
      "[I 2025-03-02 12:00:37,645] Trial 76 finished with value: 0.07379421032965183 and parameters: {'num_epochs': 17, 'learning_rate': 0.013565728727798333, 'weight_decay': 1e-05, 'batch_size': 8}. Best is trial 52 with value: 0.07335403822362423.\n",
      "--------------------------------\n",
      "[I 2025-03-02 12:00:48,080] Trial 77 finished with value: 0.07569569423794746 and parameters: {'num_epochs': 17, 'learning_rate': 0.014225121810179212, 'weight_decay': 0.0017683745950386018, 'batch_size': 8}. Best is trial 52 with value: 0.07335403822362423.\n",
      "--------------------------------\n",
      "[I 2025-03-02 12:01:00,725] Trial 78 finished with value: 0.07792004197835922 and parameters: {'num_epochs': 20, 'learning_rate': 0.01681349339422478, 'weight_decay': 0.013437319580317337, 'batch_size': 8}. Best is trial 52 with value: 0.07335403822362423.\n",
      "--------------------------------\n",
      "[I 2025-03-02 12:01:13,197] Trial 79 finished with value: 0.14494968503713607 and parameters: {'num_epochs': 20, 'learning_rate': 0.05533270502474541, 'weight_decay': 1.0, 'batch_size': 8}. Best is trial 52 with value: 0.07335403822362423.\n",
      "--------------------------------\n",
      "[I 2025-03-02 12:01:27,912] Trial 80 finished with value: 0.07661283574998379 and parameters: {'num_epochs': 20, 'learning_rate': 0.013455353710817982, 'weight_decay': 0.0012082779396053733, 'batch_size': 8}. Best is trial 52 with value: 0.07335403822362423.\n",
      "--------------------------------\n",
      "[I 2025-03-02 12:01:39,801] Trial 81 finished with value: 0.07713330760598183 and parameters: {'num_epochs': 18, 'learning_rate': 0.013050837273242338, 'weight_decay': 0.007526193537700995, 'batch_size': 8}. Best is trial 52 with value: 0.07335403822362423.\n",
      "--------------------------------\n",
      "[I 2025-03-02 12:01:52,408] Trial 82 finished with value: 0.07332753874361515 and parameters: {'num_epochs': 20, 'learning_rate': 0.013259553805746851, 'weight_decay': 1e-05, 'batch_size': 8}. Best is trial 82 with value: 0.07332753874361515.\n",
      "--------------------------------\n",
      "[I 2025-03-02 12:02:05,359] Trial 83 finished with value: 0.07596767023205757 and parameters: {'num_epochs': 20, 'learning_rate': 0.012622351153053534, 'weight_decay': 1e-05, 'batch_size': 8}. Best is trial 82 with value: 0.07332753874361515.\n",
      "--------------------------------\n",
      "[I 2025-03-02 12:02:17,178] Trial 84 finished with value: 0.07414759770035743 and parameters: {'num_epochs': 18, 'learning_rate': 0.015354256956713991, 'weight_decay': 1e-05, 'batch_size': 8}. Best is trial 82 with value: 0.07332753874361515.\n",
      "--------------------------------\n",
      "[I 2025-03-02 12:02:31,848] Trial 85 finished with value: 0.07748598270118237 and parameters: {'num_epochs': 17, 'learning_rate': 0.023464978286262008, 'weight_decay': 0.00140150526732374, 'batch_size': 8}. Best is trial 82 with value: 0.07332753874361515.\n",
      "--------------------------------\n",
      "[I 2025-03-02 12:02:35,880] Trial 86 finished with value: 0.08051670901477337 and parameters: {'num_epochs': 20, 'learning_rate': 0.01655996092453241, 'weight_decay': 0.001646697261036787, 'batch_size': 32}. Best is trial 82 with value: 0.07332753874361515.\n"
     ]
    },
    {
     "name": "stdout",
     "output_type": "stream",
     "text": [
      "--------------------------------\n",
      "[I 2025-03-02 12:02:41,820] Trial 87 finished with value: 0.07728773094713688 and parameters: {'num_epochs': 18, 'learning_rate': 0.017420764334501106, 'weight_decay': 1e-05, 'batch_size': 19}. Best is trial 82 with value: 0.07332753874361515.\n",
      "--------------------------------\n",
      "[I 2025-03-02 12:02:53,773] Trial 88 finished with value: 0.0732130877673626 and parameters: {'num_epochs': 18, 'learning_rate': 0.01409923568733672, 'weight_decay': 1e-05, 'batch_size': 8}. Best is trial 88 with value: 0.0732130877673626.\n",
      "--------------------------------\n",
      "[I 2025-03-02 12:03:05,341] Trial 89 finished with value: 0.07276419922709465 and parameters: {'num_epochs': 18, 'learning_rate': 0.0141766680631574, 'weight_decay': 1e-05, 'batch_size': 8}. Best is trial 89 with value: 0.07276419922709465.\n",
      "--------------------------------\n",
      "[I 2025-03-02 12:03:16,724] Trial 90 finished with value: 0.07326767481863498 and parameters: {'num_epochs': 18, 'learning_rate': 0.0168734881464473, 'weight_decay': 1e-05, 'batch_size': 8}. Best is trial 89 with value: 0.07276419922709465.\n",
      "--------------------------------\n",
      "[I 2025-03-02 12:03:30,414] Trial 91 finished with value: 0.07300414182245732 and parameters: {'num_epochs': 18, 'learning_rate': 0.014256722453607196, 'weight_decay': 1e-05, 'batch_size': 8}. Best is trial 89 with value: 0.07276419922709465.\n",
      "--------------------------------\n",
      "[I 2025-03-02 12:03:41,942] Trial 92 finished with value: 0.07432681545615197 and parameters: {'num_epochs': 18, 'learning_rate': 0.0168259483516222, 'weight_decay': 1e-05, 'batch_size': 8}. Best is trial 89 with value: 0.07276419922709465.\n",
      "--------------------------------\n",
      "[I 2025-03-02 12:03:51,874] Trial 93 finished with value: 0.09209344238042831 and parameters: {'num_epochs': 15, 'learning_rate': 0.0008815853989487624, 'weight_decay': 1e-05, 'batch_size': 8}. Best is trial 89 with value: 0.07276419922709465.\n",
      "--------------------------------\n",
      "[I 2025-03-02 12:04:03,291] Trial 94 finished with value: 0.07192480079829693 and parameters: {'num_epochs': 18, 'learning_rate': 0.013296373945166117, 'weight_decay': 1e-05, 'batch_size': 8}. Best is trial 94 with value: 0.07192480079829693.\n",
      "--------------------------------\n",
      "[I 2025-03-02 12:04:12,103] Trial 95 finished with value: 0.12009125426411629 and parameters: {'num_epochs': 13, 'learning_rate': 0.0004775785136715312, 'weight_decay': 1.0, 'batch_size': 8}. Best is trial 94 with value: 0.07192480079829693.\n",
      "--------------------------------\n",
      "[I 2025-03-02 12:04:15,532] Trial 96 finished with value: 0.08048251494765282 and parameters: {'num_epochs': 16, 'learning_rate': 0.03123517788795571, 'weight_decay': 0.0023785736589860503, 'batch_size': 32}. Best is trial 94 with value: 0.07192480079829693.\n",
      "--------------------------------\n",
      "[I 2025-03-02 12:04:17,831] Trial 97 finished with value: 0.12553044855594636 and parameters: {'num_epochs': 3, 'learning_rate': 0.001369219946564557, 'weight_decay': 1e-05, 'batch_size': 8}. Best is trial 94 with value: 0.07192480079829693.\n",
      "--------------------------------\n",
      "[I 2025-03-02 12:04:22,242] Trial 98 finished with value: 0.08429520949721336 and parameters: {'num_epochs': 14, 'learning_rate': 0.0775509522233108, 'weight_decay': 0.0009209075080018398, 'batch_size': 32}. Best is trial 94 with value: 0.07192480079829693.\n",
      "--------------------------------\n",
      "[I 2025-03-02 12:04:26,510] Trial 99 finished with value: 0.0822027113288641 and parameters: {'num_epochs': 20, 'learning_rate': 0.011212116653581612, 'weight_decay': 0.02101950061567978, 'batch_size': 32}. Best is trial 94 with value: 0.07192480079829693.\n"
     ]
    }
   ],
   "source": [
    "study.optimize(objective, n_trials=100, show_progress_bar=True)"
   ]
  },
  {
   "cell_type": "markdown",
   "id": "7851b978",
   "metadata": {},
   "source": [
    "We'll have a look at the best found hyper-parameters."
   ]
  },
  {
   "cell_type": "code",
   "execution_count": 14,
   "id": "aea6ce05",
   "metadata": {
    "scrolled": false
   },
   "outputs": [
    {
     "data": {
      "text/plain": [
       "{'num_epochs': 18,\n",
       " 'learning_rate': 0.013296373945166117,\n",
       " 'weight_decay': 1e-05,\n",
       " 'batch_size': 8}"
      ]
     },
     "execution_count": 14,
     "metadata": {},
     "output_type": "execute_result"
    }
   ],
   "source": [
    "study.best_params"
   ]
  },
  {
   "cell_type": "markdown",
   "id": "1027af84",
   "metadata": {},
   "source": [
    "Furthermore, we can visualize, which hyper-parameters are promising."
   ]
  },
  {
   "cell_type": "code",
   "execution_count": 17,
   "id": "7e8643c7",
   "metadata": {
    "scrolled": true
   },
   "outputs": [
    {
     "data": {
      "application/vnd.plotly.v1+json": {
       "config": {
        "plotlyServerURL": "https://plot.ly"
       },
       "data": [
        {
         "marker": {
          "color": [
           0,
           1,
           2,
           3,
           4,
           5,
           6,
           7,
           8,
           9,
           10,
           11,
           12,
           13,
           14,
           15,
           16,
           17,
           18,
           19,
           20,
           21,
           22,
           23,
           24,
           25,
           26,
           27,
           28,
           29,
           30,
           31,
           32,
           33,
           34,
           35,
           36,
           37,
           38,
           39,
           40,
           41,
           42,
           43,
           44,
           45,
           46,
           47,
           48,
           49,
           50,
           51,
           52,
           53,
           54,
           55,
           56,
           57,
           58,
           59,
           60,
           61,
           62,
           63,
           64,
           65,
           66,
           67,
           68,
           69,
           70,
           71,
           72,
           73,
           74,
           75,
           76,
           77,
           78,
           79,
           80,
           81,
           82,
           83,
           84,
           85,
           86,
           87,
           88,
           89,
           90,
           91,
           92,
           93,
           94,
           95,
           96,
           97,
           98,
           99
          ],
          "colorbar": {
           "title": {
            "text": "Trial"
           },
           "x": 1,
           "xpad": 40
          },
          "colorscale": [
           [
            0,
            "rgb(247,251,255)"
           ],
           [
            0.125,
            "rgb(222,235,247)"
           ],
           [
            0.25,
            "rgb(198,219,239)"
           ],
           [
            0.375,
            "rgb(158,202,225)"
           ],
           [
            0.5,
            "rgb(107,174,214)"
           ],
           [
            0.625,
            "rgb(66,146,198)"
           ],
           [
            0.75,
            "rgb(33,113,181)"
           ],
           [
            0.875,
            "rgb(8,81,156)"
           ],
           [
            1,
            "rgb(8,48,107)"
           ]
          ],
          "line": {
           "color": "Grey",
           "width": 0.5
          },
          "showscale": true
         },
         "mode": "markers",
         "name": "Feasible Trial",
         "showlegend": false,
         "type": "scatter",
         "x": [
          22,
          29,
          32,
          12,
          15,
          17,
          20,
          12,
          28,
          19,
          8,
          8,
          17,
          17,
          8,
          26,
          8,
          8,
          8,
          32,
          8,
          8,
          20,
          32,
          8,
          8,
          15,
          8,
          8,
          32,
          8,
          15,
          8,
          8,
          8,
          8,
          8,
          8,
          32,
          8,
          8,
          8,
          8,
          8,
          8,
          32,
          8,
          32,
          32,
          8,
          8,
          19,
          8,
          8,
          8,
          8,
          8,
          8,
          8,
          8,
          23,
          8,
          8,
          8,
          8,
          8,
          8,
          8,
          8,
          8,
          8,
          32,
          8,
          8,
          8,
          8,
          8,
          8,
          8,
          8,
          8,
          8,
          8,
          8,
          8,
          8,
          32,
          19,
          8,
          8,
          8,
          8,
          8,
          8,
          8,
          8,
          32,
          8,
          32,
          32
         ],
         "xaxis": "x",
         "y": [
          0.21443050354719162,
          0.29433411210775373,
          0.08357351049780845,
          0.1585923619568348,
          0.09208958595991135,
          0.23093505650758744,
          0.0895315632224083,
          0.27517361268401147,
          0.35273203402757647,
          0.2849214643239975,
          0.0762409970164299,
          0.07926800362765789,
          0.08034391328692436,
          0.3438532382249832,
          0.08200299590826035,
          0.08837435692548752,
          0.11332080066204071,
          0.0785882256925106,
          0.1287364661693573,
          0.09135561063885689,
          0.07804465666413307,
          0.08892145827412605,
          0.08097904920578003,
          0.11908312067389488,
          0.08225952461361885,
          0.08475029356777668,
          0.07837462462484837,
          0.07950513623654842,
          0.08258026801049709,
          0.12005924135446548,
          0.07924627214670181,
          0.08049811348319054,
          0.07405714839696884,
          0.08715742081403732,
          0.08469488136470318,
          0.07955433987081051,
          0.07795154340565205,
          0.07706292979419231,
          0.08789623081684113,
          0.0747527789324522,
          0.0774317279458046,
          0.0733940176665783,
          0.07909372337162494,
          0.0773922424763441,
          0.07697259783744811,
          0.14054585248231888,
          0.18748915791511536,
          0.08429685123264789,
          0.08468027971684933,
          0.14796990603208543,
          0.08990498036146163,
          0.0801982343196869,
          0.07335403822362423,
          0.07442718297243119,
          0.07512830421328545,
          0.07465498372912407,
          0.07528278492391109,
          0.07767384387552738,
          0.08203751742839813,
          0.26669165939092637,
          0.08196538127958775,
          0.07829885967075825,
          0.07337309196591377,
          0.07535913549363613,
          0.07548421286046506,
          0.1454940401017666,
          0.08041612580418586,
          0.07657604813575744,
          0.07590967826545239,
          0.0751570500433445,
          0.07791821882128716,
          0.10626933127641677,
          0.07618685849010945,
          0.07840010039508342,
          0.07516024336218834,
          0.08179977983236313,
          0.07379421032965183,
          0.07569569423794746,
          0.07792004197835922,
          0.14494968503713607,
          0.07661283574998379,
          0.07713330760598183,
          0.07332753874361515,
          0.07596767023205757,
          0.07414759770035743,
          0.07748598270118237,
          0.08051670901477337,
          0.07728773094713688,
          0.0732130877673626,
          0.07276419922709465,
          0.07326767481863498,
          0.07300414182245732,
          0.07432681545615197,
          0.09209344238042831,
          0.07192480079829693,
          0.12009125426411629,
          0.08048251494765282,
          0.12553044855594636,
          0.08429520949721336,
          0.0822027113288641
         ],
         "yaxis": "y"
        },
        {
         "marker": {
          "color": [
           0,
           1,
           2,
           3,
           4,
           5,
           6,
           7,
           8,
           9,
           10,
           11,
           12,
           13,
           14,
           15,
           16,
           17,
           18,
           19,
           20,
           21,
           22,
           23,
           24,
           25,
           26,
           27,
           28,
           29,
           30,
           31,
           32,
           33,
           34,
           35,
           36,
           37,
           38,
           39,
           40,
           41,
           42,
           43,
           44,
           45,
           46,
           47,
           48,
           49,
           50,
           51,
           52,
           53,
           54,
           55,
           56,
           57,
           58,
           59,
           60,
           61,
           62,
           63,
           64,
           65,
           66,
           67,
           68,
           69,
           70,
           71,
           72,
           73,
           74,
           75,
           76,
           77,
           78,
           79,
           80,
           81,
           82,
           83,
           84,
           85,
           86,
           87,
           88,
           89,
           90,
           91,
           92,
           93,
           94,
           95,
           96,
           97,
           98,
           99
          ],
          "colorbar": {
           "title": {
            "text": "Trial"
           },
           "x": 1,
           "xpad": 40
          },
          "colorscale": [
           [
            0,
            "rgb(247,251,255)"
           ],
           [
            0.125,
            "rgb(222,235,247)"
           ],
           [
            0.25,
            "rgb(198,219,239)"
           ],
           [
            0.375,
            "rgb(158,202,225)"
           ],
           [
            0.5,
            "rgb(107,174,214)"
           ],
           [
            0.625,
            "rgb(66,146,198)"
           ],
           [
            0.75,
            "rgb(33,113,181)"
           ],
           [
            0.875,
            "rgb(8,81,156)"
           ],
           [
            1,
            "rgb(8,48,107)"
           ]
          ],
          "line": {
           "color": "Grey",
           "width": 0.5
          },
          "showscale": false
         },
         "mode": "markers",
         "name": "Feasible Trial",
         "showlegend": false,
         "type": "scatter",
         "x": [
          0.566984951147885,
          6.025215736203858e-05,
          0.034702669886504146,
          0.00011526449540315612,
          0.00420515645091387,
          4.98275235707645e-05,
          0.08431013932082466,
          1.7070728830306648e-05,
          0.5551721685244719,
          3.0786517836196185e-05,
          0.013392027055044694,
          0.011301477859424546,
          0.010648013931620355,
          0.4825285567167767,
          0.0031533177262184813,
          0.014186341072256326,
          0.001758107969385668,
          0.02631768584777619,
          0.009748628796346073,
          0.0035991629744610894,
          0.007451701987083012,
          0.0071356857913574875,
          0.009843503327694443,
          0.012888810323988503,
          0.0017434336458933128,
          0.0035989051793178383,
          0.020237138179491368,
          0.004917839674320004,
          0.024241267807574785,
          0.0005864417078183384,
          0.005490299934171491,
          0.011772579500161395,
          0.011076889363582386,
          0.0019208996772837798,
          0.0013257287029527062,
          0.005404780669843671,
          0.02289508819400748,
          0.015357720878612724,
          0.05856166002730532,
          0.013675427694447632,
          0.00935237663363113,
          0.004034241775912632,
          0.0033566278479214002,
          0.005644121522614916,
          0.007707197217609839,
          0.004919589680167446,
          0.17354535552124847,
          0.04967498389148957,
          0.007695375008167859,
          0.0008938573665495067,
          0.0015135405670900135,
          0.005561382558511245,
          0.006653216012204833,
          0.005978052323875027,
          0.008807653169721022,
          0.005969366329038561,
          0.013402777041368956,
          0.03503866380496468,
          0.002256811499992727,
          1e-05,
          0.035514293168716675,
          0.005934746094176737,
          0.024375928384748675,
          0.022696276136644055,
          0.01853252839559867,
          0.00012739549773388854,
          0.006169878083641603,
          0.005993783659225074,
          0.02334325358743984,
          0.009737431090536972,
          0.037062834936078225,
          0.002100814162400362,
          0.014497653769456526,
          0.003599405304915896,
          0.0075803998744892005,
          0.008814652837416732,
          0.013565728727798333,
          0.014225121810179212,
          0.01681349339422478,
          0.05533270502474541,
          0.013455353710817982,
          0.013050837273242338,
          0.013259553805746851,
          0.012622351153053534,
          0.015354256956713991,
          0.023464978286262008,
          0.01655996092453241,
          0.017420764334501106,
          0.01409923568733672,
          0.0141766680631574,
          0.0168734881464473,
          0.014256722453607196,
          0.0168259483516222,
          0.0008815853989487624,
          0.013296373945166117,
          0.0004775785136715312,
          0.03123517788795571,
          0.001369219946564557,
          0.0775509522233108,
          0.011212116653581612
         ],
         "xaxis": "x2",
         "y": [
          0.21443050354719162,
          0.29433411210775373,
          0.08357351049780845,
          0.1585923619568348,
          0.09208958595991135,
          0.23093505650758744,
          0.0895315632224083,
          0.27517361268401147,
          0.35273203402757647,
          0.2849214643239975,
          0.0762409970164299,
          0.07926800362765789,
          0.08034391328692436,
          0.3438532382249832,
          0.08200299590826035,
          0.08837435692548752,
          0.11332080066204071,
          0.0785882256925106,
          0.1287364661693573,
          0.09135561063885689,
          0.07804465666413307,
          0.08892145827412605,
          0.08097904920578003,
          0.11908312067389488,
          0.08225952461361885,
          0.08475029356777668,
          0.07837462462484837,
          0.07950513623654842,
          0.08258026801049709,
          0.12005924135446548,
          0.07924627214670181,
          0.08049811348319054,
          0.07405714839696884,
          0.08715742081403732,
          0.08469488136470318,
          0.07955433987081051,
          0.07795154340565205,
          0.07706292979419231,
          0.08789623081684113,
          0.0747527789324522,
          0.0774317279458046,
          0.0733940176665783,
          0.07909372337162494,
          0.0773922424763441,
          0.07697259783744811,
          0.14054585248231888,
          0.18748915791511536,
          0.08429685123264789,
          0.08468027971684933,
          0.14796990603208543,
          0.08990498036146163,
          0.0801982343196869,
          0.07335403822362423,
          0.07442718297243119,
          0.07512830421328545,
          0.07465498372912407,
          0.07528278492391109,
          0.07767384387552738,
          0.08203751742839813,
          0.26669165939092637,
          0.08196538127958775,
          0.07829885967075825,
          0.07337309196591377,
          0.07535913549363613,
          0.07548421286046506,
          0.1454940401017666,
          0.08041612580418586,
          0.07657604813575744,
          0.07590967826545239,
          0.0751570500433445,
          0.07791821882128716,
          0.10626933127641677,
          0.07618685849010945,
          0.07840010039508342,
          0.07516024336218834,
          0.08179977983236313,
          0.07379421032965183,
          0.07569569423794746,
          0.07792004197835922,
          0.14494968503713607,
          0.07661283574998379,
          0.07713330760598183,
          0.07332753874361515,
          0.07596767023205757,
          0.07414759770035743,
          0.07748598270118237,
          0.08051670901477337,
          0.07728773094713688,
          0.0732130877673626,
          0.07276419922709465,
          0.07326767481863498,
          0.07300414182245732,
          0.07432681545615197,
          0.09209344238042831,
          0.07192480079829693,
          0.12009125426411629,
          0.08048251494765282,
          0.12553044855594636,
          0.08429520949721336,
          0.0822027113288641
         ],
         "yaxis": "y2"
        },
        {
         "marker": {
          "color": [
           0,
           1,
           2,
           3,
           4,
           5,
           6,
           7,
           8,
           9,
           10,
           11,
           12,
           13,
           14,
           15,
           16,
           17,
           18,
           19,
           20,
           21,
           22,
           23,
           24,
           25,
           26,
           27,
           28,
           29,
           30,
           31,
           32,
           33,
           34,
           35,
           36,
           37,
           38,
           39,
           40,
           41,
           42,
           43,
           44,
           45,
           46,
           47,
           48,
           49,
           50,
           51,
           52,
           53,
           54,
           55,
           56,
           57,
           58,
           59,
           60,
           61,
           62,
           63,
           64,
           65,
           66,
           67,
           68,
           69,
           70,
           71,
           72,
           73,
           74,
           75,
           76,
           77,
           78,
           79,
           80,
           81,
           82,
           83,
           84,
           85,
           86,
           87,
           88,
           89,
           90,
           91,
           92,
           93,
           94,
           95,
           96,
           97,
           98,
           99
          ],
          "colorbar": {
           "title": {
            "text": "Trial"
           },
           "x": 1,
           "xpad": 40
          },
          "colorscale": [
           [
            0,
            "rgb(247,251,255)"
           ],
           [
            0.125,
            "rgb(222,235,247)"
           ],
           [
            0.25,
            "rgb(198,219,239)"
           ],
           [
            0.375,
            "rgb(158,202,225)"
           ],
           [
            0.5,
            "rgb(107,174,214)"
           ],
           [
            0.625,
            "rgb(66,146,198)"
           ],
           [
            0.75,
            "rgb(33,113,181)"
           ],
           [
            0.875,
            "rgb(8,81,156)"
           ],
           [
            1,
            "rgb(8,48,107)"
           ]
          ],
          "line": {
           "color": "Grey",
           "width": 0.5
          },
          "showscale": false
         },
         "mode": "markers",
         "name": "Feasible Trial",
         "showlegend": false,
         "type": "scatter",
         "x": [
          9,
          5,
          13,
          17,
          8,
          14,
          11,
          13,
          4,
          8,
          16,
          11,
          14,
          20,
          16,
          11,
          20,
          13,
          10,
          18,
          15,
          6,
          15,
          17,
          20,
          9,
          14,
          18,
          9,
          20,
          17,
          15,
          15,
          14,
          19,
          12,
          12,
          15,
          9,
          15,
          16,
          20,
          20,
          20,
          20,
          3,
          7,
          12,
          20,
          3,
          11,
          20,
          20,
          20,
          20,
          20,
          14,
          14,
          15,
          20,
          11,
          13,
          14,
          14,
          16,
          20,
          15,
          20,
          15,
          19,
          13,
          12,
          14,
          20,
          20,
          9,
          17,
          17,
          20,
          20,
          20,
          18,
          20,
          20,
          18,
          17,
          20,
          18,
          18,
          18,
          18,
          18,
          18,
          15,
          18,
          13,
          16,
          3,
          14,
          20
         ],
         "xaxis": "x3",
         "y": [
          0.21443050354719162,
          0.29433411210775373,
          0.08357351049780845,
          0.1585923619568348,
          0.09208958595991135,
          0.23093505650758744,
          0.0895315632224083,
          0.27517361268401147,
          0.35273203402757647,
          0.2849214643239975,
          0.0762409970164299,
          0.07926800362765789,
          0.08034391328692436,
          0.3438532382249832,
          0.08200299590826035,
          0.08837435692548752,
          0.11332080066204071,
          0.0785882256925106,
          0.1287364661693573,
          0.09135561063885689,
          0.07804465666413307,
          0.08892145827412605,
          0.08097904920578003,
          0.11908312067389488,
          0.08225952461361885,
          0.08475029356777668,
          0.07837462462484837,
          0.07950513623654842,
          0.08258026801049709,
          0.12005924135446548,
          0.07924627214670181,
          0.08049811348319054,
          0.07405714839696884,
          0.08715742081403732,
          0.08469488136470318,
          0.07955433987081051,
          0.07795154340565205,
          0.07706292979419231,
          0.08789623081684113,
          0.0747527789324522,
          0.0774317279458046,
          0.0733940176665783,
          0.07909372337162494,
          0.0773922424763441,
          0.07697259783744811,
          0.14054585248231888,
          0.18748915791511536,
          0.08429685123264789,
          0.08468027971684933,
          0.14796990603208543,
          0.08990498036146163,
          0.0801982343196869,
          0.07335403822362423,
          0.07442718297243119,
          0.07512830421328545,
          0.07465498372912407,
          0.07528278492391109,
          0.07767384387552738,
          0.08203751742839813,
          0.26669165939092637,
          0.08196538127958775,
          0.07829885967075825,
          0.07337309196591377,
          0.07535913549363613,
          0.07548421286046506,
          0.1454940401017666,
          0.08041612580418586,
          0.07657604813575744,
          0.07590967826545239,
          0.0751570500433445,
          0.07791821882128716,
          0.10626933127641677,
          0.07618685849010945,
          0.07840010039508342,
          0.07516024336218834,
          0.08179977983236313,
          0.07379421032965183,
          0.07569569423794746,
          0.07792004197835922,
          0.14494968503713607,
          0.07661283574998379,
          0.07713330760598183,
          0.07332753874361515,
          0.07596767023205757,
          0.07414759770035743,
          0.07748598270118237,
          0.08051670901477337,
          0.07728773094713688,
          0.0732130877673626,
          0.07276419922709465,
          0.07326767481863498,
          0.07300414182245732,
          0.07432681545615197,
          0.09209344238042831,
          0.07192480079829693,
          0.12009125426411629,
          0.08048251494765282,
          0.12553044855594636,
          0.08429520949721336,
          0.0822027113288641
         ],
         "yaxis": "y3"
        },
        {
         "marker": {
          "color": [
           0,
           1,
           2,
           3,
           4,
           5,
           6,
           7,
           8,
           9,
           10,
           11,
           12,
           13,
           14,
           15,
           16,
           17,
           18,
           19,
           20,
           21,
           22,
           23,
           24,
           25,
           26,
           27,
           28,
           29,
           30,
           31,
           32,
           33,
           34,
           35,
           36,
           37,
           38,
           39,
           40,
           41,
           42,
           43,
           44,
           45,
           46,
           47,
           48,
           49,
           50,
           51,
           52,
           53,
           54,
           55,
           56,
           57,
           58,
           59,
           60,
           61,
           62,
           63,
           64,
           65,
           66,
           67,
           68,
           69,
           70,
           71,
           72,
           73,
           74,
           75,
           76,
           77,
           78,
           79,
           80,
           81,
           82,
           83,
           84,
           85,
           86,
           87,
           88,
           89,
           90,
           91,
           92,
           93,
           94,
           95,
           96,
           97,
           98,
           99
          ],
          "colorbar": {
           "title": {
            "text": "Trial"
           },
           "x": 1,
           "xpad": 40
          },
          "colorscale": [
           [
            0,
            "rgb(247,251,255)"
           ],
           [
            0.125,
            "rgb(222,235,247)"
           ],
           [
            0.25,
            "rgb(198,219,239)"
           ],
           [
            0.375,
            "rgb(158,202,225)"
           ],
           [
            0.5,
            "rgb(107,174,214)"
           ],
           [
            0.625,
            "rgb(66,146,198)"
           ],
           [
            0.75,
            "rgb(33,113,181)"
           ],
           [
            0.875,
            "rgb(8,81,156)"
           ],
           [
            1,
            "rgb(8,48,107)"
           ]
          ],
          "line": {
           "color": "Grey",
           "width": 0.5
          },
          "showscale": false
         },
         "mode": "markers",
         "name": "Feasible Trial",
         "showlegend": false,
         "type": "scatter",
         "x": [
          0.0457056309980145,
          1.951722464144947e-05,
          1.2674255898937214e-05,
          8.111941985431919e-05,
          0.0014445251022763056,
          0.00028888383623653144,
          9.962513222055098e-05,
          0.010907475835157693,
          0.6732248920775336,
          0.026373339933815243,
          5.64516379364188e-05,
          1e-05,
          0.01120434075043897,
          1e-05,
          1e-05,
          9.195318852786405e-05,
          1,
          1.5909031592698116e-05,
          1,
          0.00016428336171699673,
          0.00034388479259615286,
          1e-05,
          1e-05,
          1,
          1e-05,
          1e-05,
          0.0005138446442841786,
          1e-05,
          1e-05,
          1e-05,
          0.0005378956837723897,
          0.0002976994447658206,
          1e-05,
          0.04090559769869345,
          0.0007865001260912976,
          0.0013235940155637068,
          0.0008970677274904065,
          0.009417834771401611,
          1e-05,
          1e-05,
          1e-05,
          0.00032132993719432787,
          0.00012476017016896718,
          0.00447455424005808,
          0.00034528935398704544,
          1e-05,
          1e-05,
          0.0020563970162250185,
          1e-05,
          1,
          0.0010668058160168308,
          0.0006319593304693629,
          1e-05,
          1e-05,
          1e-05,
          1e-05,
          0.0013816769994806728,
          0.004876383352174057,
          0.0009334603570344453,
          1e-05,
          1e-05,
          1e-05,
          0.0006113701750806873,
          0.0008170918201723736,
          1e-05,
          1,
          0.013400272946156198,
          8.122606191693902e-05,
          0.000689978022905511,
          1e-05,
          0.0005059495575389271,
          0.019268063999661897,
          1e-05,
          0.001817833247557078,
          1e-05,
          7.083826965265469e-05,
          1e-05,
          0.0017683745950386018,
          0.013437319580317337,
          1,
          0.0012082779396053733,
          0.007526193537700995,
          1e-05,
          1e-05,
          1e-05,
          0.00140150526732374,
          0.001646697261036787,
          1e-05,
          1e-05,
          1e-05,
          1e-05,
          1e-05,
          1e-05,
          1e-05,
          1e-05,
          1,
          0.0023785736589860503,
          1e-05,
          0.0009209075080018398,
          0.02101950061567978
         ],
         "xaxis": "x4",
         "y": [
          0.21443050354719162,
          0.29433411210775373,
          0.08357351049780845,
          0.1585923619568348,
          0.09208958595991135,
          0.23093505650758744,
          0.0895315632224083,
          0.27517361268401147,
          0.35273203402757647,
          0.2849214643239975,
          0.0762409970164299,
          0.07926800362765789,
          0.08034391328692436,
          0.3438532382249832,
          0.08200299590826035,
          0.08837435692548752,
          0.11332080066204071,
          0.0785882256925106,
          0.1287364661693573,
          0.09135561063885689,
          0.07804465666413307,
          0.08892145827412605,
          0.08097904920578003,
          0.11908312067389488,
          0.08225952461361885,
          0.08475029356777668,
          0.07837462462484837,
          0.07950513623654842,
          0.08258026801049709,
          0.12005924135446548,
          0.07924627214670181,
          0.08049811348319054,
          0.07405714839696884,
          0.08715742081403732,
          0.08469488136470318,
          0.07955433987081051,
          0.07795154340565205,
          0.07706292979419231,
          0.08789623081684113,
          0.0747527789324522,
          0.0774317279458046,
          0.0733940176665783,
          0.07909372337162494,
          0.0773922424763441,
          0.07697259783744811,
          0.14054585248231888,
          0.18748915791511536,
          0.08429685123264789,
          0.08468027971684933,
          0.14796990603208543,
          0.08990498036146163,
          0.0801982343196869,
          0.07335403822362423,
          0.07442718297243119,
          0.07512830421328545,
          0.07465498372912407,
          0.07528278492391109,
          0.07767384387552738,
          0.08203751742839813,
          0.26669165939092637,
          0.08196538127958775,
          0.07829885967075825,
          0.07337309196591377,
          0.07535913549363613,
          0.07548421286046506,
          0.1454940401017666,
          0.08041612580418586,
          0.07657604813575744,
          0.07590967826545239,
          0.0751570500433445,
          0.07791821882128716,
          0.10626933127641677,
          0.07618685849010945,
          0.07840010039508342,
          0.07516024336218834,
          0.08179977983236313,
          0.07379421032965183,
          0.07569569423794746,
          0.07792004197835922,
          0.14494968503713607,
          0.07661283574998379,
          0.07713330760598183,
          0.07332753874361515,
          0.07596767023205757,
          0.07414759770035743,
          0.07748598270118237,
          0.08051670901477337,
          0.07728773094713688,
          0.0732130877673626,
          0.07276419922709465,
          0.07326767481863498,
          0.07300414182245732,
          0.07432681545615197,
          0.09209344238042831,
          0.07192480079829693,
          0.12009125426411629,
          0.08048251494765282,
          0.12553044855594636,
          0.08429520949721336,
          0.0822027113288641
         ],
         "yaxis": "y4"
        }
       ],
       "layout": {
        "template": {
         "data": {
          "bar": [
           {
            "error_x": {
             "color": "#2a3f5f"
            },
            "error_y": {
             "color": "#2a3f5f"
            },
            "marker": {
             "line": {
              "color": "#E5ECF6",
              "width": 0.5
             },
             "pattern": {
              "fillmode": "overlay",
              "size": 10,
              "solidity": 0.2
             }
            },
            "type": "bar"
           }
          ],
          "barpolar": [
           {
            "marker": {
             "line": {
              "color": "#E5ECF6",
              "width": 0.5
             },
             "pattern": {
              "fillmode": "overlay",
              "size": 10,
              "solidity": 0.2
             }
            },
            "type": "barpolar"
           }
          ],
          "carpet": [
           {
            "aaxis": {
             "endlinecolor": "#2a3f5f",
             "gridcolor": "white",
             "linecolor": "white",
             "minorgridcolor": "white",
             "startlinecolor": "#2a3f5f"
            },
            "baxis": {
             "endlinecolor": "#2a3f5f",
             "gridcolor": "white",
             "linecolor": "white",
             "minorgridcolor": "white",
             "startlinecolor": "#2a3f5f"
            },
            "type": "carpet"
           }
          ],
          "choropleth": [
           {
            "colorbar": {
             "outlinewidth": 0,
             "ticks": ""
            },
            "type": "choropleth"
           }
          ],
          "contour": [
           {
            "colorbar": {
             "outlinewidth": 0,
             "ticks": ""
            },
            "colorscale": [
             [
              0,
              "#0d0887"
             ],
             [
              0.1111111111111111,
              "#46039f"
             ],
             [
              0.2222222222222222,
              "#7201a8"
             ],
             [
              0.3333333333333333,
              "#9c179e"
             ],
             [
              0.4444444444444444,
              "#bd3786"
             ],
             [
              0.5555555555555556,
              "#d8576b"
             ],
             [
              0.6666666666666666,
              "#ed7953"
             ],
             [
              0.7777777777777778,
              "#fb9f3a"
             ],
             [
              0.8888888888888888,
              "#fdca26"
             ],
             [
              1,
              "#f0f921"
             ]
            ],
            "type": "contour"
           }
          ],
          "contourcarpet": [
           {
            "colorbar": {
             "outlinewidth": 0,
             "ticks": ""
            },
            "type": "contourcarpet"
           }
          ],
          "heatmap": [
           {
            "colorbar": {
             "outlinewidth": 0,
             "ticks": ""
            },
            "colorscale": [
             [
              0,
              "#0d0887"
             ],
             [
              0.1111111111111111,
              "#46039f"
             ],
             [
              0.2222222222222222,
              "#7201a8"
             ],
             [
              0.3333333333333333,
              "#9c179e"
             ],
             [
              0.4444444444444444,
              "#bd3786"
             ],
             [
              0.5555555555555556,
              "#d8576b"
             ],
             [
              0.6666666666666666,
              "#ed7953"
             ],
             [
              0.7777777777777778,
              "#fb9f3a"
             ],
             [
              0.8888888888888888,
              "#fdca26"
             ],
             [
              1,
              "#f0f921"
             ]
            ],
            "type": "heatmap"
           }
          ],
          "heatmapgl": [
           {
            "colorbar": {
             "outlinewidth": 0,
             "ticks": ""
            },
            "colorscale": [
             [
              0,
              "#0d0887"
             ],
             [
              0.1111111111111111,
              "#46039f"
             ],
             [
              0.2222222222222222,
              "#7201a8"
             ],
             [
              0.3333333333333333,
              "#9c179e"
             ],
             [
              0.4444444444444444,
              "#bd3786"
             ],
             [
              0.5555555555555556,
              "#d8576b"
             ],
             [
              0.6666666666666666,
              "#ed7953"
             ],
             [
              0.7777777777777778,
              "#fb9f3a"
             ],
             [
              0.8888888888888888,
              "#fdca26"
             ],
             [
              1,
              "#f0f921"
             ]
            ],
            "type": "heatmapgl"
           }
          ],
          "histogram": [
           {
            "marker": {
             "pattern": {
              "fillmode": "overlay",
              "size": 10,
              "solidity": 0.2
             }
            },
            "type": "histogram"
           }
          ],
          "histogram2d": [
           {
            "colorbar": {
             "outlinewidth": 0,
             "ticks": ""
            },
            "colorscale": [
             [
              0,
              "#0d0887"
             ],
             [
              0.1111111111111111,
              "#46039f"
             ],
             [
              0.2222222222222222,
              "#7201a8"
             ],
             [
              0.3333333333333333,
              "#9c179e"
             ],
             [
              0.4444444444444444,
              "#bd3786"
             ],
             [
              0.5555555555555556,
              "#d8576b"
             ],
             [
              0.6666666666666666,
              "#ed7953"
             ],
             [
              0.7777777777777778,
              "#fb9f3a"
             ],
             [
              0.8888888888888888,
              "#fdca26"
             ],
             [
              1,
              "#f0f921"
             ]
            ],
            "type": "histogram2d"
           }
          ],
          "histogram2dcontour": [
           {
            "colorbar": {
             "outlinewidth": 0,
             "ticks": ""
            },
            "colorscale": [
             [
              0,
              "#0d0887"
             ],
             [
              0.1111111111111111,
              "#46039f"
             ],
             [
              0.2222222222222222,
              "#7201a8"
             ],
             [
              0.3333333333333333,
              "#9c179e"
             ],
             [
              0.4444444444444444,
              "#bd3786"
             ],
             [
              0.5555555555555556,
              "#d8576b"
             ],
             [
              0.6666666666666666,
              "#ed7953"
             ],
             [
              0.7777777777777778,
              "#fb9f3a"
             ],
             [
              0.8888888888888888,
              "#fdca26"
             ],
             [
              1,
              "#f0f921"
             ]
            ],
            "type": "histogram2dcontour"
           }
          ],
          "mesh3d": [
           {
            "colorbar": {
             "outlinewidth": 0,
             "ticks": ""
            },
            "type": "mesh3d"
           }
          ],
          "parcoords": [
           {
            "line": {
             "colorbar": {
              "outlinewidth": 0,
              "ticks": ""
             }
            },
            "type": "parcoords"
           }
          ],
          "pie": [
           {
            "automargin": true,
            "type": "pie"
           }
          ],
          "scatter": [
           {
            "fillpattern": {
             "fillmode": "overlay",
             "size": 10,
             "solidity": 0.2
            },
            "type": "scatter"
           }
          ],
          "scatter3d": [
           {
            "line": {
             "colorbar": {
              "outlinewidth": 0,
              "ticks": ""
             }
            },
            "marker": {
             "colorbar": {
              "outlinewidth": 0,
              "ticks": ""
             }
            },
            "type": "scatter3d"
           }
          ],
          "scattercarpet": [
           {
            "marker": {
             "colorbar": {
              "outlinewidth": 0,
              "ticks": ""
             }
            },
            "type": "scattercarpet"
           }
          ],
          "scattergeo": [
           {
            "marker": {
             "colorbar": {
              "outlinewidth": 0,
              "ticks": ""
             }
            },
            "type": "scattergeo"
           }
          ],
          "scattergl": [
           {
            "marker": {
             "colorbar": {
              "outlinewidth": 0,
              "ticks": ""
             }
            },
            "type": "scattergl"
           }
          ],
          "scattermapbox": [
           {
            "marker": {
             "colorbar": {
              "outlinewidth": 0,
              "ticks": ""
             }
            },
            "type": "scattermapbox"
           }
          ],
          "scatterpolar": [
           {
            "marker": {
             "colorbar": {
              "outlinewidth": 0,
              "ticks": ""
             }
            },
            "type": "scatterpolar"
           }
          ],
          "scatterpolargl": [
           {
            "marker": {
             "colorbar": {
              "outlinewidth": 0,
              "ticks": ""
             }
            },
            "type": "scatterpolargl"
           }
          ],
          "scatterternary": [
           {
            "marker": {
             "colorbar": {
              "outlinewidth": 0,
              "ticks": ""
             }
            },
            "type": "scatterternary"
           }
          ],
          "surface": [
           {
            "colorbar": {
             "outlinewidth": 0,
             "ticks": ""
            },
            "colorscale": [
             [
              0,
              "#0d0887"
             ],
             [
              0.1111111111111111,
              "#46039f"
             ],
             [
              0.2222222222222222,
              "#7201a8"
             ],
             [
              0.3333333333333333,
              "#9c179e"
             ],
             [
              0.4444444444444444,
              "#bd3786"
             ],
             [
              0.5555555555555556,
              "#d8576b"
             ],
             [
              0.6666666666666666,
              "#ed7953"
             ],
             [
              0.7777777777777778,
              "#fb9f3a"
             ],
             [
              0.8888888888888888,
              "#fdca26"
             ],
             [
              1,
              "#f0f921"
             ]
            ],
            "type": "surface"
           }
          ],
          "table": [
           {
            "cells": {
             "fill": {
              "color": "#EBF0F8"
             },
             "line": {
              "color": "white"
             }
            },
            "header": {
             "fill": {
              "color": "#C8D4E3"
             },
             "line": {
              "color": "white"
             }
            },
            "type": "table"
           }
          ]
         },
         "layout": {
          "annotationdefaults": {
           "arrowcolor": "#2a3f5f",
           "arrowhead": 0,
           "arrowwidth": 1
          },
          "autotypenumbers": "strict",
          "coloraxis": {
           "colorbar": {
            "outlinewidth": 0,
            "ticks": ""
           }
          },
          "colorscale": {
           "diverging": [
            [
             0,
             "#8e0152"
            ],
            [
             0.1,
             "#c51b7d"
            ],
            [
             0.2,
             "#de77ae"
            ],
            [
             0.3,
             "#f1b6da"
            ],
            [
             0.4,
             "#fde0ef"
            ],
            [
             0.5,
             "#f7f7f7"
            ],
            [
             0.6,
             "#e6f5d0"
            ],
            [
             0.7,
             "#b8e186"
            ],
            [
             0.8,
             "#7fbc41"
            ],
            [
             0.9,
             "#4d9221"
            ],
            [
             1,
             "#276419"
            ]
           ],
           "sequential": [
            [
             0,
             "#0d0887"
            ],
            [
             0.1111111111111111,
             "#46039f"
            ],
            [
             0.2222222222222222,
             "#7201a8"
            ],
            [
             0.3333333333333333,
             "#9c179e"
            ],
            [
             0.4444444444444444,
             "#bd3786"
            ],
            [
             0.5555555555555556,
             "#d8576b"
            ],
            [
             0.6666666666666666,
             "#ed7953"
            ],
            [
             0.7777777777777778,
             "#fb9f3a"
            ],
            [
             0.8888888888888888,
             "#fdca26"
            ],
            [
             1,
             "#f0f921"
            ]
           ],
           "sequentialminus": [
            [
             0,
             "#0d0887"
            ],
            [
             0.1111111111111111,
             "#46039f"
            ],
            [
             0.2222222222222222,
             "#7201a8"
            ],
            [
             0.3333333333333333,
             "#9c179e"
            ],
            [
             0.4444444444444444,
             "#bd3786"
            ],
            [
             0.5555555555555556,
             "#d8576b"
            ],
            [
             0.6666666666666666,
             "#ed7953"
            ],
            [
             0.7777777777777778,
             "#fb9f3a"
            ],
            [
             0.8888888888888888,
             "#fdca26"
            ],
            [
             1,
             "#f0f921"
            ]
           ]
          },
          "colorway": [
           "#636efa",
           "#EF553B",
           "#00cc96",
           "#ab63fa",
           "#FFA15A",
           "#19d3f3",
           "#FF6692",
           "#B6E880",
           "#FF97FF",
           "#FECB52"
          ],
          "font": {
           "color": "#2a3f5f"
          },
          "geo": {
           "bgcolor": "white",
           "lakecolor": "white",
           "landcolor": "#E5ECF6",
           "showlakes": true,
           "showland": true,
           "subunitcolor": "white"
          },
          "hoverlabel": {
           "align": "left"
          },
          "hovermode": "closest",
          "mapbox": {
           "style": "light"
          },
          "paper_bgcolor": "white",
          "plot_bgcolor": "#E5ECF6",
          "polar": {
           "angularaxis": {
            "gridcolor": "white",
            "linecolor": "white",
            "ticks": ""
           },
           "bgcolor": "#E5ECF6",
           "radialaxis": {
            "gridcolor": "white",
            "linecolor": "white",
            "ticks": ""
           }
          },
          "scene": {
           "xaxis": {
            "backgroundcolor": "#E5ECF6",
            "gridcolor": "white",
            "gridwidth": 2,
            "linecolor": "white",
            "showbackground": true,
            "ticks": "",
            "zerolinecolor": "white"
           },
           "yaxis": {
            "backgroundcolor": "#E5ECF6",
            "gridcolor": "white",
            "gridwidth": 2,
            "linecolor": "white",
            "showbackground": true,
            "ticks": "",
            "zerolinecolor": "white"
           },
           "zaxis": {
            "backgroundcolor": "#E5ECF6",
            "gridcolor": "white",
            "gridwidth": 2,
            "linecolor": "white",
            "showbackground": true,
            "ticks": "",
            "zerolinecolor": "white"
           }
          },
          "shapedefaults": {
           "line": {
            "color": "#2a3f5f"
           }
          },
          "ternary": {
           "aaxis": {
            "gridcolor": "white",
            "linecolor": "white",
            "ticks": ""
           },
           "baxis": {
            "gridcolor": "white",
            "linecolor": "white",
            "ticks": ""
           },
           "bgcolor": "#E5ECF6",
           "caxis": {
            "gridcolor": "white",
            "linecolor": "white",
            "ticks": ""
           }
          },
          "title": {
           "x": 0.05
          },
          "xaxis": {
           "automargin": true,
           "gridcolor": "white",
           "linecolor": "white",
           "ticks": "",
           "title": {
            "standoff": 15
           },
           "zerolinecolor": "white",
           "zerolinewidth": 2
          },
          "yaxis": {
           "automargin": true,
           "gridcolor": "white",
           "linecolor": "white",
           "ticks": "",
           "title": {
            "standoff": 15
           },
           "zerolinecolor": "white",
           "zerolinewidth": 2
          }
         }
        },
        "title": {
         "text": "Slice Plot"
        },
        "width": 1200,
        "xaxis": {
         "anchor": "y",
         "domain": [
          0,
          0.2125
         ],
         "title": {
          "text": "batch_size"
         }
        },
        "xaxis2": {
         "anchor": "y2",
         "domain": [
          0.2625,
          0.475
         ],
         "title": {
          "text": "learning_rate"
         },
         "type": "log"
        },
        "xaxis3": {
         "anchor": "y3",
         "domain": [
          0.525,
          0.7375
         ],
         "title": {
          "text": "num_epochs"
         }
        },
        "xaxis4": {
         "anchor": "y4",
         "domain": [
          0.7875,
          1
         ],
         "title": {
          "text": "weight_decay"
         },
         "type": "log"
        },
        "yaxis": {
         "anchor": "x",
         "domain": [
          0,
          1
         ],
         "title": {
          "text": "Objective Value"
         }
        },
        "yaxis2": {
         "anchor": "x2",
         "domain": [
          0,
          1
         ],
         "matches": "y",
         "showticklabels": false
        },
        "yaxis3": {
         "anchor": "x3",
         "domain": [
          0,
          1
         ],
         "matches": "y",
         "showticklabels": false
        },
        "yaxis4": {
         "anchor": "x4",
         "domain": [
          0,
          1
         ],
         "matches": "y",
         "showticklabels": false
        }
       }
      },
      "text/html": [
       "<div>                            <div id=\"49d8557d-1e8b-4dc9-a136-ad1d534879ff\" class=\"plotly-graph-div\" style=\"height:525px; width:1200px;\"></div>            <script type=\"text/javascript\">                require([\"plotly\"], function(Plotly) {                    window.PLOTLYENV=window.PLOTLYENV || {};                                    if (document.getElementById(\"49d8557d-1e8b-4dc9-a136-ad1d534879ff\")) {                    Plotly.newPlot(                        \"49d8557d-1e8b-4dc9-a136-ad1d534879ff\",                        [{\"marker\":{\"color\":[0,1,2,3,4,5,6,7,8,9,10,11,12,13,14,15,16,17,18,19,20,21,22,23,24,25,26,27,28,29,30,31,32,33,34,35,36,37,38,39,40,41,42,43,44,45,46,47,48,49,50,51,52,53,54,55,56,57,58,59,60,61,62,63,64,65,66,67,68,69,70,71,72,73,74,75,76,77,78,79,80,81,82,83,84,85,86,87,88,89,90,91,92,93,94,95,96,97,98,99],\"colorbar\":{\"title\":{\"text\":\"Trial\"},\"x\":1.0,\"xpad\":40},\"colorscale\":[[0.0,\"rgb(247,251,255)\"],[0.125,\"rgb(222,235,247)\"],[0.25,\"rgb(198,219,239)\"],[0.375,\"rgb(158,202,225)\"],[0.5,\"rgb(107,174,214)\"],[0.625,\"rgb(66,146,198)\"],[0.75,\"rgb(33,113,181)\"],[0.875,\"rgb(8,81,156)\"],[1.0,\"rgb(8,48,107)\"]],\"line\":{\"color\":\"Grey\",\"width\":0.5},\"showscale\":true},\"mode\":\"markers\",\"name\":\"Feasible Trial\",\"showlegend\":false,\"x\":[22,29,32,12,15,17,20,12,28,19,8,8,17,17,8,26,8,8,8,32,8,8,20,32,8,8,15,8,8,32,8,15,8,8,8,8,8,8,32,8,8,8,8,8,8,32,8,32,32,8,8,19,8,8,8,8,8,8,8,8,23,8,8,8,8,8,8,8,8,8,8,32,8,8,8,8,8,8,8,8,8,8,8,8,8,8,32,19,8,8,8,8,8,8,8,8,32,8,32,32],\"y\":[0.21443050354719162,0.29433411210775373,0.08357351049780845,0.1585923619568348,0.09208958595991135,0.23093505650758744,0.0895315632224083,0.27517361268401147,0.35273203402757647,0.2849214643239975,0.0762409970164299,0.07926800362765789,0.08034391328692436,0.3438532382249832,0.08200299590826035,0.08837435692548752,0.11332080066204071,0.0785882256925106,0.1287364661693573,0.09135561063885689,0.07804465666413307,0.08892145827412605,0.08097904920578003,0.11908312067389488,0.08225952461361885,0.08475029356777668,0.07837462462484837,0.07950513623654842,0.08258026801049709,0.12005924135446548,0.07924627214670181,0.08049811348319054,0.07405714839696884,0.08715742081403732,0.08469488136470318,0.07955433987081051,0.07795154340565205,0.07706292979419231,0.08789623081684113,0.0747527789324522,0.0774317279458046,0.0733940176665783,0.07909372337162494,0.0773922424763441,0.07697259783744811,0.14054585248231888,0.18748915791511536,0.08429685123264789,0.08468027971684933,0.14796990603208543,0.08990498036146163,0.0801982343196869,0.07335403822362423,0.07442718297243119,0.07512830421328545,0.07465498372912407,0.07528278492391109,0.07767384387552738,0.08203751742839813,0.26669165939092637,0.08196538127958775,0.07829885967075825,0.07337309196591377,0.07535913549363613,0.07548421286046506,0.1454940401017666,0.08041612580418586,0.07657604813575744,0.07590967826545239,0.0751570500433445,0.07791821882128716,0.10626933127641677,0.07618685849010945,0.07840010039508342,0.07516024336218834,0.08179977983236313,0.07379421032965183,0.07569569423794746,0.07792004197835922,0.14494968503713607,0.07661283574998379,0.07713330760598183,0.07332753874361515,0.07596767023205757,0.07414759770035743,0.07748598270118237,0.08051670901477337,0.07728773094713688,0.0732130877673626,0.07276419922709465,0.07326767481863498,0.07300414182245732,0.07432681545615197,0.09209344238042831,0.07192480079829693,0.12009125426411629,0.08048251494765282,0.12553044855594636,0.08429520949721336,0.0822027113288641],\"type\":\"scatter\",\"xaxis\":\"x\",\"yaxis\":\"y\"},{\"marker\":{\"color\":[0,1,2,3,4,5,6,7,8,9,10,11,12,13,14,15,16,17,18,19,20,21,22,23,24,25,26,27,28,29,30,31,32,33,34,35,36,37,38,39,40,41,42,43,44,45,46,47,48,49,50,51,52,53,54,55,56,57,58,59,60,61,62,63,64,65,66,67,68,69,70,71,72,73,74,75,76,77,78,79,80,81,82,83,84,85,86,87,88,89,90,91,92,93,94,95,96,97,98,99],\"colorbar\":{\"title\":{\"text\":\"Trial\"},\"x\":1.0,\"xpad\":40},\"colorscale\":[[0.0,\"rgb(247,251,255)\"],[0.125,\"rgb(222,235,247)\"],[0.25,\"rgb(198,219,239)\"],[0.375,\"rgb(158,202,225)\"],[0.5,\"rgb(107,174,214)\"],[0.625,\"rgb(66,146,198)\"],[0.75,\"rgb(33,113,181)\"],[0.875,\"rgb(8,81,156)\"],[1.0,\"rgb(8,48,107)\"]],\"line\":{\"color\":\"Grey\",\"width\":0.5},\"showscale\":false},\"mode\":\"markers\",\"name\":\"Feasible Trial\",\"showlegend\":false,\"x\":[0.566984951147885,6.025215736203858e-05,0.034702669886504146,0.00011526449540315612,0.00420515645091387,4.98275235707645e-05,0.08431013932082466,1.7070728830306648e-05,0.5551721685244719,3.0786517836196185e-05,0.013392027055044694,0.011301477859424546,0.010648013931620355,0.4825285567167767,0.0031533177262184813,0.014186341072256326,0.001758107969385668,0.02631768584777619,0.009748628796346073,0.0035991629744610894,0.007451701987083012,0.0071356857913574875,0.009843503327694443,0.012888810323988503,0.0017434336458933128,0.0035989051793178383,0.020237138179491368,0.004917839674320004,0.024241267807574785,0.0005864417078183384,0.005490299934171491,0.011772579500161395,0.011076889363582386,0.0019208996772837798,0.0013257287029527062,0.005404780669843671,0.02289508819400748,0.015357720878612724,0.05856166002730532,0.013675427694447632,0.00935237663363113,0.004034241775912632,0.0033566278479214002,0.005644121522614916,0.007707197217609839,0.004919589680167446,0.17354535552124847,0.04967498389148957,0.007695375008167859,0.0008938573665495067,0.0015135405670900135,0.005561382558511245,0.006653216012204833,0.005978052323875027,0.008807653169721022,0.005969366329038561,0.013402777041368956,0.03503866380496468,0.002256811499992727,1e-05,0.035514293168716675,0.005934746094176737,0.024375928384748675,0.022696276136644055,0.01853252839559867,0.00012739549773388854,0.006169878083641603,0.005993783659225074,0.02334325358743984,0.009737431090536972,0.037062834936078225,0.002100814162400362,0.014497653769456526,0.003599405304915896,0.0075803998744892005,0.008814652837416732,0.013565728727798333,0.014225121810179212,0.01681349339422478,0.05533270502474541,0.013455353710817982,0.013050837273242338,0.013259553805746851,0.012622351153053534,0.015354256956713991,0.023464978286262008,0.01655996092453241,0.017420764334501106,0.01409923568733672,0.0141766680631574,0.0168734881464473,0.014256722453607196,0.0168259483516222,0.0008815853989487624,0.013296373945166117,0.0004775785136715312,0.03123517788795571,0.001369219946564557,0.0775509522233108,0.011212116653581612],\"y\":[0.21443050354719162,0.29433411210775373,0.08357351049780845,0.1585923619568348,0.09208958595991135,0.23093505650758744,0.0895315632224083,0.27517361268401147,0.35273203402757647,0.2849214643239975,0.0762409970164299,0.07926800362765789,0.08034391328692436,0.3438532382249832,0.08200299590826035,0.08837435692548752,0.11332080066204071,0.0785882256925106,0.1287364661693573,0.09135561063885689,0.07804465666413307,0.08892145827412605,0.08097904920578003,0.11908312067389488,0.08225952461361885,0.08475029356777668,0.07837462462484837,0.07950513623654842,0.08258026801049709,0.12005924135446548,0.07924627214670181,0.08049811348319054,0.07405714839696884,0.08715742081403732,0.08469488136470318,0.07955433987081051,0.07795154340565205,0.07706292979419231,0.08789623081684113,0.0747527789324522,0.0774317279458046,0.0733940176665783,0.07909372337162494,0.0773922424763441,0.07697259783744811,0.14054585248231888,0.18748915791511536,0.08429685123264789,0.08468027971684933,0.14796990603208543,0.08990498036146163,0.0801982343196869,0.07335403822362423,0.07442718297243119,0.07512830421328545,0.07465498372912407,0.07528278492391109,0.07767384387552738,0.08203751742839813,0.26669165939092637,0.08196538127958775,0.07829885967075825,0.07337309196591377,0.07535913549363613,0.07548421286046506,0.1454940401017666,0.08041612580418586,0.07657604813575744,0.07590967826545239,0.0751570500433445,0.07791821882128716,0.10626933127641677,0.07618685849010945,0.07840010039508342,0.07516024336218834,0.08179977983236313,0.07379421032965183,0.07569569423794746,0.07792004197835922,0.14494968503713607,0.07661283574998379,0.07713330760598183,0.07332753874361515,0.07596767023205757,0.07414759770035743,0.07748598270118237,0.08051670901477337,0.07728773094713688,0.0732130877673626,0.07276419922709465,0.07326767481863498,0.07300414182245732,0.07432681545615197,0.09209344238042831,0.07192480079829693,0.12009125426411629,0.08048251494765282,0.12553044855594636,0.08429520949721336,0.0822027113288641],\"type\":\"scatter\",\"xaxis\":\"x2\",\"yaxis\":\"y2\"},{\"marker\":{\"color\":[0,1,2,3,4,5,6,7,8,9,10,11,12,13,14,15,16,17,18,19,20,21,22,23,24,25,26,27,28,29,30,31,32,33,34,35,36,37,38,39,40,41,42,43,44,45,46,47,48,49,50,51,52,53,54,55,56,57,58,59,60,61,62,63,64,65,66,67,68,69,70,71,72,73,74,75,76,77,78,79,80,81,82,83,84,85,86,87,88,89,90,91,92,93,94,95,96,97,98,99],\"colorbar\":{\"title\":{\"text\":\"Trial\"},\"x\":1.0,\"xpad\":40},\"colorscale\":[[0.0,\"rgb(247,251,255)\"],[0.125,\"rgb(222,235,247)\"],[0.25,\"rgb(198,219,239)\"],[0.375,\"rgb(158,202,225)\"],[0.5,\"rgb(107,174,214)\"],[0.625,\"rgb(66,146,198)\"],[0.75,\"rgb(33,113,181)\"],[0.875,\"rgb(8,81,156)\"],[1.0,\"rgb(8,48,107)\"]],\"line\":{\"color\":\"Grey\",\"width\":0.5},\"showscale\":false},\"mode\":\"markers\",\"name\":\"Feasible Trial\",\"showlegend\":false,\"x\":[9,5,13,17,8,14,11,13,4,8,16,11,14,20,16,11,20,13,10,18,15,6,15,17,20,9,14,18,9,20,17,15,15,14,19,12,12,15,9,15,16,20,20,20,20,3,7,12,20,3,11,20,20,20,20,20,14,14,15,20,11,13,14,14,16,20,15,20,15,19,13,12,14,20,20,9,17,17,20,20,20,18,20,20,18,17,20,18,18,18,18,18,18,15,18,13,16,3,14,20],\"y\":[0.21443050354719162,0.29433411210775373,0.08357351049780845,0.1585923619568348,0.09208958595991135,0.23093505650758744,0.0895315632224083,0.27517361268401147,0.35273203402757647,0.2849214643239975,0.0762409970164299,0.07926800362765789,0.08034391328692436,0.3438532382249832,0.08200299590826035,0.08837435692548752,0.11332080066204071,0.0785882256925106,0.1287364661693573,0.09135561063885689,0.07804465666413307,0.08892145827412605,0.08097904920578003,0.11908312067389488,0.08225952461361885,0.08475029356777668,0.07837462462484837,0.07950513623654842,0.08258026801049709,0.12005924135446548,0.07924627214670181,0.08049811348319054,0.07405714839696884,0.08715742081403732,0.08469488136470318,0.07955433987081051,0.07795154340565205,0.07706292979419231,0.08789623081684113,0.0747527789324522,0.0774317279458046,0.0733940176665783,0.07909372337162494,0.0773922424763441,0.07697259783744811,0.14054585248231888,0.18748915791511536,0.08429685123264789,0.08468027971684933,0.14796990603208543,0.08990498036146163,0.0801982343196869,0.07335403822362423,0.07442718297243119,0.07512830421328545,0.07465498372912407,0.07528278492391109,0.07767384387552738,0.08203751742839813,0.26669165939092637,0.08196538127958775,0.07829885967075825,0.07337309196591377,0.07535913549363613,0.07548421286046506,0.1454940401017666,0.08041612580418586,0.07657604813575744,0.07590967826545239,0.0751570500433445,0.07791821882128716,0.10626933127641677,0.07618685849010945,0.07840010039508342,0.07516024336218834,0.08179977983236313,0.07379421032965183,0.07569569423794746,0.07792004197835922,0.14494968503713607,0.07661283574998379,0.07713330760598183,0.07332753874361515,0.07596767023205757,0.07414759770035743,0.07748598270118237,0.08051670901477337,0.07728773094713688,0.0732130877673626,0.07276419922709465,0.07326767481863498,0.07300414182245732,0.07432681545615197,0.09209344238042831,0.07192480079829693,0.12009125426411629,0.08048251494765282,0.12553044855594636,0.08429520949721336,0.0822027113288641],\"type\":\"scatter\",\"xaxis\":\"x3\",\"yaxis\":\"y3\"},{\"marker\":{\"color\":[0,1,2,3,4,5,6,7,8,9,10,11,12,13,14,15,16,17,18,19,20,21,22,23,24,25,26,27,28,29,30,31,32,33,34,35,36,37,38,39,40,41,42,43,44,45,46,47,48,49,50,51,52,53,54,55,56,57,58,59,60,61,62,63,64,65,66,67,68,69,70,71,72,73,74,75,76,77,78,79,80,81,82,83,84,85,86,87,88,89,90,91,92,93,94,95,96,97,98,99],\"colorbar\":{\"title\":{\"text\":\"Trial\"},\"x\":1.0,\"xpad\":40},\"colorscale\":[[0.0,\"rgb(247,251,255)\"],[0.125,\"rgb(222,235,247)\"],[0.25,\"rgb(198,219,239)\"],[0.375,\"rgb(158,202,225)\"],[0.5,\"rgb(107,174,214)\"],[0.625,\"rgb(66,146,198)\"],[0.75,\"rgb(33,113,181)\"],[0.875,\"rgb(8,81,156)\"],[1.0,\"rgb(8,48,107)\"]],\"line\":{\"color\":\"Grey\",\"width\":0.5},\"showscale\":false},\"mode\":\"markers\",\"name\":\"Feasible Trial\",\"showlegend\":false,\"x\":[0.0457056309980145,1.951722464144947e-05,1.2674255898937214e-05,8.111941985431919e-05,0.0014445251022763056,0.00028888383623653144,9.962513222055098e-05,0.010907475835157693,0.6732248920775336,0.026373339933815243,5.64516379364188e-05,1e-05,0.01120434075043897,1e-05,1e-05,9.195318852786405e-05,1.0,1.5909031592698116e-05,1.0,0.00016428336171699673,0.00034388479259615286,1e-05,1e-05,1.0,1e-05,1e-05,0.0005138446442841786,1e-05,1e-05,1e-05,0.0005378956837723897,0.0002976994447658206,1e-05,0.04090559769869345,0.0007865001260912976,0.0013235940155637068,0.0008970677274904065,0.009417834771401611,1e-05,1e-05,1e-05,0.00032132993719432787,0.00012476017016896718,0.00447455424005808,0.00034528935398704544,1e-05,1e-05,0.0020563970162250185,1e-05,1.0,0.0010668058160168308,0.0006319593304693629,1e-05,1e-05,1e-05,1e-05,0.0013816769994806728,0.004876383352174057,0.0009334603570344453,1e-05,1e-05,1e-05,0.0006113701750806873,0.0008170918201723736,1e-05,1.0,0.013400272946156198,8.122606191693902e-05,0.000689978022905511,1e-05,0.0005059495575389271,0.019268063999661897,1e-05,0.001817833247557078,1e-05,7.083826965265469e-05,1e-05,0.0017683745950386018,0.013437319580317337,1.0,0.0012082779396053733,0.007526193537700995,1e-05,1e-05,1e-05,0.00140150526732374,0.001646697261036787,1e-05,1e-05,1e-05,1e-05,1e-05,1e-05,1e-05,1e-05,1.0,0.0023785736589860503,1e-05,0.0009209075080018398,0.02101950061567978],\"y\":[0.21443050354719162,0.29433411210775373,0.08357351049780845,0.1585923619568348,0.09208958595991135,0.23093505650758744,0.0895315632224083,0.27517361268401147,0.35273203402757647,0.2849214643239975,0.0762409970164299,0.07926800362765789,0.08034391328692436,0.3438532382249832,0.08200299590826035,0.08837435692548752,0.11332080066204071,0.0785882256925106,0.1287364661693573,0.09135561063885689,0.07804465666413307,0.08892145827412605,0.08097904920578003,0.11908312067389488,0.08225952461361885,0.08475029356777668,0.07837462462484837,0.07950513623654842,0.08258026801049709,0.12005924135446548,0.07924627214670181,0.08049811348319054,0.07405714839696884,0.08715742081403732,0.08469488136470318,0.07955433987081051,0.07795154340565205,0.07706292979419231,0.08789623081684113,0.0747527789324522,0.0774317279458046,0.0733940176665783,0.07909372337162494,0.0773922424763441,0.07697259783744811,0.14054585248231888,0.18748915791511536,0.08429685123264789,0.08468027971684933,0.14796990603208543,0.08990498036146163,0.0801982343196869,0.07335403822362423,0.07442718297243119,0.07512830421328545,0.07465498372912407,0.07528278492391109,0.07767384387552738,0.08203751742839813,0.26669165939092637,0.08196538127958775,0.07829885967075825,0.07337309196591377,0.07535913549363613,0.07548421286046506,0.1454940401017666,0.08041612580418586,0.07657604813575744,0.07590967826545239,0.0751570500433445,0.07791821882128716,0.10626933127641677,0.07618685849010945,0.07840010039508342,0.07516024336218834,0.08179977983236313,0.07379421032965183,0.07569569423794746,0.07792004197835922,0.14494968503713607,0.07661283574998379,0.07713330760598183,0.07332753874361515,0.07596767023205757,0.07414759770035743,0.07748598270118237,0.08051670901477337,0.07728773094713688,0.0732130877673626,0.07276419922709465,0.07326767481863498,0.07300414182245732,0.07432681545615197,0.09209344238042831,0.07192480079829693,0.12009125426411629,0.08048251494765282,0.12553044855594636,0.08429520949721336,0.0822027113288641],\"type\":\"scatter\",\"xaxis\":\"x4\",\"yaxis\":\"y4\"}],                        {\"template\":{\"data\":{\"histogram2dcontour\":[{\"type\":\"histogram2dcontour\",\"colorbar\":{\"outlinewidth\":0,\"ticks\":\"\"},\"colorscale\":[[0.0,\"#0d0887\"],[0.1111111111111111,\"#46039f\"],[0.2222222222222222,\"#7201a8\"],[0.3333333333333333,\"#9c179e\"],[0.4444444444444444,\"#bd3786\"],[0.5555555555555556,\"#d8576b\"],[0.6666666666666666,\"#ed7953\"],[0.7777777777777778,\"#fb9f3a\"],[0.8888888888888888,\"#fdca26\"],[1.0,\"#f0f921\"]]}],\"choropleth\":[{\"type\":\"choropleth\",\"colorbar\":{\"outlinewidth\":0,\"ticks\":\"\"}}],\"histogram2d\":[{\"type\":\"histogram2d\",\"colorbar\":{\"outlinewidth\":0,\"ticks\":\"\"},\"colorscale\":[[0.0,\"#0d0887\"],[0.1111111111111111,\"#46039f\"],[0.2222222222222222,\"#7201a8\"],[0.3333333333333333,\"#9c179e\"],[0.4444444444444444,\"#bd3786\"],[0.5555555555555556,\"#d8576b\"],[0.6666666666666666,\"#ed7953\"],[0.7777777777777778,\"#fb9f3a\"],[0.8888888888888888,\"#fdca26\"],[1.0,\"#f0f921\"]]}],\"heatmap\":[{\"type\":\"heatmap\",\"colorbar\":{\"outlinewidth\":0,\"ticks\":\"\"},\"colorscale\":[[0.0,\"#0d0887\"],[0.1111111111111111,\"#46039f\"],[0.2222222222222222,\"#7201a8\"],[0.3333333333333333,\"#9c179e\"],[0.4444444444444444,\"#bd3786\"],[0.5555555555555556,\"#d8576b\"],[0.6666666666666666,\"#ed7953\"],[0.7777777777777778,\"#fb9f3a\"],[0.8888888888888888,\"#fdca26\"],[1.0,\"#f0f921\"]]}],\"heatmapgl\":[{\"type\":\"heatmapgl\",\"colorbar\":{\"outlinewidth\":0,\"ticks\":\"\"},\"colorscale\":[[0.0,\"#0d0887\"],[0.1111111111111111,\"#46039f\"],[0.2222222222222222,\"#7201a8\"],[0.3333333333333333,\"#9c179e\"],[0.4444444444444444,\"#bd3786\"],[0.5555555555555556,\"#d8576b\"],[0.6666666666666666,\"#ed7953\"],[0.7777777777777778,\"#fb9f3a\"],[0.8888888888888888,\"#fdca26\"],[1.0,\"#f0f921\"]]}],\"contourcarpet\":[{\"type\":\"contourcarpet\",\"colorbar\":{\"outlinewidth\":0,\"ticks\":\"\"}}],\"contour\":[{\"type\":\"contour\",\"colorbar\":{\"outlinewidth\":0,\"ticks\":\"\"},\"colorscale\":[[0.0,\"#0d0887\"],[0.1111111111111111,\"#46039f\"],[0.2222222222222222,\"#7201a8\"],[0.3333333333333333,\"#9c179e\"],[0.4444444444444444,\"#bd3786\"],[0.5555555555555556,\"#d8576b\"],[0.6666666666666666,\"#ed7953\"],[0.7777777777777778,\"#fb9f3a\"],[0.8888888888888888,\"#fdca26\"],[1.0,\"#f0f921\"]]}],\"surface\":[{\"type\":\"surface\",\"colorbar\":{\"outlinewidth\":0,\"ticks\":\"\"},\"colorscale\":[[0.0,\"#0d0887\"],[0.1111111111111111,\"#46039f\"],[0.2222222222222222,\"#7201a8\"],[0.3333333333333333,\"#9c179e\"],[0.4444444444444444,\"#bd3786\"],[0.5555555555555556,\"#d8576b\"],[0.6666666666666666,\"#ed7953\"],[0.7777777777777778,\"#fb9f3a\"],[0.8888888888888888,\"#fdca26\"],[1.0,\"#f0f921\"]]}],\"mesh3d\":[{\"type\":\"mesh3d\",\"colorbar\":{\"outlinewidth\":0,\"ticks\":\"\"}}],\"scatter\":[{\"fillpattern\":{\"fillmode\":\"overlay\",\"size\":10,\"solidity\":0.2},\"type\":\"scatter\"}],\"parcoords\":[{\"type\":\"parcoords\",\"line\":{\"colorbar\":{\"outlinewidth\":0,\"ticks\":\"\"}}}],\"scatterpolargl\":[{\"type\":\"scatterpolargl\",\"marker\":{\"colorbar\":{\"outlinewidth\":0,\"ticks\":\"\"}}}],\"bar\":[{\"error_x\":{\"color\":\"#2a3f5f\"},\"error_y\":{\"color\":\"#2a3f5f\"},\"marker\":{\"line\":{\"color\":\"#E5ECF6\",\"width\":0.5},\"pattern\":{\"fillmode\":\"overlay\",\"size\":10,\"solidity\":0.2}},\"type\":\"bar\"}],\"scattergeo\":[{\"type\":\"scattergeo\",\"marker\":{\"colorbar\":{\"outlinewidth\":0,\"ticks\":\"\"}}}],\"scatterpolar\":[{\"type\":\"scatterpolar\",\"marker\":{\"colorbar\":{\"outlinewidth\":0,\"ticks\":\"\"}}}],\"histogram\":[{\"marker\":{\"pattern\":{\"fillmode\":\"overlay\",\"size\":10,\"solidity\":0.2}},\"type\":\"histogram\"}],\"scattergl\":[{\"type\":\"scattergl\",\"marker\":{\"colorbar\":{\"outlinewidth\":0,\"ticks\":\"\"}}}],\"scatter3d\":[{\"type\":\"scatter3d\",\"line\":{\"colorbar\":{\"outlinewidth\":0,\"ticks\":\"\"}},\"marker\":{\"colorbar\":{\"outlinewidth\":0,\"ticks\":\"\"}}}],\"scattermapbox\":[{\"type\":\"scattermapbox\",\"marker\":{\"colorbar\":{\"outlinewidth\":0,\"ticks\":\"\"}}}],\"scatterternary\":[{\"type\":\"scatterternary\",\"marker\":{\"colorbar\":{\"outlinewidth\":0,\"ticks\":\"\"}}}],\"scattercarpet\":[{\"type\":\"scattercarpet\",\"marker\":{\"colorbar\":{\"outlinewidth\":0,\"ticks\":\"\"}}}],\"carpet\":[{\"aaxis\":{\"endlinecolor\":\"#2a3f5f\",\"gridcolor\":\"white\",\"linecolor\":\"white\",\"minorgridcolor\":\"white\",\"startlinecolor\":\"#2a3f5f\"},\"baxis\":{\"endlinecolor\":\"#2a3f5f\",\"gridcolor\":\"white\",\"linecolor\":\"white\",\"minorgridcolor\":\"white\",\"startlinecolor\":\"#2a3f5f\"},\"type\":\"carpet\"}],\"table\":[{\"cells\":{\"fill\":{\"color\":\"#EBF0F8\"},\"line\":{\"color\":\"white\"}},\"header\":{\"fill\":{\"color\":\"#C8D4E3\"},\"line\":{\"color\":\"white\"}},\"type\":\"table\"}],\"barpolar\":[{\"marker\":{\"line\":{\"color\":\"#E5ECF6\",\"width\":0.5},\"pattern\":{\"fillmode\":\"overlay\",\"size\":10,\"solidity\":0.2}},\"type\":\"barpolar\"}],\"pie\":[{\"automargin\":true,\"type\":\"pie\"}]},\"layout\":{\"autotypenumbers\":\"strict\",\"colorway\":[\"#636efa\",\"#EF553B\",\"#00cc96\",\"#ab63fa\",\"#FFA15A\",\"#19d3f3\",\"#FF6692\",\"#B6E880\",\"#FF97FF\",\"#FECB52\"],\"font\":{\"color\":\"#2a3f5f\"},\"hovermode\":\"closest\",\"hoverlabel\":{\"align\":\"left\"},\"paper_bgcolor\":\"white\",\"plot_bgcolor\":\"#E5ECF6\",\"polar\":{\"bgcolor\":\"#E5ECF6\",\"angularaxis\":{\"gridcolor\":\"white\",\"linecolor\":\"white\",\"ticks\":\"\"},\"radialaxis\":{\"gridcolor\":\"white\",\"linecolor\":\"white\",\"ticks\":\"\"}},\"ternary\":{\"bgcolor\":\"#E5ECF6\",\"aaxis\":{\"gridcolor\":\"white\",\"linecolor\":\"white\",\"ticks\":\"\"},\"baxis\":{\"gridcolor\":\"white\",\"linecolor\":\"white\",\"ticks\":\"\"},\"caxis\":{\"gridcolor\":\"white\",\"linecolor\":\"white\",\"ticks\":\"\"}},\"coloraxis\":{\"colorbar\":{\"outlinewidth\":0,\"ticks\":\"\"}},\"colorscale\":{\"sequential\":[[0.0,\"#0d0887\"],[0.1111111111111111,\"#46039f\"],[0.2222222222222222,\"#7201a8\"],[0.3333333333333333,\"#9c179e\"],[0.4444444444444444,\"#bd3786\"],[0.5555555555555556,\"#d8576b\"],[0.6666666666666666,\"#ed7953\"],[0.7777777777777778,\"#fb9f3a\"],[0.8888888888888888,\"#fdca26\"],[1.0,\"#f0f921\"]],\"sequentialminus\":[[0.0,\"#0d0887\"],[0.1111111111111111,\"#46039f\"],[0.2222222222222222,\"#7201a8\"],[0.3333333333333333,\"#9c179e\"],[0.4444444444444444,\"#bd3786\"],[0.5555555555555556,\"#d8576b\"],[0.6666666666666666,\"#ed7953\"],[0.7777777777777778,\"#fb9f3a\"],[0.8888888888888888,\"#fdca26\"],[1.0,\"#f0f921\"]],\"diverging\":[[0,\"#8e0152\"],[0.1,\"#c51b7d\"],[0.2,\"#de77ae\"],[0.3,\"#f1b6da\"],[0.4,\"#fde0ef\"],[0.5,\"#f7f7f7\"],[0.6,\"#e6f5d0\"],[0.7,\"#b8e186\"],[0.8,\"#7fbc41\"],[0.9,\"#4d9221\"],[1,\"#276419\"]]},\"xaxis\":{\"gridcolor\":\"white\",\"linecolor\":\"white\",\"ticks\":\"\",\"title\":{\"standoff\":15},\"zerolinecolor\":\"white\",\"automargin\":true,\"zerolinewidth\":2},\"yaxis\":{\"gridcolor\":\"white\",\"linecolor\":\"white\",\"ticks\":\"\",\"title\":{\"standoff\":15},\"zerolinecolor\":\"white\",\"automargin\":true,\"zerolinewidth\":2},\"scene\":{\"xaxis\":{\"backgroundcolor\":\"#E5ECF6\",\"gridcolor\":\"white\",\"linecolor\":\"white\",\"showbackground\":true,\"ticks\":\"\",\"zerolinecolor\":\"white\",\"gridwidth\":2},\"yaxis\":{\"backgroundcolor\":\"#E5ECF6\",\"gridcolor\":\"white\",\"linecolor\":\"white\",\"showbackground\":true,\"ticks\":\"\",\"zerolinecolor\":\"white\",\"gridwidth\":2},\"zaxis\":{\"backgroundcolor\":\"#E5ECF6\",\"gridcolor\":\"white\",\"linecolor\":\"white\",\"showbackground\":true,\"ticks\":\"\",\"zerolinecolor\":\"white\",\"gridwidth\":2}},\"shapedefaults\":{\"line\":{\"color\":\"#2a3f5f\"}},\"annotationdefaults\":{\"arrowcolor\":\"#2a3f5f\",\"arrowhead\":0,\"arrowwidth\":1},\"geo\":{\"bgcolor\":\"white\",\"landcolor\":\"#E5ECF6\",\"subunitcolor\":\"white\",\"showland\":true,\"showlakes\":true,\"lakecolor\":\"white\"},\"title\":{\"x\":0.05},\"mapbox\":{\"style\":\"light\"}}},\"xaxis\":{\"anchor\":\"y\",\"domain\":[0.0,0.2125],\"title\":{\"text\":\"batch_size\"}},\"yaxis\":{\"anchor\":\"x\",\"domain\":[0.0,1.0],\"title\":{\"text\":\"Objective Value\"}},\"xaxis2\":{\"anchor\":\"y2\",\"domain\":[0.2625,0.475],\"title\":{\"text\":\"learning_rate\"},\"type\":\"log\"},\"yaxis2\":{\"anchor\":\"x2\",\"domain\":[0.0,1.0],\"matches\":\"y\",\"showticklabels\":false},\"xaxis3\":{\"anchor\":\"y3\",\"domain\":[0.525,0.7375],\"title\":{\"text\":\"num_epochs\"}},\"yaxis3\":{\"anchor\":\"x3\",\"domain\":[0.0,1.0],\"matches\":\"y\",\"showticklabels\":false},\"xaxis4\":{\"anchor\":\"y4\",\"domain\":[0.7875,1.0],\"title\":{\"text\":\"weight_decay\"},\"type\":\"log\"},\"yaxis4\":{\"anchor\":\"x4\",\"domain\":[0.0,1.0],\"matches\":\"y\",\"showticklabels\":false},\"title\":{\"text\":\"Slice Plot\"},\"width\":1200},                        {\"responsive\": true}                    ).then(function(){\n",
       "                            \n",
       "var gd = document.getElementById('49d8557d-1e8b-4dc9-a136-ad1d534879ff');\n",
       "var x = new MutationObserver(function (mutations, observer) {{\n",
       "        var display = window.getComputedStyle(gd).display;\n",
       "        if (!display || display === 'none') {{\n",
       "            console.log([gd, 'removed!']);\n",
       "            Plotly.purge(gd);\n",
       "            observer.disconnect();\n",
       "        }}\n",
       "}});\n",
       "\n",
       "// Listen for the removal of the full notebook cells\n",
       "var notebookContainer = gd.closest('#notebook-container');\n",
       "if (notebookContainer) {{\n",
       "    x.observe(notebookContainer, {childList: true});\n",
       "}}\n",
       "\n",
       "// Listen for the clearing of the current output cell\n",
       "var outputEl = gd.closest('.output');\n",
       "if (outputEl) {{\n",
       "    x.observe(outputEl, {childList: true});\n",
       "}}\n",
       "\n",
       "                        })                };                });            </script>        </div>"
      ]
     },
     "metadata": {},
     "output_type": "display_data"
    }
   ],
   "source": [
    "optuna.visualization.plot_slice(study)"
   ]
  },
  {
   "cell_type": "code",
   "execution_count": 18,
   "id": "7537333f",
   "metadata": {},
   "outputs": [
    {
     "data": {
      "application/vnd.plotly.v1+json": {
       "config": {
        "plotlyServerURL": "https://plot.ly"
       },
       "data": [
        {
         "dimensions": [
          {
           "label": "Objective Value",
           "range": [
            0.07192480079829693,
            0.35273203402757647
           ],
           "values": [
            0.21443050354719162,
            0.29433411210775373,
            0.08357351049780845,
            0.1585923619568348,
            0.09208958595991135,
            0.23093505650758744,
            0.0895315632224083,
            0.27517361268401147,
            0.35273203402757647,
            0.2849214643239975,
            0.0762409970164299,
            0.07926800362765789,
            0.08034391328692436,
            0.3438532382249832,
            0.08200299590826035,
            0.08837435692548752,
            0.11332080066204071,
            0.0785882256925106,
            0.1287364661693573,
            0.09135561063885689,
            0.07804465666413307,
            0.08892145827412605,
            0.08097904920578003,
            0.11908312067389488,
            0.08225952461361885,
            0.08475029356777668,
            0.07837462462484837,
            0.07950513623654842,
            0.08258026801049709,
            0.12005924135446548,
            0.07924627214670181,
            0.08049811348319054,
            0.07405714839696884,
            0.08715742081403732,
            0.08469488136470318,
            0.07955433987081051,
            0.07795154340565205,
            0.07706292979419231,
            0.08789623081684113,
            0.0747527789324522,
            0.0774317279458046,
            0.0733940176665783,
            0.07909372337162494,
            0.0773922424763441,
            0.07697259783744811,
            0.14054585248231888,
            0.18748915791511536,
            0.08429685123264789,
            0.08468027971684933,
            0.14796990603208543,
            0.08990498036146163,
            0.0801982343196869,
            0.07335403822362423,
            0.07442718297243119,
            0.07512830421328545,
            0.07465498372912407,
            0.07528278492391109,
            0.07767384387552738,
            0.08203751742839813,
            0.26669165939092637,
            0.08196538127958775,
            0.07829885967075825,
            0.07337309196591377,
            0.07535913549363613,
            0.07548421286046506,
            0.1454940401017666,
            0.08041612580418586,
            0.07657604813575744,
            0.07590967826545239,
            0.0751570500433445,
            0.07791821882128716,
            0.10626933127641677,
            0.07618685849010945,
            0.07840010039508342,
            0.07516024336218834,
            0.08179977983236313,
            0.07379421032965183,
            0.07569569423794746,
            0.07792004197835922,
            0.14494968503713607,
            0.07661283574998379,
            0.07713330760598183,
            0.07332753874361515,
            0.07596767023205757,
            0.07414759770035743,
            0.07748598270118237,
            0.08051670901477337,
            0.07728773094713688,
            0.0732130877673626,
            0.07276419922709465,
            0.07326767481863498,
            0.07300414182245732,
            0.07432681545615197,
            0.09209344238042831,
            0.07192480079829693,
            0.12009125426411629,
            0.08048251494765282,
            0.12553044855594636,
            0.08429520949721336,
            0.0822027113288641
           ]
          },
          {
           "label": "batch_size",
           "range": [
            8,
            32
           ],
           "values": [
            22,
            29,
            32,
            12,
            15,
            17,
            20,
            12,
            28,
            19,
            8,
            8,
            17,
            17,
            8,
            26,
            8,
            8,
            8,
            32,
            8,
            8,
            20,
            32,
            8,
            8,
            15,
            8,
            8,
            32,
            8,
            15,
            8,
            8,
            8,
            8,
            8,
            8,
            32,
            8,
            8,
            8,
            8,
            8,
            8,
            32,
            8,
            32,
            32,
            8,
            8,
            19,
            8,
            8,
            8,
            8,
            8,
            8,
            8,
            8,
            23,
            8,
            8,
            8,
            8,
            8,
            8,
            8,
            8,
            8,
            8,
            32,
            8,
            8,
            8,
            8,
            8,
            8,
            8,
            8,
            8,
            8,
            8,
            8,
            8,
            8,
            32,
            19,
            8,
            8,
            8,
            8,
            8,
            8,
            8,
            8,
            32,
            8,
            32,
            32
           ]
          },
          {
           "label": "learning_rate",
           "range": [
            -5,
            -0.24642846795041928
           ],
           "ticktext": [
            "1e-05",
            "0.0001",
            "0.001",
            "0.01",
            "0.1",
            "0.567"
           ],
           "tickvals": [
            -5,
            -4,
            -3,
            -2,
            -1,
            -0.24642846795041928
           ],
           "values": [
            -0.24642846795041928,
            -4.220027398318987,
            -1.4596371110197723,
            -3.938304446608619,
            -2.3762178418388107,
            -4.302530696739791,
            -1.0741201930349318,
            -4.767747936400011,
            -0.2555723137333341,
            -4.51163942996808,
            -1.8731536819729218,
            -1.9468647614522916,
            -1.972731389311942,
            -0.31647697940303726,
            -2.5012322678212415,
            -1.8481296029241017,
            -2.7549544574371305,
            -1.5797523015218502,
            -2.011056466153697,
            -2.443798487521404,
            -2.127744521992834,
            -2.1465642816818136,
            -2.006850307553891,
            -1.8897871674853401,
            -2.7585945769778597,
            -2.443829595592578,
            -1.693850902935546,
            -2.3082256337292844,
            -1.6154446705026377,
            -3.2317751501827114,
            -2.2604039294665723,
            -1.9291283680872084,
            -1.9555821820172914,
            -2.716495316418784,
            -2.8775453408372793,
            -2.267221925357169,
            -1.6402576791903563,
            -1.8136732298307754,
            -1.2323866209783483,
            -1.8640590823668202,
            -2.029078011831882,
            -2.394238077665589,
            -2.474096806667836,
            -2.2484036440968325,
            -2.113103527815103,
            -2.3080711181818843,
            -0.7605870045709825,
            -1.3038622650503229,
            -2.1137702114387933,
            -3.048731776352313,
            -2.8200059342533406,
            -2.254817229480562,
            -2.176968375939846,
            -2.223440288047031,
            -2.055139795471589,
            -2.224071768436482,
            -1.8728052069495664,
            -1.455452463953595,
            -2.646504713820672,
            -5,
            -1.449596824550444,
            -2.2265978567021056,
            -1.6130388347188485,
            -1.6440453932903139,
            -1.732065325778331,
            -3.8948459200687924,
            -2.2097234175104896,
            -2.2222989366156605,
            -1.6318386120184218,
            -2.01155560270633,
            -1.4310613645636137,
            -2.6776123634977433,
            -1.8387022762081453,
            -2.4437692476016655,
            -2.120307884248742,
            -2.0547947875919115,
            -1.8675568717172746,
            -1.8469440060392412,
            -1.7743420424075729,
            -1.2570180981103645,
            -1.8711048811304511,
            -1.8843616253766837,
            -1.8774710900309728,
            -1.8988597419466884,
            -1.8137711956590141,
            -1.629579843333479,
            -1.7809406923264994,
            -1.7589327942781836,
            -1.8508044295977417,
            -1.8484258292249063,
            -1.772795129256612,
            -1.8459803050534733,
            -1.7740204485144235,
            -3.054735611333141,
            -1.8762667793573116,
            -3.320955220412602,
            -1.5053560163535422,
            -2.863526782759532,
            -1.1104128652547538,
            -1.9503123923831003
           ]
          },
          {
           "label": "num_epochs",
           "range": [
            3,
            20
           ],
           "values": [
            9,
            5,
            13,
            17,
            8,
            14,
            11,
            13,
            4,
            8,
            16,
            11,
            14,
            20,
            16,
            11,
            20,
            13,
            10,
            18,
            15,
            6,
            15,
            17,
            20,
            9,
            14,
            18,
            9,
            20,
            17,
            15,
            15,
            14,
            19,
            12,
            12,
            15,
            9,
            15,
            16,
            20,
            20,
            20,
            20,
            3,
            7,
            12,
            20,
            3,
            11,
            20,
            20,
            20,
            20,
            20,
            14,
            14,
            15,
            20,
            11,
            13,
            14,
            14,
            16,
            20,
            15,
            20,
            15,
            19,
            13,
            12,
            14,
            20,
            20,
            9,
            17,
            17,
            20,
            20,
            20,
            18,
            20,
            20,
            18,
            17,
            20,
            18,
            18,
            18,
            18,
            18,
            18,
            15,
            18,
            13,
            16,
            3,
            14,
            20
           ]
          },
          {
           "label": "weight_decay",
           "range": [
            -5,
            0
           ],
           "ticktext": [
            "1e-05",
            "0.0001",
            "0.001",
            "0.01",
            "0.1",
            "1"
           ],
           "tickvals": [
            -5,
            -4,
            -3,
            -2,
            -1,
            0
           ],
           "values": [
            -1.3400302909429747,
            -4.709581939159003,
            -4.897077528520988,
            -4.090875163964497,
            -2.8402749067894213,
            -3.53927675732391,
            -4.001631089208201,
            -1.9622757404928082,
            -0.17183983462720334,
            -1.5788348674392156,
            -4.248323452562246,
            -5,
            -1.9506136917277066,
            -5,
            -5,
            -4.036433206762523,
            0,
            -4.798356255724109,
            0,
            -3.7844064187949886,
            -3.463587029288792,
            -5,
            -5,
            0,
            -5,
            -5,
            -3.2891681656906004,
            -5,
            -5,
            -5,
            -3.2693019406063395,
            -3.5262219753477835,
            -5,
            -1.3882172571929352,
            -3.1043012034148196,
            -2.878245205106575,
            -3.047174767028393,
            -2.026048933185927,
            -5,
            -5,
            -5,
            -3.4930488108548734,
            -3.9039240415504097,
            -2.349250223080044,
            -3.4618168116764827,
            -5,
            -5,
            -2.686893034953783,
            -5,
            0,
            -2.971914625287063,
            -3.1993108696939743,
            -5,
            -5,
            -5,
            -5,
            -2.8595934719679956,
            -2.311902160069753,
            -3.029904121300086,
            -5,
            -5,
            -5,
            -3.213695751599165,
            -3.087729137159715,
            -5,
            0,
            -1.8728863555305475,
            -4.090304602154083,
            -3.1611647421364677,
            -5,
            -3.2958927795525015,
            -1.7151619198283403,
            -5,
            -2.74044595774072,
            -5,
            -4.149732055746812,
            -5,
            -2.752425732916696,
            -1.87168735386952,
            0,
            -2.9178331536679574,
            -2.1234246178956573,
            -5,
            -5,
            -5,
            -2.853405265677269,
            -2.7833862368632083,
            -5,
            -5,
            -5,
            -5,
            -5,
            -5,
            -5,
            -5,
            0,
            -2.6236833949290257,
            -5,
            -3.0357839862869107,
            -1.6773776062160035
           ]
          }
         ],
         "labelangle": 30,
         "labelside": "bottom",
         "line": {
          "color": [
           0.21443050354719162,
           0.29433411210775373,
           0.08357351049780845,
           0.1585923619568348,
           0.09208958595991135,
           0.23093505650758744,
           0.0895315632224083,
           0.27517361268401147,
           0.35273203402757647,
           0.2849214643239975,
           0.0762409970164299,
           0.07926800362765789,
           0.08034391328692436,
           0.3438532382249832,
           0.08200299590826035,
           0.08837435692548752,
           0.11332080066204071,
           0.0785882256925106,
           0.1287364661693573,
           0.09135561063885689,
           0.07804465666413307,
           0.08892145827412605,
           0.08097904920578003,
           0.11908312067389488,
           0.08225952461361885,
           0.08475029356777668,
           0.07837462462484837,
           0.07950513623654842,
           0.08258026801049709,
           0.12005924135446548,
           0.07924627214670181,
           0.08049811348319054,
           0.07405714839696884,
           0.08715742081403732,
           0.08469488136470318,
           0.07955433987081051,
           0.07795154340565205,
           0.07706292979419231,
           0.08789623081684113,
           0.0747527789324522,
           0.0774317279458046,
           0.0733940176665783,
           0.07909372337162494,
           0.0773922424763441,
           0.07697259783744811,
           0.14054585248231888,
           0.18748915791511536,
           0.08429685123264789,
           0.08468027971684933,
           0.14796990603208543,
           0.08990498036146163,
           0.0801982343196869,
           0.07335403822362423,
           0.07442718297243119,
           0.07512830421328545,
           0.07465498372912407,
           0.07528278492391109,
           0.07767384387552738,
           0.08203751742839813,
           0.26669165939092637,
           0.08196538127958775,
           0.07829885967075825,
           0.07337309196591377,
           0.07535913549363613,
           0.07548421286046506,
           0.1454940401017666,
           0.08041612580418586,
           0.07657604813575744,
           0.07590967826545239,
           0.0751570500433445,
           0.07791821882128716,
           0.10626933127641677,
           0.07618685849010945,
           0.07840010039508342,
           0.07516024336218834,
           0.08179977983236313,
           0.07379421032965183,
           0.07569569423794746,
           0.07792004197835922,
           0.14494968503713607,
           0.07661283574998379,
           0.07713330760598183,
           0.07332753874361515,
           0.07596767023205757,
           0.07414759770035743,
           0.07748598270118237,
           0.08051670901477337,
           0.07728773094713688,
           0.0732130877673626,
           0.07276419922709465,
           0.07326767481863498,
           0.07300414182245732,
           0.07432681545615197,
           0.09209344238042831,
           0.07192480079829693,
           0.12009125426411629,
           0.08048251494765282,
           0.12553044855594636,
           0.08429520949721336,
           0.0822027113288641
          ],
          "colorbar": {
           "title": {
            "text": "Objective Value"
           }
          },
          "colorscale": [
           [
            0,
            "rgb(247,251,255)"
           ],
           [
            0.125,
            "rgb(222,235,247)"
           ],
           [
            0.25,
            "rgb(198,219,239)"
           ],
           [
            0.375,
            "rgb(158,202,225)"
           ],
           [
            0.5,
            "rgb(107,174,214)"
           ],
           [
            0.625,
            "rgb(66,146,198)"
           ],
           [
            0.75,
            "rgb(33,113,181)"
           ],
           [
            0.875,
            "rgb(8,81,156)"
           ],
           [
            1,
            "rgb(8,48,107)"
           ]
          ],
          "reversescale": true,
          "showscale": true
         },
         "type": "parcoords"
        }
       ],
       "layout": {
        "template": {
         "data": {
          "bar": [
           {
            "error_x": {
             "color": "#2a3f5f"
            },
            "error_y": {
             "color": "#2a3f5f"
            },
            "marker": {
             "line": {
              "color": "#E5ECF6",
              "width": 0.5
             },
             "pattern": {
              "fillmode": "overlay",
              "size": 10,
              "solidity": 0.2
             }
            },
            "type": "bar"
           }
          ],
          "barpolar": [
           {
            "marker": {
             "line": {
              "color": "#E5ECF6",
              "width": 0.5
             },
             "pattern": {
              "fillmode": "overlay",
              "size": 10,
              "solidity": 0.2
             }
            },
            "type": "barpolar"
           }
          ],
          "carpet": [
           {
            "aaxis": {
             "endlinecolor": "#2a3f5f",
             "gridcolor": "white",
             "linecolor": "white",
             "minorgridcolor": "white",
             "startlinecolor": "#2a3f5f"
            },
            "baxis": {
             "endlinecolor": "#2a3f5f",
             "gridcolor": "white",
             "linecolor": "white",
             "minorgridcolor": "white",
             "startlinecolor": "#2a3f5f"
            },
            "type": "carpet"
           }
          ],
          "choropleth": [
           {
            "colorbar": {
             "outlinewidth": 0,
             "ticks": ""
            },
            "type": "choropleth"
           }
          ],
          "contour": [
           {
            "colorbar": {
             "outlinewidth": 0,
             "ticks": ""
            },
            "colorscale": [
             [
              0,
              "#0d0887"
             ],
             [
              0.1111111111111111,
              "#46039f"
             ],
             [
              0.2222222222222222,
              "#7201a8"
             ],
             [
              0.3333333333333333,
              "#9c179e"
             ],
             [
              0.4444444444444444,
              "#bd3786"
             ],
             [
              0.5555555555555556,
              "#d8576b"
             ],
             [
              0.6666666666666666,
              "#ed7953"
             ],
             [
              0.7777777777777778,
              "#fb9f3a"
             ],
             [
              0.8888888888888888,
              "#fdca26"
             ],
             [
              1,
              "#f0f921"
             ]
            ],
            "type": "contour"
           }
          ],
          "contourcarpet": [
           {
            "colorbar": {
             "outlinewidth": 0,
             "ticks": ""
            },
            "type": "contourcarpet"
           }
          ],
          "heatmap": [
           {
            "colorbar": {
             "outlinewidth": 0,
             "ticks": ""
            },
            "colorscale": [
             [
              0,
              "#0d0887"
             ],
             [
              0.1111111111111111,
              "#46039f"
             ],
             [
              0.2222222222222222,
              "#7201a8"
             ],
             [
              0.3333333333333333,
              "#9c179e"
             ],
             [
              0.4444444444444444,
              "#bd3786"
             ],
             [
              0.5555555555555556,
              "#d8576b"
             ],
             [
              0.6666666666666666,
              "#ed7953"
             ],
             [
              0.7777777777777778,
              "#fb9f3a"
             ],
             [
              0.8888888888888888,
              "#fdca26"
             ],
             [
              1,
              "#f0f921"
             ]
            ],
            "type": "heatmap"
           }
          ],
          "heatmapgl": [
           {
            "colorbar": {
             "outlinewidth": 0,
             "ticks": ""
            },
            "colorscale": [
             [
              0,
              "#0d0887"
             ],
             [
              0.1111111111111111,
              "#46039f"
             ],
             [
              0.2222222222222222,
              "#7201a8"
             ],
             [
              0.3333333333333333,
              "#9c179e"
             ],
             [
              0.4444444444444444,
              "#bd3786"
             ],
             [
              0.5555555555555556,
              "#d8576b"
             ],
             [
              0.6666666666666666,
              "#ed7953"
             ],
             [
              0.7777777777777778,
              "#fb9f3a"
             ],
             [
              0.8888888888888888,
              "#fdca26"
             ],
             [
              1,
              "#f0f921"
             ]
            ],
            "type": "heatmapgl"
           }
          ],
          "histogram": [
           {
            "marker": {
             "pattern": {
              "fillmode": "overlay",
              "size": 10,
              "solidity": 0.2
             }
            },
            "type": "histogram"
           }
          ],
          "histogram2d": [
           {
            "colorbar": {
             "outlinewidth": 0,
             "ticks": ""
            },
            "colorscale": [
             [
              0,
              "#0d0887"
             ],
             [
              0.1111111111111111,
              "#46039f"
             ],
             [
              0.2222222222222222,
              "#7201a8"
             ],
             [
              0.3333333333333333,
              "#9c179e"
             ],
             [
              0.4444444444444444,
              "#bd3786"
             ],
             [
              0.5555555555555556,
              "#d8576b"
             ],
             [
              0.6666666666666666,
              "#ed7953"
             ],
             [
              0.7777777777777778,
              "#fb9f3a"
             ],
             [
              0.8888888888888888,
              "#fdca26"
             ],
             [
              1,
              "#f0f921"
             ]
            ],
            "type": "histogram2d"
           }
          ],
          "histogram2dcontour": [
           {
            "colorbar": {
             "outlinewidth": 0,
             "ticks": ""
            },
            "colorscale": [
             [
              0,
              "#0d0887"
             ],
             [
              0.1111111111111111,
              "#46039f"
             ],
             [
              0.2222222222222222,
              "#7201a8"
             ],
             [
              0.3333333333333333,
              "#9c179e"
             ],
             [
              0.4444444444444444,
              "#bd3786"
             ],
             [
              0.5555555555555556,
              "#d8576b"
             ],
             [
              0.6666666666666666,
              "#ed7953"
             ],
             [
              0.7777777777777778,
              "#fb9f3a"
             ],
             [
              0.8888888888888888,
              "#fdca26"
             ],
             [
              1,
              "#f0f921"
             ]
            ],
            "type": "histogram2dcontour"
           }
          ],
          "mesh3d": [
           {
            "colorbar": {
             "outlinewidth": 0,
             "ticks": ""
            },
            "type": "mesh3d"
           }
          ],
          "parcoords": [
           {
            "line": {
             "colorbar": {
              "outlinewidth": 0,
              "ticks": ""
             }
            },
            "type": "parcoords"
           }
          ],
          "pie": [
           {
            "automargin": true,
            "type": "pie"
           }
          ],
          "scatter": [
           {
            "fillpattern": {
             "fillmode": "overlay",
             "size": 10,
             "solidity": 0.2
            },
            "type": "scatter"
           }
          ],
          "scatter3d": [
           {
            "line": {
             "colorbar": {
              "outlinewidth": 0,
              "ticks": ""
             }
            },
            "marker": {
             "colorbar": {
              "outlinewidth": 0,
              "ticks": ""
             }
            },
            "type": "scatter3d"
           }
          ],
          "scattercarpet": [
           {
            "marker": {
             "colorbar": {
              "outlinewidth": 0,
              "ticks": ""
             }
            },
            "type": "scattercarpet"
           }
          ],
          "scattergeo": [
           {
            "marker": {
             "colorbar": {
              "outlinewidth": 0,
              "ticks": ""
             }
            },
            "type": "scattergeo"
           }
          ],
          "scattergl": [
           {
            "marker": {
             "colorbar": {
              "outlinewidth": 0,
              "ticks": ""
             }
            },
            "type": "scattergl"
           }
          ],
          "scattermapbox": [
           {
            "marker": {
             "colorbar": {
              "outlinewidth": 0,
              "ticks": ""
             }
            },
            "type": "scattermapbox"
           }
          ],
          "scatterpolar": [
           {
            "marker": {
             "colorbar": {
              "outlinewidth": 0,
              "ticks": ""
             }
            },
            "type": "scatterpolar"
           }
          ],
          "scatterpolargl": [
           {
            "marker": {
             "colorbar": {
              "outlinewidth": 0,
              "ticks": ""
             }
            },
            "type": "scatterpolargl"
           }
          ],
          "scatterternary": [
           {
            "marker": {
             "colorbar": {
              "outlinewidth": 0,
              "ticks": ""
             }
            },
            "type": "scatterternary"
           }
          ],
          "surface": [
           {
            "colorbar": {
             "outlinewidth": 0,
             "ticks": ""
            },
            "colorscale": [
             [
              0,
              "#0d0887"
             ],
             [
              0.1111111111111111,
              "#46039f"
             ],
             [
              0.2222222222222222,
              "#7201a8"
             ],
             [
              0.3333333333333333,
              "#9c179e"
             ],
             [
              0.4444444444444444,
              "#bd3786"
             ],
             [
              0.5555555555555556,
              "#d8576b"
             ],
             [
              0.6666666666666666,
              "#ed7953"
             ],
             [
              0.7777777777777778,
              "#fb9f3a"
             ],
             [
              0.8888888888888888,
              "#fdca26"
             ],
             [
              1,
              "#f0f921"
             ]
            ],
            "type": "surface"
           }
          ],
          "table": [
           {
            "cells": {
             "fill": {
              "color": "#EBF0F8"
             },
             "line": {
              "color": "white"
             }
            },
            "header": {
             "fill": {
              "color": "#C8D4E3"
             },
             "line": {
              "color": "white"
             }
            },
            "type": "table"
           }
          ]
         },
         "layout": {
          "annotationdefaults": {
           "arrowcolor": "#2a3f5f",
           "arrowhead": 0,
           "arrowwidth": 1
          },
          "autotypenumbers": "strict",
          "coloraxis": {
           "colorbar": {
            "outlinewidth": 0,
            "ticks": ""
           }
          },
          "colorscale": {
           "diverging": [
            [
             0,
             "#8e0152"
            ],
            [
             0.1,
             "#c51b7d"
            ],
            [
             0.2,
             "#de77ae"
            ],
            [
             0.3,
             "#f1b6da"
            ],
            [
             0.4,
             "#fde0ef"
            ],
            [
             0.5,
             "#f7f7f7"
            ],
            [
             0.6,
             "#e6f5d0"
            ],
            [
             0.7,
             "#b8e186"
            ],
            [
             0.8,
             "#7fbc41"
            ],
            [
             0.9,
             "#4d9221"
            ],
            [
             1,
             "#276419"
            ]
           ],
           "sequential": [
            [
             0,
             "#0d0887"
            ],
            [
             0.1111111111111111,
             "#46039f"
            ],
            [
             0.2222222222222222,
             "#7201a8"
            ],
            [
             0.3333333333333333,
             "#9c179e"
            ],
            [
             0.4444444444444444,
             "#bd3786"
            ],
            [
             0.5555555555555556,
             "#d8576b"
            ],
            [
             0.6666666666666666,
             "#ed7953"
            ],
            [
             0.7777777777777778,
             "#fb9f3a"
            ],
            [
             0.8888888888888888,
             "#fdca26"
            ],
            [
             1,
             "#f0f921"
            ]
           ],
           "sequentialminus": [
            [
             0,
             "#0d0887"
            ],
            [
             0.1111111111111111,
             "#46039f"
            ],
            [
             0.2222222222222222,
             "#7201a8"
            ],
            [
             0.3333333333333333,
             "#9c179e"
            ],
            [
             0.4444444444444444,
             "#bd3786"
            ],
            [
             0.5555555555555556,
             "#d8576b"
            ],
            [
             0.6666666666666666,
             "#ed7953"
            ],
            [
             0.7777777777777778,
             "#fb9f3a"
            ],
            [
             0.8888888888888888,
             "#fdca26"
            ],
            [
             1,
             "#f0f921"
            ]
           ]
          },
          "colorway": [
           "#636efa",
           "#EF553B",
           "#00cc96",
           "#ab63fa",
           "#FFA15A",
           "#19d3f3",
           "#FF6692",
           "#B6E880",
           "#FF97FF",
           "#FECB52"
          ],
          "font": {
           "color": "#2a3f5f"
          },
          "geo": {
           "bgcolor": "white",
           "lakecolor": "white",
           "landcolor": "#E5ECF6",
           "showlakes": true,
           "showland": true,
           "subunitcolor": "white"
          },
          "hoverlabel": {
           "align": "left"
          },
          "hovermode": "closest",
          "mapbox": {
           "style": "light"
          },
          "paper_bgcolor": "white",
          "plot_bgcolor": "#E5ECF6",
          "polar": {
           "angularaxis": {
            "gridcolor": "white",
            "linecolor": "white",
            "ticks": ""
           },
           "bgcolor": "#E5ECF6",
           "radialaxis": {
            "gridcolor": "white",
            "linecolor": "white",
            "ticks": ""
           }
          },
          "scene": {
           "xaxis": {
            "backgroundcolor": "#E5ECF6",
            "gridcolor": "white",
            "gridwidth": 2,
            "linecolor": "white",
            "showbackground": true,
            "ticks": "",
            "zerolinecolor": "white"
           },
           "yaxis": {
            "backgroundcolor": "#E5ECF6",
            "gridcolor": "white",
            "gridwidth": 2,
            "linecolor": "white",
            "showbackground": true,
            "ticks": "",
            "zerolinecolor": "white"
           },
           "zaxis": {
            "backgroundcolor": "#E5ECF6",
            "gridcolor": "white",
            "gridwidth": 2,
            "linecolor": "white",
            "showbackground": true,
            "ticks": "",
            "zerolinecolor": "white"
           }
          },
          "shapedefaults": {
           "line": {
            "color": "#2a3f5f"
           }
          },
          "ternary": {
           "aaxis": {
            "gridcolor": "white",
            "linecolor": "white",
            "ticks": ""
           },
           "baxis": {
            "gridcolor": "white",
            "linecolor": "white",
            "ticks": ""
           },
           "bgcolor": "#E5ECF6",
           "caxis": {
            "gridcolor": "white",
            "linecolor": "white",
            "ticks": ""
           }
          },
          "title": {
           "x": 0.05
          },
          "xaxis": {
           "automargin": true,
           "gridcolor": "white",
           "linecolor": "white",
           "ticks": "",
           "title": {
            "standoff": 15
           },
           "zerolinecolor": "white",
           "zerolinewidth": 2
          },
          "yaxis": {
           "automargin": true,
           "gridcolor": "white",
           "linecolor": "white",
           "ticks": "",
           "title": {
            "standoff": 15
           },
           "zerolinecolor": "white",
           "zerolinewidth": 2
          }
         }
        },
        "title": {
         "text": "Parallel Coordinate Plot"
        }
       }
      },
      "text/html": [
       "<div>                            <div id=\"f3bfc925-842a-460d-9a33-fb1a9144a93d\" class=\"plotly-graph-div\" style=\"height:525px; width:100%;\"></div>            <script type=\"text/javascript\">                require([\"plotly\"], function(Plotly) {                    window.PLOTLYENV=window.PLOTLYENV || {};                                    if (document.getElementById(\"f3bfc925-842a-460d-9a33-fb1a9144a93d\")) {                    Plotly.newPlot(                        \"f3bfc925-842a-460d-9a33-fb1a9144a93d\",                        [{\"dimensions\":[{\"label\":\"Objective Value\",\"range\":[0.07192480079829693,0.35273203402757647],\"values\":[0.21443050354719162,0.29433411210775373,0.08357351049780845,0.1585923619568348,0.09208958595991135,0.23093505650758744,0.0895315632224083,0.27517361268401147,0.35273203402757647,0.2849214643239975,0.0762409970164299,0.07926800362765789,0.08034391328692436,0.3438532382249832,0.08200299590826035,0.08837435692548752,0.11332080066204071,0.0785882256925106,0.1287364661693573,0.09135561063885689,0.07804465666413307,0.08892145827412605,0.08097904920578003,0.11908312067389488,0.08225952461361885,0.08475029356777668,0.07837462462484837,0.07950513623654842,0.08258026801049709,0.12005924135446548,0.07924627214670181,0.08049811348319054,0.07405714839696884,0.08715742081403732,0.08469488136470318,0.07955433987081051,0.07795154340565205,0.07706292979419231,0.08789623081684113,0.0747527789324522,0.0774317279458046,0.0733940176665783,0.07909372337162494,0.0773922424763441,0.07697259783744811,0.14054585248231888,0.18748915791511536,0.08429685123264789,0.08468027971684933,0.14796990603208543,0.08990498036146163,0.0801982343196869,0.07335403822362423,0.07442718297243119,0.07512830421328545,0.07465498372912407,0.07528278492391109,0.07767384387552738,0.08203751742839813,0.26669165939092637,0.08196538127958775,0.07829885967075825,0.07337309196591377,0.07535913549363613,0.07548421286046506,0.1454940401017666,0.08041612580418586,0.07657604813575744,0.07590967826545239,0.0751570500433445,0.07791821882128716,0.10626933127641677,0.07618685849010945,0.07840010039508342,0.07516024336218834,0.08179977983236313,0.07379421032965183,0.07569569423794746,0.07792004197835922,0.14494968503713607,0.07661283574998379,0.07713330760598183,0.07332753874361515,0.07596767023205757,0.07414759770035743,0.07748598270118237,0.08051670901477337,0.07728773094713688,0.0732130877673626,0.07276419922709465,0.07326767481863498,0.07300414182245732,0.07432681545615197,0.09209344238042831,0.07192480079829693,0.12009125426411629,0.08048251494765282,0.12553044855594636,0.08429520949721336,0.0822027113288641]},{\"label\":\"batch_size\",\"range\":[8,32],\"values\":[22,29,32,12,15,17,20,12,28,19,8,8,17,17,8,26,8,8,8,32,8,8,20,32,8,8,15,8,8,32,8,15,8,8,8,8,8,8,32,8,8,8,8,8,8,32,8,32,32,8,8,19,8,8,8,8,8,8,8,8,23,8,8,8,8,8,8,8,8,8,8,32,8,8,8,8,8,8,8,8,8,8,8,8,8,8,32,19,8,8,8,8,8,8,8,8,32,8,32,32]},{\"label\":\"learning_rate\",\"range\":[-5.0,-0.24642846795041928],\"ticktext\":[\"1e-05\",\"0.0001\",\"0.001\",\"0.01\",\"0.1\",\"0.567\"],\"tickvals\":[-5,-4,-3,-2,-1,-0.24642846795041928],\"values\":[-0.24642846795041928,-4.220027398318987,-1.4596371110197723,-3.938304446608619,-2.3762178418388107,-4.302530696739791,-1.0741201930349318,-4.767747936400011,-0.2555723137333341,-4.51163942996808,-1.8731536819729218,-1.9468647614522916,-1.972731389311942,-0.31647697940303726,-2.5012322678212415,-1.8481296029241017,-2.7549544574371305,-1.5797523015218502,-2.011056466153697,-2.443798487521404,-2.127744521992834,-2.1465642816818136,-2.006850307553891,-1.8897871674853401,-2.7585945769778597,-2.443829595592578,-1.693850902935546,-2.3082256337292844,-1.6154446705026377,-3.2317751501827114,-2.2604039294665723,-1.9291283680872084,-1.9555821820172914,-2.716495316418784,-2.8775453408372793,-2.267221925357169,-1.6402576791903563,-1.8136732298307754,-1.2323866209783483,-1.8640590823668202,-2.029078011831882,-2.394238077665589,-2.474096806667836,-2.2484036440968325,-2.113103527815103,-2.3080711181818843,-0.7605870045709825,-1.3038622650503229,-2.1137702114387933,-3.048731776352313,-2.8200059342533406,-2.254817229480562,-2.176968375939846,-2.223440288047031,-2.055139795471589,-2.224071768436482,-1.8728052069495664,-1.455452463953595,-2.646504713820672,-5.0,-1.449596824550444,-2.2265978567021056,-1.6130388347188485,-1.6440453932903139,-1.732065325778331,-3.8948459200687924,-2.2097234175104896,-2.2222989366156605,-1.6318386120184218,-2.01155560270633,-1.4310613645636137,-2.6776123634977433,-1.8387022762081453,-2.4437692476016655,-2.120307884248742,-2.0547947875919115,-1.8675568717172746,-1.8469440060392412,-1.7743420424075729,-1.2570180981103645,-1.8711048811304511,-1.8843616253766837,-1.8774710900309728,-1.8988597419466884,-1.8137711956590141,-1.629579843333479,-1.7809406923264994,-1.7589327942781836,-1.8508044295977417,-1.8484258292249063,-1.772795129256612,-1.8459803050534733,-1.7740204485144235,-3.054735611333141,-1.8762667793573116,-3.320955220412602,-1.5053560163535422,-2.863526782759532,-1.1104128652547538,-1.9503123923831003]},{\"label\":\"num_epochs\",\"range\":[3,20],\"values\":[9,5,13,17,8,14,11,13,4,8,16,11,14,20,16,11,20,13,10,18,15,6,15,17,20,9,14,18,9,20,17,15,15,14,19,12,12,15,9,15,16,20,20,20,20,3,7,12,20,3,11,20,20,20,20,20,14,14,15,20,11,13,14,14,16,20,15,20,15,19,13,12,14,20,20,9,17,17,20,20,20,18,20,20,18,17,20,18,18,18,18,18,18,15,18,13,16,3,14,20]},{\"label\":\"weight_decay\",\"range\":[-5.0,0.0],\"ticktext\":[\"1e-05\",\"0.0001\",\"0.001\",\"0.01\",\"0.1\",\"1\"],\"tickvals\":[-5,-4,-3,-2,-1,0],\"values\":[-1.3400302909429747,-4.709581939159003,-4.897077528520988,-4.090875163964497,-2.8402749067894213,-3.53927675732391,-4.001631089208201,-1.9622757404928082,-0.17183983462720334,-1.5788348674392156,-4.248323452562246,-5.0,-1.9506136917277066,-5.0,-5.0,-4.036433206762523,0.0,-4.798356255724109,0.0,-3.7844064187949886,-3.463587029288792,-5.0,-5.0,0.0,-5.0,-5.0,-3.2891681656906004,-5.0,-5.0,-5.0,-3.2693019406063395,-3.5262219753477835,-5.0,-1.3882172571929352,-3.1043012034148196,-2.878245205106575,-3.047174767028393,-2.026048933185927,-5.0,-5.0,-5.0,-3.4930488108548734,-3.9039240415504097,-2.349250223080044,-3.4618168116764827,-5.0,-5.0,-2.686893034953783,-5.0,0.0,-2.971914625287063,-3.1993108696939743,-5.0,-5.0,-5.0,-5.0,-2.8595934719679956,-2.311902160069753,-3.029904121300086,-5.0,-5.0,-5.0,-3.213695751599165,-3.087729137159715,-5.0,0.0,-1.8728863555305475,-4.090304602154083,-3.1611647421364677,-5.0,-3.2958927795525015,-1.7151619198283403,-5.0,-2.74044595774072,-5.0,-4.149732055746812,-5.0,-2.752425732916696,-1.87168735386952,0.0,-2.9178331536679574,-2.1234246178956573,-5.0,-5.0,-5.0,-2.853405265677269,-2.7833862368632083,-5.0,-5.0,-5.0,-5.0,-5.0,-5.0,-5.0,-5.0,0.0,-2.6236833949290257,-5.0,-3.0357839862869107,-1.6773776062160035]}],\"labelangle\":30,\"labelside\":\"bottom\",\"line\":{\"color\":[0.21443050354719162,0.29433411210775373,0.08357351049780845,0.1585923619568348,0.09208958595991135,0.23093505650758744,0.0895315632224083,0.27517361268401147,0.35273203402757647,0.2849214643239975,0.0762409970164299,0.07926800362765789,0.08034391328692436,0.3438532382249832,0.08200299590826035,0.08837435692548752,0.11332080066204071,0.0785882256925106,0.1287364661693573,0.09135561063885689,0.07804465666413307,0.08892145827412605,0.08097904920578003,0.11908312067389488,0.08225952461361885,0.08475029356777668,0.07837462462484837,0.07950513623654842,0.08258026801049709,0.12005924135446548,0.07924627214670181,0.08049811348319054,0.07405714839696884,0.08715742081403732,0.08469488136470318,0.07955433987081051,0.07795154340565205,0.07706292979419231,0.08789623081684113,0.0747527789324522,0.0774317279458046,0.0733940176665783,0.07909372337162494,0.0773922424763441,0.07697259783744811,0.14054585248231888,0.18748915791511536,0.08429685123264789,0.08468027971684933,0.14796990603208543,0.08990498036146163,0.0801982343196869,0.07335403822362423,0.07442718297243119,0.07512830421328545,0.07465498372912407,0.07528278492391109,0.07767384387552738,0.08203751742839813,0.26669165939092637,0.08196538127958775,0.07829885967075825,0.07337309196591377,0.07535913549363613,0.07548421286046506,0.1454940401017666,0.08041612580418586,0.07657604813575744,0.07590967826545239,0.0751570500433445,0.07791821882128716,0.10626933127641677,0.07618685849010945,0.07840010039508342,0.07516024336218834,0.08179977983236313,0.07379421032965183,0.07569569423794746,0.07792004197835922,0.14494968503713607,0.07661283574998379,0.07713330760598183,0.07332753874361515,0.07596767023205757,0.07414759770035743,0.07748598270118237,0.08051670901477337,0.07728773094713688,0.0732130877673626,0.07276419922709465,0.07326767481863498,0.07300414182245732,0.07432681545615197,0.09209344238042831,0.07192480079829693,0.12009125426411629,0.08048251494765282,0.12553044855594636,0.08429520949721336,0.0822027113288641],\"colorbar\":{\"title\":{\"text\":\"Objective Value\"}},\"colorscale\":[[0.0,\"rgb(247,251,255)\"],[0.125,\"rgb(222,235,247)\"],[0.25,\"rgb(198,219,239)\"],[0.375,\"rgb(158,202,225)\"],[0.5,\"rgb(107,174,214)\"],[0.625,\"rgb(66,146,198)\"],[0.75,\"rgb(33,113,181)\"],[0.875,\"rgb(8,81,156)\"],[1.0,\"rgb(8,48,107)\"]],\"reversescale\":true,\"showscale\":true},\"type\":\"parcoords\"}],                        {\"title\":{\"text\":\"Parallel Coordinate Plot\"},\"template\":{\"data\":{\"histogram2dcontour\":[{\"type\":\"histogram2dcontour\",\"colorbar\":{\"outlinewidth\":0,\"ticks\":\"\"},\"colorscale\":[[0.0,\"#0d0887\"],[0.1111111111111111,\"#46039f\"],[0.2222222222222222,\"#7201a8\"],[0.3333333333333333,\"#9c179e\"],[0.4444444444444444,\"#bd3786\"],[0.5555555555555556,\"#d8576b\"],[0.6666666666666666,\"#ed7953\"],[0.7777777777777778,\"#fb9f3a\"],[0.8888888888888888,\"#fdca26\"],[1.0,\"#f0f921\"]]}],\"choropleth\":[{\"type\":\"choropleth\",\"colorbar\":{\"outlinewidth\":0,\"ticks\":\"\"}}],\"histogram2d\":[{\"type\":\"histogram2d\",\"colorbar\":{\"outlinewidth\":0,\"ticks\":\"\"},\"colorscale\":[[0.0,\"#0d0887\"],[0.1111111111111111,\"#46039f\"],[0.2222222222222222,\"#7201a8\"],[0.3333333333333333,\"#9c179e\"],[0.4444444444444444,\"#bd3786\"],[0.5555555555555556,\"#d8576b\"],[0.6666666666666666,\"#ed7953\"],[0.7777777777777778,\"#fb9f3a\"],[0.8888888888888888,\"#fdca26\"],[1.0,\"#f0f921\"]]}],\"heatmap\":[{\"type\":\"heatmap\",\"colorbar\":{\"outlinewidth\":0,\"ticks\":\"\"},\"colorscale\":[[0.0,\"#0d0887\"],[0.1111111111111111,\"#46039f\"],[0.2222222222222222,\"#7201a8\"],[0.3333333333333333,\"#9c179e\"],[0.4444444444444444,\"#bd3786\"],[0.5555555555555556,\"#d8576b\"],[0.6666666666666666,\"#ed7953\"],[0.7777777777777778,\"#fb9f3a\"],[0.8888888888888888,\"#fdca26\"],[1.0,\"#f0f921\"]]}],\"heatmapgl\":[{\"type\":\"heatmapgl\",\"colorbar\":{\"outlinewidth\":0,\"ticks\":\"\"},\"colorscale\":[[0.0,\"#0d0887\"],[0.1111111111111111,\"#46039f\"],[0.2222222222222222,\"#7201a8\"],[0.3333333333333333,\"#9c179e\"],[0.4444444444444444,\"#bd3786\"],[0.5555555555555556,\"#d8576b\"],[0.6666666666666666,\"#ed7953\"],[0.7777777777777778,\"#fb9f3a\"],[0.8888888888888888,\"#fdca26\"],[1.0,\"#f0f921\"]]}],\"contourcarpet\":[{\"type\":\"contourcarpet\",\"colorbar\":{\"outlinewidth\":0,\"ticks\":\"\"}}],\"contour\":[{\"type\":\"contour\",\"colorbar\":{\"outlinewidth\":0,\"ticks\":\"\"},\"colorscale\":[[0.0,\"#0d0887\"],[0.1111111111111111,\"#46039f\"],[0.2222222222222222,\"#7201a8\"],[0.3333333333333333,\"#9c179e\"],[0.4444444444444444,\"#bd3786\"],[0.5555555555555556,\"#d8576b\"],[0.6666666666666666,\"#ed7953\"],[0.7777777777777778,\"#fb9f3a\"],[0.8888888888888888,\"#fdca26\"],[1.0,\"#f0f921\"]]}],\"surface\":[{\"type\":\"surface\",\"colorbar\":{\"outlinewidth\":0,\"ticks\":\"\"},\"colorscale\":[[0.0,\"#0d0887\"],[0.1111111111111111,\"#46039f\"],[0.2222222222222222,\"#7201a8\"],[0.3333333333333333,\"#9c179e\"],[0.4444444444444444,\"#bd3786\"],[0.5555555555555556,\"#d8576b\"],[0.6666666666666666,\"#ed7953\"],[0.7777777777777778,\"#fb9f3a\"],[0.8888888888888888,\"#fdca26\"],[1.0,\"#f0f921\"]]}],\"mesh3d\":[{\"type\":\"mesh3d\",\"colorbar\":{\"outlinewidth\":0,\"ticks\":\"\"}}],\"scatter\":[{\"fillpattern\":{\"fillmode\":\"overlay\",\"size\":10,\"solidity\":0.2},\"type\":\"scatter\"}],\"parcoords\":[{\"type\":\"parcoords\",\"line\":{\"colorbar\":{\"outlinewidth\":0,\"ticks\":\"\"}}}],\"scatterpolargl\":[{\"type\":\"scatterpolargl\",\"marker\":{\"colorbar\":{\"outlinewidth\":0,\"ticks\":\"\"}}}],\"bar\":[{\"error_x\":{\"color\":\"#2a3f5f\"},\"error_y\":{\"color\":\"#2a3f5f\"},\"marker\":{\"line\":{\"color\":\"#E5ECF6\",\"width\":0.5},\"pattern\":{\"fillmode\":\"overlay\",\"size\":10,\"solidity\":0.2}},\"type\":\"bar\"}],\"scattergeo\":[{\"type\":\"scattergeo\",\"marker\":{\"colorbar\":{\"outlinewidth\":0,\"ticks\":\"\"}}}],\"scatterpolar\":[{\"type\":\"scatterpolar\",\"marker\":{\"colorbar\":{\"outlinewidth\":0,\"ticks\":\"\"}}}],\"histogram\":[{\"marker\":{\"pattern\":{\"fillmode\":\"overlay\",\"size\":10,\"solidity\":0.2}},\"type\":\"histogram\"}],\"scattergl\":[{\"type\":\"scattergl\",\"marker\":{\"colorbar\":{\"outlinewidth\":0,\"ticks\":\"\"}}}],\"scatter3d\":[{\"type\":\"scatter3d\",\"line\":{\"colorbar\":{\"outlinewidth\":0,\"ticks\":\"\"}},\"marker\":{\"colorbar\":{\"outlinewidth\":0,\"ticks\":\"\"}}}],\"scattermapbox\":[{\"type\":\"scattermapbox\",\"marker\":{\"colorbar\":{\"outlinewidth\":0,\"ticks\":\"\"}}}],\"scatterternary\":[{\"type\":\"scatterternary\",\"marker\":{\"colorbar\":{\"outlinewidth\":0,\"ticks\":\"\"}}}],\"scattercarpet\":[{\"type\":\"scattercarpet\",\"marker\":{\"colorbar\":{\"outlinewidth\":0,\"ticks\":\"\"}}}],\"carpet\":[{\"aaxis\":{\"endlinecolor\":\"#2a3f5f\",\"gridcolor\":\"white\",\"linecolor\":\"white\",\"minorgridcolor\":\"white\",\"startlinecolor\":\"#2a3f5f\"},\"baxis\":{\"endlinecolor\":\"#2a3f5f\",\"gridcolor\":\"white\",\"linecolor\":\"white\",\"minorgridcolor\":\"white\",\"startlinecolor\":\"#2a3f5f\"},\"type\":\"carpet\"}],\"table\":[{\"cells\":{\"fill\":{\"color\":\"#EBF0F8\"},\"line\":{\"color\":\"white\"}},\"header\":{\"fill\":{\"color\":\"#C8D4E3\"},\"line\":{\"color\":\"white\"}},\"type\":\"table\"}],\"barpolar\":[{\"marker\":{\"line\":{\"color\":\"#E5ECF6\",\"width\":0.5},\"pattern\":{\"fillmode\":\"overlay\",\"size\":10,\"solidity\":0.2}},\"type\":\"barpolar\"}],\"pie\":[{\"automargin\":true,\"type\":\"pie\"}]},\"layout\":{\"autotypenumbers\":\"strict\",\"colorway\":[\"#636efa\",\"#EF553B\",\"#00cc96\",\"#ab63fa\",\"#FFA15A\",\"#19d3f3\",\"#FF6692\",\"#B6E880\",\"#FF97FF\",\"#FECB52\"],\"font\":{\"color\":\"#2a3f5f\"},\"hovermode\":\"closest\",\"hoverlabel\":{\"align\":\"left\"},\"paper_bgcolor\":\"white\",\"plot_bgcolor\":\"#E5ECF6\",\"polar\":{\"bgcolor\":\"#E5ECF6\",\"angularaxis\":{\"gridcolor\":\"white\",\"linecolor\":\"white\",\"ticks\":\"\"},\"radialaxis\":{\"gridcolor\":\"white\",\"linecolor\":\"white\",\"ticks\":\"\"}},\"ternary\":{\"bgcolor\":\"#E5ECF6\",\"aaxis\":{\"gridcolor\":\"white\",\"linecolor\":\"white\",\"ticks\":\"\"},\"baxis\":{\"gridcolor\":\"white\",\"linecolor\":\"white\",\"ticks\":\"\"},\"caxis\":{\"gridcolor\":\"white\",\"linecolor\":\"white\",\"ticks\":\"\"}},\"coloraxis\":{\"colorbar\":{\"outlinewidth\":0,\"ticks\":\"\"}},\"colorscale\":{\"sequential\":[[0.0,\"#0d0887\"],[0.1111111111111111,\"#46039f\"],[0.2222222222222222,\"#7201a8\"],[0.3333333333333333,\"#9c179e\"],[0.4444444444444444,\"#bd3786\"],[0.5555555555555556,\"#d8576b\"],[0.6666666666666666,\"#ed7953\"],[0.7777777777777778,\"#fb9f3a\"],[0.8888888888888888,\"#fdca26\"],[1.0,\"#f0f921\"]],\"sequentialminus\":[[0.0,\"#0d0887\"],[0.1111111111111111,\"#46039f\"],[0.2222222222222222,\"#7201a8\"],[0.3333333333333333,\"#9c179e\"],[0.4444444444444444,\"#bd3786\"],[0.5555555555555556,\"#d8576b\"],[0.6666666666666666,\"#ed7953\"],[0.7777777777777778,\"#fb9f3a\"],[0.8888888888888888,\"#fdca26\"],[1.0,\"#f0f921\"]],\"diverging\":[[0,\"#8e0152\"],[0.1,\"#c51b7d\"],[0.2,\"#de77ae\"],[0.3,\"#f1b6da\"],[0.4,\"#fde0ef\"],[0.5,\"#f7f7f7\"],[0.6,\"#e6f5d0\"],[0.7,\"#b8e186\"],[0.8,\"#7fbc41\"],[0.9,\"#4d9221\"],[1,\"#276419\"]]},\"xaxis\":{\"gridcolor\":\"white\",\"linecolor\":\"white\",\"ticks\":\"\",\"title\":{\"standoff\":15},\"zerolinecolor\":\"white\",\"automargin\":true,\"zerolinewidth\":2},\"yaxis\":{\"gridcolor\":\"white\",\"linecolor\":\"white\",\"ticks\":\"\",\"title\":{\"standoff\":15},\"zerolinecolor\":\"white\",\"automargin\":true,\"zerolinewidth\":2},\"scene\":{\"xaxis\":{\"backgroundcolor\":\"#E5ECF6\",\"gridcolor\":\"white\",\"linecolor\":\"white\",\"showbackground\":true,\"ticks\":\"\",\"zerolinecolor\":\"white\",\"gridwidth\":2},\"yaxis\":{\"backgroundcolor\":\"#E5ECF6\",\"gridcolor\":\"white\",\"linecolor\":\"white\",\"showbackground\":true,\"ticks\":\"\",\"zerolinecolor\":\"white\",\"gridwidth\":2},\"zaxis\":{\"backgroundcolor\":\"#E5ECF6\",\"gridcolor\":\"white\",\"linecolor\":\"white\",\"showbackground\":true,\"ticks\":\"\",\"zerolinecolor\":\"white\",\"gridwidth\":2}},\"shapedefaults\":{\"line\":{\"color\":\"#2a3f5f\"}},\"annotationdefaults\":{\"arrowcolor\":\"#2a3f5f\",\"arrowhead\":0,\"arrowwidth\":1},\"geo\":{\"bgcolor\":\"white\",\"landcolor\":\"#E5ECF6\",\"subunitcolor\":\"white\",\"showland\":true,\"showlakes\":true,\"lakecolor\":\"white\"},\"title\":{\"x\":0.05},\"mapbox\":{\"style\":\"light\"}}}},                        {\"responsive\": true}                    ).then(function(){\n",
       "                            \n",
       "var gd = document.getElementById('f3bfc925-842a-460d-9a33-fb1a9144a93d');\n",
       "var x = new MutationObserver(function (mutations, observer) {{\n",
       "        var display = window.getComputedStyle(gd).display;\n",
       "        if (!display || display === 'none') {{\n",
       "            console.log([gd, 'removed!']);\n",
       "            Plotly.purge(gd);\n",
       "            observer.disconnect();\n",
       "        }}\n",
       "}});\n",
       "\n",
       "// Listen for the removal of the full notebook cells\n",
       "var notebookContainer = gd.closest('#notebook-container');\n",
       "if (notebookContainer) {{\n",
       "    x.observe(notebookContainer, {childList: true});\n",
       "}}\n",
       "\n",
       "// Listen for the clearing of the current output cell\n",
       "var outputEl = gd.closest('.output');\n",
       "if (outputEl) {{\n",
       "    x.observe(outputEl, {childList: true});\n",
       "}}\n",
       "\n",
       "                        })                };                });            </script>        </div>"
      ]
     },
     "metadata": {},
     "output_type": "display_data"
    }
   ],
   "source": [
    "optuna.visualization.plot_parallel_coordinate(study)"
   ]
  },
  {
   "cell_type": "markdown",
   "id": "ecb11df2",
   "metadata": {},
   "source": [
    "##"
   ]
  },
  {
   "cell_type": "code",
   "execution_count": 12,
   "id": "169d8db7",
   "metadata": {},
   "outputs": [
    {
     "name": "stderr",
     "output_type": "stream",
     "text": [
      "Training ESM: 100%|███████████████████████████████████████████████████████████████████████████████████████████████████████████████████████████████████| 18/18 [00:04<00:00,  3.71epoch/s, avg_train_loss=0.00497]\n"
     ]
    },
    {
     "data": {
      "text/plain": [
       "ESM - Task ID: prithivMLmods/Spam-Text-Detect-Analysis - Subset: None"
      ]
     },
     "execution_count": 12,
     "metadata": {},
     "output_type": "execute_result"
    }
   ],
   "source": [
    "trainer = ESMTrainer(\n",
    "    weight_decay=study.best_params[\"weight_decay\"],\n",
    "    learning_rate=study.best_params[\"learning_rate\"],\n",
    "    device_name=device_name\n",
    ")\n",
    "\n",
    "esm = trainer.train_with_embeddings(\n",
    "    embedding_dataset=embedding_dataset,\n",
    "    num_epochs=study.best_params[\"num_epochs\"],\n",
    "    batch_size=study.best_params[\"batch_size\"]\n",
    ")\n",
    "\n",
    "esm"
   ]
  },
  {
   "cell_type": "code",
   "execution_count": 13,
   "id": "26de8a66",
   "metadata": {},
   "outputs": [
    {
     "data": {
      "text/plain": [
       "ESMConfig {\n",
       "  \"base_model_name\": \"google-bert/bert-base-uncased\",\n",
       "  \"developers\": null,\n",
       "  \"esm_architecture\": null,\n",
       "  \"esm_batch_size\": 8,\n",
       "  \"esm_embedding_dim\": null,\n",
       "  \"esm_learning_rate\": 0.013296373945166117,\n",
       "  \"esm_num_epochs\": 18,\n",
       "  \"esm_optimizer\": null,\n",
       "  \"esm_weight_decay\": 1e-05,\n",
       "  \"label_column\": \"Category\",\n",
       "  \"language\": null,\n",
       "  \"lm_batch_size\": null,\n",
       "  \"lm_learning_rate\": null,\n",
       "  \"lm_num_epochs\": null,\n",
       "  \"lm_optimizer\": null,\n",
       "  \"lm_weight_decay\": null,\n",
       "  \"num_examples\": 1000,\n",
       "  \"seed\": null,\n",
       "  \"streamed\": false,\n",
       "  \"task_id\": \"prithivMLmods/Spam-Text-Detect-Analysis\",\n",
       "  \"task_split\": \"train\",\n",
       "  \"task_subset\": null,\n",
       "  \"text_column\": \"Message\",\n",
       "  \"transformers_version\": \"4.47.1\"\n",
       "}"
      ]
     },
     "execution_count": 13,
     "metadata": {},
     "output_type": "execute_result"
    }
   ],
   "source": [
    "esm.config"
   ]
  }
 ],
 "metadata": {
  "kernelspec": {
   "display_name": "Python 3 (ipykernel)",
   "language": "python",
   "name": "python3"
  },
  "language_info": {
   "codemirror_mode": {
    "name": "ipython",
    "version": 3
   },
   "file_extension": ".py",
   "mimetype": "text/x-python",
   "name": "python",
   "nbconvert_exporter": "python",
   "pygments_lexer": "ipython3",
   "version": "3.11.5"
  }
 },
 "nbformat": 4,
 "nbformat_minor": 5
}
