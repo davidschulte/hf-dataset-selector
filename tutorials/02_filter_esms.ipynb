{
 "cells": [
  {
   "cell_type": "markdown",
   "id": "8c421b71",
   "metadata": {},
   "source": [
    "# Tutorial 2: Filter the pool of intermediate datasets / ESMs"
   ]
  },
  {
   "cell_type": "markdown",
   "id": "6f856210",
   "metadata": {},
   "source": [
    "The idea of hf-dataset-selector is that suitable intermediate datasets should not be selected by heuristics but numerically by their ESM-LogME score. We advise to seach a large dataset pool as possible. However, we have the option to filter for specific datasets or their ESM representation.\n",
    "\n",
    "For example, we might want to only evaluate ESMs with a specific architecture, or ESMs that are trained on a large enough (sub-)set of an intermediate dataset."
   ]
  },
  {
   "cell_type": "code",
   "execution_count": 14,
   "id": "70c3c466",
   "metadata": {},
   "outputs": [],
   "source": [
    "from hfselect import find_esm_repo_ids, fetch_esm_configs, Dataset"
   ]
  },
  {
   "cell_type": "code",
   "execution_count": 2,
   "id": "9b6e3c28",
   "metadata": {},
   "outputs": [
    {
     "name": "stdout",
     "output_type": "stream",
     "text": [
      "Found 1509 ESM repo IDs.\n"
     ]
    }
   ],
   "source": [
    "repo_ids = find_esm_repo_ids(\"bert-base-multilingual-uncased\")\n",
    "print(f\"Found {len(repo_ids)} ESM repo IDs.\")"
   ]
  },
  {
   "cell_type": "code",
   "execution_count": 3,
   "id": "6b1c7222",
   "metadata": {},
   "outputs": [
    {
     "data": {
      "application/vnd.jupyter.widget-view+json": {
       "model_id": "f9b260f28fcc4e42bec9bc5ef136b947",
       "version_major": 2,
       "version_minor": 0
      },
      "text/plain": [
       "Fetching ESM Configs:   0%|          | 0/1509 [00:00<?, ?ESM Config/s]"
      ]
     },
     "metadata": {},
     "output_type": "display_data"
    }
   ],
   "source": [
    "esm_configs = fetch_esm_configs(repo_ids)"
   ]
  },
  {
   "cell_type": "markdown",
   "id": "b77e53d9",
   "metadata": {},
   "source": [
    "## Filtering for specific datasets / ESMs"
   ]
  },
  {
   "cell_type": "markdown",
   "id": "591310cc",
   "metadata": {},
   "source": [
    "In this example, we only want to use ESMs that satisfy the following two conditions:\n",
    "1. The ESM was trained on at least 500 examples of the intermediate dataset.\n",
    "2. The name of the intermediate dataset contains the word \"review\"."
   ]
  },
  {
   "cell_type": "code",
   "execution_count": 4,
   "id": "0916d032",
   "metadata": {},
   "outputs": [
    {
     "name": "stdout",
     "output_type": "stream",
     "text": [
      "Found 20 ESMs that satisfy the conditions.\n",
      "\n",
      "davidschulte/ESM_ar_res_reviews_default\n",
      "davidschulte/ESM_yelp_review_full_yelp_review_full\n",
      "davidschulte/ESM_wongnai_reviews_default\n",
      "davidschulte/ESM_allegro_reviews_default\n",
      "davidschulte/ESM_ohidaoui__darija-reviews_default\n",
      "davidschulte/ESM_swedish_reviews_plain_text\n",
      "davidschulte/ESM_imdb_urdu_reviews_default\n",
      "davidschulte/ESM_scaredmeow__shopee-reviews-tl-stars_default\n",
      "davidschulte/ESM_turkish_product_reviews_default\n",
      "davidschulte/ESM_CATIE-AQ__french_book_reviews_fr_prompt_sentiment_analysis_default\n",
      "davidschulte/ESM_jakartaresearch__google-play-review_default\n",
      "davidschulte/ESM_Areeb123__drug_reviews_default\n",
      "davidschulte/ESM_rotten_tomatoes_default\n",
      "davidschulte/ESM_saattrupdan__womens-clothing-ecommerce-reviews_default\n",
      "davidschulte/ESM_app_reviews_default\n",
      "davidschulte/ESM_scaredmeow__shopee-reviews-tl-binary_default\n",
      "davidschulte/ESM_CATIE-AQ__french_book_reviews_fr_prompt_stars_classification_default\n",
      "davidschulte/ESM_CATIE-AQ__amazon_reviews_multi_fr_prompt_classes_classification_default\n",
      "davidschulte/ESM_m-ric__amazon_product_reviews_datafiniti_default\n",
      "davidschulte/ESM_Sharathhebbar24__app_reviews_modded_default\n"
     ]
    }
   ],
   "source": [
    "filtered_repo_ids = []\n",
    "for repo_id, esm_config in zip(repo_ids, esm_configs):\n",
    "    if esm_config.num_examples >= 500 and \"review\" in esm_config.task_id:\n",
    "        filtered_repo_ids.append(repo_id)\n",
    "        \n",
    "print(f\"Found {len(filtered_repo_ids)} ESMs that satisfy the conditions.\\n\")\n",
    "print(\"\\n\".join(filtered_repo_ids))"
   ]
  },
  {
   "cell_type": "code",
   "execution_count": 5,
   "id": "ee22fd8c",
   "metadata": {},
   "outputs": [],
   "source": [
    "from hfselect import fetch_esms"
   ]
  },
  {
   "cell_type": "code",
   "execution_count": 6,
   "id": "435a35d1",
   "metadata": {
    "scrolled": true
   },
   "outputs": [
    {
     "data": {
      "application/vnd.jupyter.widget-view+json": {
       "model_id": "44c6ef46f729436694cc5b0173bde514",
       "version_major": 2,
       "version_minor": 0
      },
      "text/plain": [
       "Fetching ESMs:   0%|          | 0/20 [00:00<?, ?ESM/s]"
      ]
     },
     "metadata": {},
     "output_type": "display_data"
    }
   ],
   "source": [
    "esms = fetch_esms(filtered_repo_ids)"
   ]
  },
  {
   "cell_type": "code",
   "execution_count": 15,
   "id": "0a9a202e",
   "metadata": {},
   "outputs": [
    {
     "data": {
      "text/plain": [
       "{'base_model_name': 'bert-base-multilingual-uncased',\n",
       " 'developers': 'David Schulte',\n",
       " 'esm_architecture': 'linear',\n",
       " 'esm_batch_size': 32,\n",
       " 'esm_learning_rate': 0.001,\n",
       " 'esm_num_epochs': 10,\n",
       " 'esm_optimizer': 'AdamW',\n",
       " 'esm_weight_decay': 0.01,\n",
       " 'label_column': 'polarity',\n",
       " 'language': None,\n",
       " 'lm_batch_size': 32,\n",
       " 'lm_learning_rate': 2e-05,\n",
       " 'lm_num_epochs': 3,\n",
       " 'lm_optimizer': 'AdamW',\n",
       " 'lm_weight_decay': 0.01,\n",
       " 'num_examples': 8364,\n",
       " 'seed': None,\n",
       " 'task_id': 'hadyelsahar/ar_res_reviews',\n",
       " 'task_split': 'train',\n",
       " 'task_subset': 'default',\n",
       " 'text_column': 'text',\n",
       " 'transformers_version': '4.36.2'}"
      ]
     },
     "execution_count": 15,
     "metadata": {},
     "output_type": "execute_result"
    }
   ],
   "source": [
    "esms[0].config"
   ]
  },
  {
   "cell_type": "markdown",
   "id": "37616683",
   "metadata": {},
   "source": [
    "## Computing a task ranking from the filtered dataset pool"
   ]
  },
  {
   "cell_type": "markdown",
   "id": "c99db5a5",
   "metadata": {},
   "source": [
    "We can use the ESMs to rank them for our target dataset, which is the IMDB dataset."
   ]
  },
  {
   "cell_type": "code",
   "execution_count": 18,
   "id": "c281ad5f",
   "metadata": {},
   "outputs": [],
   "source": [
    "from hfselect import Dataset, compute_task_ranking\n",
    "\n",
    "MODEL_NAME = \"bert-base-multilingual-uncased\"\n",
    "\n",
    "dataset = Dataset.from_hugging_face(\n",
    "    name=\"imdb\",\n",
    "    split=\"train\",\n",
    "    text_col=\"text\",\n",
    "    label_col=\"label\",\n",
    "    is_regression=False,\n",
    "    num_examples=1000,\n",
    "    seed=42\n",
    ")"
   ]
  },
  {
   "cell_type": "code",
   "execution_count": 19,
   "id": "d1e8ff08",
   "metadata": {
    "scrolled": true
   },
   "outputs": [
    {
     "data": {
      "application/vnd.jupyter.widget-view+json": {
       "model_id": "39ba5a1997c74aa8885d38ad5286dcd3",
       "version_major": 2,
       "version_minor": 0
      },
      "text/plain": [
       "Fetching ESMs:   0%|          | 0/20 [00:00<?, ?ESM/s]"
      ]
     },
     "metadata": {},
     "output_type": "display_data"
    },
    {
     "data": {
      "application/vnd.jupyter.widget-view+json": {
       "model_id": "54312873c01544258f227bea43512344",
       "version_major": 2,
       "version_minor": 0
      },
      "text/plain": [
       "Computing embeddings:   0%|          | 0/8 [00:00<?, ?batch/s]"
      ]
     },
     "metadata": {},
     "output_type": "display_data"
    },
    {
     "data": {
      "application/vnd.jupyter.widget-view+json": {
       "model_id": "7c335df33d714063a9462b045c059a4e",
       "version_major": 2,
       "version_minor": 0
      },
      "text/plain": [
       "Computing LogME:   0%|          | 0/20 [00:00<?, ?Task/s]"
      ]
     },
     "metadata": {},
     "output_type": "display_data"
    }
   ],
   "source": [
    "task_ranking = compute_task_ranking(dataset, model_name=MODEL_NAME, esm_repo_ids=filtered_repo_ids)"
   ]
  },
  {
   "cell_type": "code",
   "execution_count": 20,
   "id": "12cb9182",
   "metadata": {},
   "outputs": [
    {
     "data": {
      "text/html": [
       "<div>\n",
       "<style scoped>\n",
       "    .dataframe tbody tr th:only-of-type {\n",
       "        vertical-align: middle;\n",
       "    }\n",
       "\n",
       "    .dataframe tbody tr th {\n",
       "        vertical-align: top;\n",
       "    }\n",
       "\n",
       "    .dataframe thead th {\n",
       "        text-align: right;\n",
       "    }\n",
       "</style>\n",
       "<table border=\"1\" class=\"dataframe\">\n",
       "  <thead>\n",
       "    <tr style=\"text-align: right;\">\n",
       "      <th></th>\n",
       "      <th>Task ID</th>\n",
       "      <th>Task Subset</th>\n",
       "      <th>Text Column</th>\n",
       "      <th>Label Column</th>\n",
       "      <th>Task Split</th>\n",
       "      <th>Num Examples</th>\n",
       "      <th>ESM Architecture</th>\n",
       "      <th>Score</th>\n",
       "    </tr>\n",
       "    <tr>\n",
       "      <th>Rank</th>\n",
       "      <th></th>\n",
       "      <th></th>\n",
       "      <th></th>\n",
       "      <th></th>\n",
       "      <th></th>\n",
       "      <th></th>\n",
       "      <th></th>\n",
       "      <th></th>\n",
       "    </tr>\n",
       "  </thead>\n",
       "  <tbody>\n",
       "    <tr>\n",
       "      <th>1</th>\n",
       "      <td>cornell-movie-review-data/rotten_tomatoes</td>\n",
       "      <td>default</td>\n",
       "      <td>text</td>\n",
       "      <td>label</td>\n",
       "      <td>train</td>\n",
       "      <td>8530</td>\n",
       "      <td>linear</td>\n",
       "      <td>-0.640987</td>\n",
       "    </tr>\n",
       "    <tr>\n",
       "      <th>2</th>\n",
       "      <td>mirfan899/imdb_urdu_reviews</td>\n",
       "      <td>default</td>\n",
       "      <td>sentence</td>\n",
       "      <td>sentiment</td>\n",
       "      <td>train</td>\n",
       "      <td>10000</td>\n",
       "      <td>linear</td>\n",
       "      <td>-0.643653</td>\n",
       "    </tr>\n",
       "    <tr>\n",
       "      <th>3</th>\n",
       "      <td>Yelp/yelp_review_full</td>\n",
       "      <td>yelp_review_full</td>\n",
       "      <td>text</td>\n",
       "      <td>label</td>\n",
       "      <td>train</td>\n",
       "      <td>10000</td>\n",
       "      <td>linear</td>\n",
       "      <td>-0.646063</td>\n",
       "    </tr>\n",
       "    <tr>\n",
       "      <th>4</th>\n",
       "      <td>Sharathhebbar24/app_reviews_modded</td>\n",
       "      <td>default</td>\n",
       "      <td>review</td>\n",
       "      <td>star</td>\n",
       "      <td>train</td>\n",
       "      <td>10000</td>\n",
       "      <td>linear</td>\n",
       "      <td>-0.648600</td>\n",
       "    </tr>\n",
       "    <tr>\n",
       "      <th>5</th>\n",
       "      <td>saattrupdan/womens-clothing-ecommerce-reviews</td>\n",
       "      <td>default</td>\n",
       "      <td>review_text</td>\n",
       "      <td>recommended_ind</td>\n",
       "      <td>train</td>\n",
       "      <td>10000</td>\n",
       "      <td>linear</td>\n",
       "      <td>-0.648978</td>\n",
       "    </tr>\n",
       "    <tr>\n",
       "      <th>6</th>\n",
       "      <td>fthbrmnby/turkish_product_reviews</td>\n",
       "      <td>default</td>\n",
       "      <td>sentence</td>\n",
       "      <td>sentiment</td>\n",
       "      <td>train</td>\n",
       "      <td>10000</td>\n",
       "      <td>linear</td>\n",
       "      <td>-0.651304</td>\n",
       "    </tr>\n",
       "    <tr>\n",
       "      <th>7</th>\n",
       "      <td>Areeb123/drug_reviews</td>\n",
       "      <td>default</td>\n",
       "      <td>review</td>\n",
       "      <td>rating</td>\n",
       "      <td>train</td>\n",
       "      <td>10000</td>\n",
       "      <td>linear</td>\n",
       "      <td>-0.651694</td>\n",
       "    </tr>\n",
       "    <tr>\n",
       "      <th>8</th>\n",
       "      <td>scaredmeow/shopee-reviews-tl-stars</td>\n",
       "      <td>default</td>\n",
       "      <td>text</td>\n",
       "      <td>label</td>\n",
       "      <td>train</td>\n",
       "      <td>10000</td>\n",
       "      <td>linear</td>\n",
       "      <td>-0.653917</td>\n",
       "    </tr>\n",
       "    <tr>\n",
       "      <th>9</th>\n",
       "      <td>timpal0l/swedish_reviews</td>\n",
       "      <td>plain_text</td>\n",
       "      <td>text</td>\n",
       "      <td>label</td>\n",
       "      <td>train</td>\n",
       "      <td>10000</td>\n",
       "      <td>linear</td>\n",
       "      <td>-0.654108</td>\n",
       "    </tr>\n",
       "    <tr>\n",
       "      <th>10</th>\n",
       "      <td>scaredmeow/shopee-reviews-tl-binary</td>\n",
       "      <td>default</td>\n",
       "      <td>text</td>\n",
       "      <td>label</td>\n",
       "      <td>train</td>\n",
       "      <td>10000</td>\n",
       "      <td>linear</td>\n",
       "      <td>-0.654861</td>\n",
       "    </tr>\n",
       "    <tr>\n",
       "      <th>11</th>\n",
       "      <td>CATIE-AQ/french_book_reviews_fr_prompt_stars_c...</td>\n",
       "      <td>default</td>\n",
       "      <td>inputs</td>\n",
       "      <td>targets</td>\n",
       "      <td>train</td>\n",
       "      <td>10000</td>\n",
       "      <td>linear</td>\n",
       "      <td>-0.655304</td>\n",
       "    </tr>\n",
       "    <tr>\n",
       "      <th>12</th>\n",
       "      <td>m-ric/amazon_product_reviews_datafiniti</td>\n",
       "      <td>default</td>\n",
       "      <td>reviews.text</td>\n",
       "      <td>brand</td>\n",
       "      <td>train</td>\n",
       "      <td>6000</td>\n",
       "      <td>linear</td>\n",
       "      <td>-0.657104</td>\n",
       "    </tr>\n",
       "    <tr>\n",
       "      <th>13</th>\n",
       "      <td>jakartaresearch/google-play-review</td>\n",
       "      <td>default</td>\n",
       "      <td>text</td>\n",
       "      <td>label</td>\n",
       "      <td>train</td>\n",
       "      <td>7028</td>\n",
       "      <td>linear</td>\n",
       "      <td>-0.657140</td>\n",
       "    </tr>\n",
       "    <tr>\n",
       "      <th>14</th>\n",
       "      <td>CATIE-AQ/french_book_reviews_fr_prompt_sentime...</td>\n",
       "      <td>default</td>\n",
       "      <td>inputs</td>\n",
       "      <td>targets</td>\n",
       "      <td>train</td>\n",
       "      <td>10000</td>\n",
       "      <td>linear</td>\n",
       "      <td>-0.657640</td>\n",
       "    </tr>\n",
       "    <tr>\n",
       "      <th>15</th>\n",
       "      <td>legacy-datasets/allegro_reviews</td>\n",
       "      <td>default</td>\n",
       "      <td>text</td>\n",
       "      <td>rating</td>\n",
       "      <td>train</td>\n",
       "      <td>9577</td>\n",
       "      <td>linear</td>\n",
       "      <td>-0.658707</td>\n",
       "    </tr>\n",
       "    <tr>\n",
       "      <th>16</th>\n",
       "      <td>ohidaoui/darija-reviews</td>\n",
       "      <td>default</td>\n",
       "      <td>review</td>\n",
       "      <td>label</td>\n",
       "      <td>test</td>\n",
       "      <td>851</td>\n",
       "      <td>linear</td>\n",
       "      <td>-0.659116</td>\n",
       "    </tr>\n",
       "    <tr>\n",
       "      <th>17</th>\n",
       "      <td>sealuzh/app_reviews</td>\n",
       "      <td>default</td>\n",
       "      <td>review</td>\n",
       "      <td>package_name</td>\n",
       "      <td>train</td>\n",
       "      <td>10000</td>\n",
       "      <td>linear</td>\n",
       "      <td>-0.662692</td>\n",
       "    </tr>\n",
       "    <tr>\n",
       "      <th>18</th>\n",
       "      <td>hadyelsahar/ar_res_reviews</td>\n",
       "      <td>default</td>\n",
       "      <td>text</td>\n",
       "      <td>polarity</td>\n",
       "      <td>train</td>\n",
       "      <td>8364</td>\n",
       "      <td>linear</td>\n",
       "      <td>-0.664834</td>\n",
       "    </tr>\n",
       "    <tr>\n",
       "      <th>19</th>\n",
       "      <td>CATIE-AQ/amazon_reviews_multi_fr_prompt_classe...</td>\n",
       "      <td>default</td>\n",
       "      <td>inputs</td>\n",
       "      <td>targets</td>\n",
       "      <td>train</td>\n",
       "      <td>10000</td>\n",
       "      <td>linear</td>\n",
       "      <td>-0.667330</td>\n",
       "    </tr>\n",
       "    <tr>\n",
       "      <th>20</th>\n",
       "      <td>Wongnai/wongnai_reviews</td>\n",
       "      <td>default</td>\n",
       "      <td>review_body</td>\n",
       "      <td>star_rating</td>\n",
       "      <td>train</td>\n",
       "      <td>10000</td>\n",
       "      <td>linear</td>\n",
       "      <td>-0.668459</td>\n",
       "    </tr>\n",
       "  </tbody>\n",
       "</table>\n",
       "</div>"
      ],
      "text/plain": [
       "                                                Task ID       Task Subset  \\\n",
       "Rank                                                                        \n",
       "1             cornell-movie-review-data/rotten_tomatoes           default   \n",
       "2                           mirfan899/imdb_urdu_reviews           default   \n",
       "3                                 Yelp/yelp_review_full  yelp_review_full   \n",
       "4                    Sharathhebbar24/app_reviews_modded           default   \n",
       "5         saattrupdan/womens-clothing-ecommerce-reviews           default   \n",
       "6                     fthbrmnby/turkish_product_reviews           default   \n",
       "7                                 Areeb123/drug_reviews           default   \n",
       "8                    scaredmeow/shopee-reviews-tl-stars           default   \n",
       "9                              timpal0l/swedish_reviews        plain_text   \n",
       "10                  scaredmeow/shopee-reviews-tl-binary           default   \n",
       "11    CATIE-AQ/french_book_reviews_fr_prompt_stars_c...           default   \n",
       "12              m-ric/amazon_product_reviews_datafiniti           default   \n",
       "13                   jakartaresearch/google-play-review           default   \n",
       "14    CATIE-AQ/french_book_reviews_fr_prompt_sentime...           default   \n",
       "15                      legacy-datasets/allegro_reviews           default   \n",
       "16                              ohidaoui/darija-reviews           default   \n",
       "17                                  sealuzh/app_reviews           default   \n",
       "18                           hadyelsahar/ar_res_reviews           default   \n",
       "19    CATIE-AQ/amazon_reviews_multi_fr_prompt_classe...           default   \n",
       "20                              Wongnai/wongnai_reviews           default   \n",
       "\n",
       "       Text Column     Label Column Task Split  Num Examples ESM Architecture  \\\n",
       "Rank                                                                            \n",
       "1             text            label      train          8530           linear   \n",
       "2         sentence        sentiment      train         10000           linear   \n",
       "3             text            label      train         10000           linear   \n",
       "4           review             star      train         10000           linear   \n",
       "5      review_text  recommended_ind      train         10000           linear   \n",
       "6         sentence        sentiment      train         10000           linear   \n",
       "7           review           rating      train         10000           linear   \n",
       "8             text            label      train         10000           linear   \n",
       "9             text            label      train         10000           linear   \n",
       "10            text            label      train         10000           linear   \n",
       "11          inputs          targets      train         10000           linear   \n",
       "12    reviews.text            brand      train          6000           linear   \n",
       "13            text            label      train          7028           linear   \n",
       "14          inputs          targets      train         10000           linear   \n",
       "15            text           rating      train          9577           linear   \n",
       "16          review            label       test           851           linear   \n",
       "17          review     package_name      train         10000           linear   \n",
       "18            text         polarity      train          8364           linear   \n",
       "19          inputs          targets      train         10000           linear   \n",
       "20     review_body      star_rating      train         10000           linear   \n",
       "\n",
       "         Score  \n",
       "Rank            \n",
       "1    -0.640987  \n",
       "2    -0.643653  \n",
       "3    -0.646063  \n",
       "4    -0.648600  \n",
       "5    -0.648978  \n",
       "6    -0.651304  \n",
       "7    -0.651694  \n",
       "8    -0.653917  \n",
       "9    -0.654108  \n",
       "10   -0.654861  \n",
       "11   -0.655304  \n",
       "12   -0.657104  \n",
       "13   -0.657140  \n",
       "14   -0.657640  \n",
       "15   -0.658707  \n",
       "16   -0.659116  \n",
       "17   -0.662692  \n",
       "18   -0.664834  \n",
       "19   -0.667330  \n",
       "20   -0.668459  "
      ]
     },
     "execution_count": 20,
     "metadata": {},
     "output_type": "execute_result"
    }
   ],
   "source": [
    "task_ranking.to_pandas()"
   ]
  },
  {
   "cell_type": "code",
   "execution_count": null,
   "id": "fe969ba5",
   "metadata": {},
   "outputs": [],
   "source": []
  }
 ],
 "metadata": {
  "kernelspec": {
   "display_name": "Python 3 (ipykernel)",
   "language": "python",
   "name": "python3"
  },
  "language_info": {
   "codemirror_mode": {
    "name": "ipython",
    "version": 3
   },
   "file_extension": ".py",
   "mimetype": "text/x-python",
   "name": "python",
   "nbconvert_exporter": "python",
   "pygments_lexer": "ipython3",
   "version": "3.11.5"
  }
 },
 "nbformat": 4,
 "nbformat_minor": 5
}
