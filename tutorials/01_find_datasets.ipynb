{
 "cells": [
  {
   "cell_type": "markdown",
   "id": "91c882af",
   "metadata": {},
   "source": [
    "# Tutorial 1: Rank  intermediate datasets"
   ]
  },
  {
   "cell_type": "markdown",
   "id": "41f1469c",
   "metadata": {},
   "source": [
    "We can find suitable datasets for intermediate task transfer learning very easily."
   ]
  },
  {
   "cell_type": "code",
   "execution_count": 1,
   "id": "84513ffd0c5cc325",
   "metadata": {
    "is_executing": true
   },
   "outputs": [],
   "source": [
    "from hfselect import Dataset, compute_task_ranking"
   ]
  },
  {
   "cell_type": "markdown",
   "id": "4f3f702b",
   "metadata": {},
   "source": [
    "In this example, we will use a multilingual BERT model as base model. Our target model is the IMDB dataset."
   ]
  },
  {
   "cell_type": "code",
   "execution_count": 2,
   "id": "0021ff99",
   "metadata": {},
   "outputs": [],
   "source": [
    "MODEL_NAME = \"bert-base-multilingual-uncased\"\n",
    "\n",
    "dataset = Dataset.from_hugging_face(\n",
    "    name=\"imdb\",\n",
    "    split=\"train\",\n",
    "    text_col=\"text\",\n",
    "    label_col=\"label\",\n",
    "    is_regression=False,\n",
    "    num_examples=1000,\n",
    "    seed=42\n",
    ")"
   ]
  },
  {
   "cell_type": "markdown",
   "id": "1c528870",
   "metadata": {},
   "source": [
    "We compute the task ranking using a the following method."
   ]
  },
  {
   "cell_type": "code",
   "execution_count": 3,
   "id": "24ec3020",
   "metadata": {},
   "outputs": [
    {
     "data": {
      "application/vnd.jupyter.widget-view+json": {
       "model_id": "9bf2e1c65ad14fd285b3b0d1742fbd9f",
       "version_major": 2,
       "version_minor": 0
      },
      "text/plain": [
       "Fetching ESMs:   0%|          | 0/1509 [00:00<?, ?ESM/s]"
      ]
     },
     "metadata": {},
     "output_type": "display_data"
    },
    {
     "data": {
      "application/vnd.jupyter.widget-view+json": {
       "model_id": "519305d80e1c49579a7d11f7f8ee170c",
       "version_major": 2,
       "version_minor": 0
      },
      "text/plain": [
       "Computing embeddings:   0%|          | 0/8 [00:00<?, ?batch/s]"
      ]
     },
     "metadata": {},
     "output_type": "display_data"
    },
    {
     "data": {
      "application/vnd.jupyter.widget-view+json": {
       "model_id": "64754c7c89de4f4fa8094a27bf5e8ab1",
       "version_major": 2,
       "version_minor": 0
      },
      "text/plain": [
       "Computing LogME:   0%|          | 0/1509 [00:00<?, ?Task/s]"
      ]
     },
     "metadata": {},
     "output_type": "display_data"
    }
   ],
   "source": [
    "task_ranking = compute_task_ranking(dataset, model_name=MODEL_NAME)"
   ]
  },
  {
   "cell_type": "code",
   "execution_count": 5,
   "id": "e2304bc9",
   "metadata": {},
   "outputs": [
    {
     "name": "stdout",
     "output_type": "stream",
     "text": [
      "1509\n"
     ]
    }
   ],
   "source": [
    "print(len(task_ranking))"
   ]
  },
  {
   "cell_type": "code",
   "execution_count": 6,
   "id": "37aa387f",
   "metadata": {},
   "outputs": [
    {
     "name": "stdout",
     "output_type": "stream",
     "text": [
      "The task ranking consists of 1509 intermediate datasets.\n",
      "\n",
      "1.   davanstrien/test_imdb_embedd2                     Score: -0.618529\n",
      "2.   davanstrien/test_imdb_embedd                      Score: -0.618644\n",
      "3.   davanstrien/test1                                 Score: -0.619334\n",
      "4.   stanfordnlp/imdb                                  Score: -0.619454\n",
      "5.   stanfordnlp/sst                                   Score: -0.62995\n",
      "6.   stanfordnlp/sst                                   Score: -0.63312\n",
      "7.   kuroneko5943/snap21                               Score: -0.634365\n",
      "8.   kuroneko5943/snap21                               Score: -0.638787\n",
      "9.   kuroneko5943/snap21                               Score: -0.639068\n",
      "10.  fancyzhx/amazon_polarity                          Score: -0.639718\n",
      "...\n"
     ]
    }
   ],
   "source": [
    "print(f\"The task ranking consists of {len(task_ranking)} intermediate datasets.\\n\")\n",
    "print(task_ranking)"
   ]
  },
  {
   "cell_type": "markdown",
   "id": "92754e41",
   "metadata": {},
   "source": [
    "The ranking can be converted to Pandas dataframe for better visualization."
   ]
  },
  {
   "cell_type": "code",
   "execution_count": 7,
   "id": "8b85edfa",
   "metadata": {
    "scrolled": true
   },
   "outputs": [
    {
     "data": {
      "text/html": [
       "<div>\n",
       "<style scoped>\n",
       "    .dataframe tbody tr th:only-of-type {\n",
       "        vertical-align: middle;\n",
       "    }\n",
       "\n",
       "    .dataframe tbody tr th {\n",
       "        vertical-align: top;\n",
       "    }\n",
       "\n",
       "    .dataframe thead th {\n",
       "        text-align: right;\n",
       "    }\n",
       "</style>\n",
       "<table border=\"1\" class=\"dataframe\">\n",
       "  <thead>\n",
       "    <tr style=\"text-align: right;\">\n",
       "      <th></th>\n",
       "      <th>Task ID</th>\n",
       "      <th>Task Subset</th>\n",
       "      <th>Text Column</th>\n",
       "      <th>Label Column</th>\n",
       "      <th>Task Split</th>\n",
       "      <th>Num Examples</th>\n",
       "      <th>ESM Architecture</th>\n",
       "      <th>Score</th>\n",
       "    </tr>\n",
       "    <tr>\n",
       "      <th>Rank</th>\n",
       "      <th></th>\n",
       "      <th></th>\n",
       "      <th></th>\n",
       "      <th></th>\n",
       "      <th></th>\n",
       "      <th></th>\n",
       "      <th></th>\n",
       "      <th></th>\n",
       "    </tr>\n",
       "  </thead>\n",
       "  <tbody>\n",
       "    <tr>\n",
       "      <th>1</th>\n",
       "      <td>davanstrien/test_imdb_embedd2</td>\n",
       "      <td>default</td>\n",
       "      <td>text</td>\n",
       "      <td>label</td>\n",
       "      <td>train</td>\n",
       "      <td>10000</td>\n",
       "      <td>linear</td>\n",
       "      <td>-0.618529</td>\n",
       "    </tr>\n",
       "    <tr>\n",
       "      <th>2</th>\n",
       "      <td>davanstrien/test_imdb_embedd</td>\n",
       "      <td>default</td>\n",
       "      <td>text</td>\n",
       "      <td>label</td>\n",
       "      <td>train</td>\n",
       "      <td>10000</td>\n",
       "      <td>linear</td>\n",
       "      <td>-0.618644</td>\n",
       "    </tr>\n",
       "    <tr>\n",
       "      <th>3</th>\n",
       "      <td>davanstrien/test1</td>\n",
       "      <td>default</td>\n",
       "      <td>text</td>\n",
       "      <td>label</td>\n",
       "      <td>train</td>\n",
       "      <td>10000</td>\n",
       "      <td>linear</td>\n",
       "      <td>-0.619334</td>\n",
       "    </tr>\n",
       "    <tr>\n",
       "      <th>4</th>\n",
       "      <td>stanfordnlp/imdb</td>\n",
       "      <td>plain_text</td>\n",
       "      <td>text</td>\n",
       "      <td>label</td>\n",
       "      <td>train</td>\n",
       "      <td>10000</td>\n",
       "      <td>linear</td>\n",
       "      <td>-0.619454</td>\n",
       "    </tr>\n",
       "    <tr>\n",
       "      <th>5</th>\n",
       "      <td>stanfordnlp/sst</td>\n",
       "      <td>dictionary</td>\n",
       "      <td>phrase</td>\n",
       "      <td>label</td>\n",
       "      <td>dictionary</td>\n",
       "      <td>10000</td>\n",
       "      <td>linear</td>\n",
       "      <td>-0.629950</td>\n",
       "    </tr>\n",
       "    <tr>\n",
       "      <th>6</th>\n",
       "      <td>stanfordnlp/sst</td>\n",
       "      <td>default</td>\n",
       "      <td>sentence</td>\n",
       "      <td>label</td>\n",
       "      <td>train</td>\n",
       "      <td>8544</td>\n",
       "      <td>linear</td>\n",
       "      <td>-0.633120</td>\n",
       "    </tr>\n",
       "    <tr>\n",
       "      <th>7</th>\n",
       "      <td>kuroneko5943/snap21</td>\n",
       "      <td>CDs_and_Vinyl_5</td>\n",
       "      <td>sentence</td>\n",
       "      <td>label</td>\n",
       "      <td>train</td>\n",
       "      <td>6974</td>\n",
       "      <td>linear</td>\n",
       "      <td>-0.634365</td>\n",
       "    </tr>\n",
       "    <tr>\n",
       "      <th>8</th>\n",
       "      <td>kuroneko5943/snap21</td>\n",
       "      <td>Video_Games_5</td>\n",
       "      <td>sentence</td>\n",
       "      <td>label</td>\n",
       "      <td>train</td>\n",
       "      <td>6997</td>\n",
       "      <td>linear</td>\n",
       "      <td>-0.638787</td>\n",
       "    </tr>\n",
       "    <tr>\n",
       "      <th>9</th>\n",
       "      <td>kuroneko5943/snap21</td>\n",
       "      <td>Movies_and_TV_5</td>\n",
       "      <td>sentence</td>\n",
       "      <td>label</td>\n",
       "      <td>train</td>\n",
       "      <td>6989</td>\n",
       "      <td>linear</td>\n",
       "      <td>-0.639068</td>\n",
       "    </tr>\n",
       "    <tr>\n",
       "      <th>10</th>\n",
       "      <td>fancyzhx/amazon_polarity</td>\n",
       "      <td>amazon_polarity</td>\n",
       "      <td>content</td>\n",
       "      <td>label</td>\n",
       "      <td>train</td>\n",
       "      <td>10000</td>\n",
       "      <td>linear</td>\n",
       "      <td>-0.639718</td>\n",
       "    </tr>\n",
       "  </tbody>\n",
       "</table>\n",
       "</div>"
      ],
      "text/plain": [
       "                            Task ID      Task Subset Text Column Label Column  \\\n",
       "Rank                                                                            \n",
       "1     davanstrien/test_imdb_embedd2          default        text        label   \n",
       "2      davanstrien/test_imdb_embedd          default        text        label   \n",
       "3                 davanstrien/test1          default        text        label   \n",
       "4                  stanfordnlp/imdb       plain_text        text        label   \n",
       "5                   stanfordnlp/sst       dictionary      phrase        label   \n",
       "6                   stanfordnlp/sst          default    sentence        label   \n",
       "7               kuroneko5943/snap21  CDs_and_Vinyl_5    sentence        label   \n",
       "8               kuroneko5943/snap21    Video_Games_5    sentence        label   \n",
       "9               kuroneko5943/snap21  Movies_and_TV_5    sentence        label   \n",
       "10         fancyzhx/amazon_polarity  amazon_polarity     content        label   \n",
       "\n",
       "      Task Split  Num Examples ESM Architecture     Score  \n",
       "Rank                                                       \n",
       "1          train         10000           linear -0.618529  \n",
       "2          train         10000           linear -0.618644  \n",
       "3          train         10000           linear -0.619334  \n",
       "4          train         10000           linear -0.619454  \n",
       "5     dictionary         10000           linear -0.629950  \n",
       "6          train          8544           linear -0.633120  \n",
       "7          train          6974           linear -0.634365  \n",
       "8          train          6997           linear -0.638787  \n",
       "9          train          6989           linear -0.639068  \n",
       "10         train         10000           linear -0.639718  "
      ]
     },
     "execution_count": 7,
     "metadata": {},
     "output_type": "execute_result"
    }
   ],
   "source": [
    "df = task_ranking.to_pandas()\n",
    "df.head(10)"
   ]
  },
  {
   "cell_type": "markdown",
   "id": "b772cc03",
   "metadata": {},
   "source": [
    "Here, we see the top 10 recommended datasets by ESM-LogME. It should be noted that the top 4 datasets are all identical with the IMDB dataset (although their rows might be ordered differently).\n",
    "This is assuring because ESM-LogME was able to find the IMDB dataset just by running it through its corresponding ESM.\n",
    "The top recommendation that is not identical to our target dataset is the SST dataset."
   ]
  },
  {
   "cell_type": "code",
   "execution_count": 10,
   "id": "40f1d95b",
   "metadata": {},
   "outputs": [
    {
     "name": "stdout",
     "output_type": "stream",
     "text": [
      "1.   davanstrien/test_imdb_embedd2                     Score: -0.618529\n",
      "2.   davanstrien/test_imdb_embedd                      Score: -0.618644\n",
      "3.   davanstrien/test1                                 Score: -0.619334\n",
      "4.   stanfordnlp/imdb                                  Score: -0.619454\n",
      "5.   stanfordnlp/sst                                   Score: -0.62995\n"
     ]
    }
   ],
   "source": [
    "print(task_ranking[:5])"
   ]
  },
  {
   "cell_type": "code",
   "execution_count": 9,
   "id": "c65dcbe0",
   "metadata": {
    "scrolled": true
   },
   "outputs": [
    {
     "name": "stdout",
     "output_type": "stream",
     "text": [
      "|   Rank | Task ID                       | Task Subset     | Text Column   | Label Column   | Task Split   |   Num Examples | ESM Architecture   |     Score |\n",
      "|-------:|:------------------------------|:----------------|:--------------|:---------------|:-------------|---------------:|:-------------------|----------:|\n",
      "|      1 | davanstrien/test_imdb_embedd2 | default         | text          | label          | train        |          10000 | linear             | -0.618529 |\n",
      "|      2 | davanstrien/test_imdb_embedd  | default         | text          | label          | train        |          10000 | linear             | -0.618644 |\n",
      "|      3 | davanstrien/test1             | default         | text          | label          | train        |          10000 | linear             | -0.619334 |\n",
      "|      4 | stanfordnlp/imdb              | plain_text      | text          | label          | train        |          10000 | linear             | -0.619454 |\n",
      "|      5 | stanfordnlp/sst               | dictionary      | phrase        | label          | dictionary   |          10000 | linear             | -0.62995  |\n",
      "|      6 | stanfordnlp/sst               | default         | sentence      | label          | train        |           8544 | linear             | -0.63312  |\n",
      "|      7 | kuroneko5943/snap21           | CDs_and_Vinyl_5 | sentence      | label          | train        |           6974 | linear             | -0.634365 |\n",
      "|      8 | kuroneko5943/snap21           | Video_Games_5   | sentence      | label          | train        |           6997 | linear             | -0.638787 |\n",
      "|      9 | kuroneko5943/snap21           | Movies_and_TV_5 | sentence      | label          | train        |           6989 | linear             | -0.639068 |\n",
      "|     10 | fancyzhx/amazon_polarity      | amazon_polarity | content       | label          | train        |          10000 | linear             | -0.639718 |\n"
     ]
    }
   ],
   "source": [
    "print(df.head(10).to_markdown())"
   ]
  },
  {
   "cell_type": "code",
   "execution_count": null,
   "id": "51ec9995",
   "metadata": {},
   "outputs": [],
   "source": []
  }
 ],
 "metadata": {
  "kernelspec": {
   "display_name": "Python 3 (ipykernel)",
   "language": "python",
   "name": "python3"
  },
  "language_info": {
   "codemirror_mode": {
    "name": "ipython",
    "version": 3
   },
   "file_extension": ".py",
   "mimetype": "text/x-python",
   "name": "python",
   "nbconvert_exporter": "python",
   "pygments_lexer": "ipython3",
   "version": "3.11.5"
  }
 },
 "nbformat": 4,
 "nbformat_minor": 5
}
